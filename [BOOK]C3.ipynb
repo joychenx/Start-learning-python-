{
 "cells": [
  {
   "cell_type": "markdown",
   "id": "b5948416-4735-4385-b63e-4ab93c9df556",
   "metadata": {},
   "source": [
    "第三章 函数"
   ]
  },
  {
   "cell_type": "code",
   "execution_count": 37,
   "id": "31d928dc-b17c-4e95-846a-bd967780cfff",
   "metadata": {
    "tags": []
   },
   "outputs": [
    {
     "data": {
      "text/plain": [
       "int"
      ]
     },
     "execution_count": 37,
     "metadata": {},
     "output_type": "execute_result"
    }
   ],
   "source": [
    "type(32)"
   ]
  },
  {
   "cell_type": "markdown",
   "id": "64ffc50e-bfe2-4e91-a9b2-9b6241aa4169",
   "metadata": {},
   "source": [
    "int()可以将字符串或者浮点型转化成整型"
   ]
  },
  {
   "cell_type": "code",
   "execution_count": 38,
   "id": "ac771a41-2e39-4851-a265-e7e464a94672",
   "metadata": {
    "tags": []
   },
   "outputs": [
    {
     "data": {
      "text/plain": [
       "32"
      ]
     },
     "execution_count": 38,
     "metadata": {},
     "output_type": "execute_result"
    }
   ],
   "source": [
    "int('32')#神奇！"
   ]
  },
  {
   "cell_type": "code",
   "execution_count": 39,
   "id": "6d5d82db-b75a-44c4-93ef-f1b3db3c0f74",
   "metadata": {
    "tags": []
   },
   "outputs": [
    {
     "data": {
      "text/plain": [
       "3"
      ]
     },
     "execution_count": 39,
     "metadata": {},
     "output_type": "execute_result"
    }
   ],
   "source": [
    "int(3.999)#但只能省去不会四舍五入"
   ]
  },
  {
   "cell_type": "code",
   "execution_count": 40,
   "id": "de603055-740d-4737-92b3-ca4d2ef5681d",
   "metadata": {
    "tags": []
   },
   "outputs": [
    {
     "data": {
      "text/plain": [
       "-3"
      ]
     },
     "execution_count": 40,
     "metadata": {},
     "output_type": "execute_result"
    }
   ],
   "source": [
    "int(-3.2)"
   ]
  },
  {
   "cell_type": "markdown",
   "id": "00337707-d385-454a-9a02-235fffd210ab",
   "metadata": {},
   "source": [
    "float()可以将字符串或者整型型转化成浮点型"
   ]
  },
  {
   "cell_type": "code",
   "execution_count": 41,
   "id": "336c8c61-b7d8-40d7-b744-955762d68580",
   "metadata": {
    "tags": []
   },
   "outputs": [
    {
     "data": {
      "text/plain": [
       "32.0"
      ]
     },
     "execution_count": 41,
     "metadata": {},
     "output_type": "execute_result"
    }
   ],
   "source": [
    "float(32)"
   ]
  },
  {
   "cell_type": "code",
   "execution_count": 42,
   "id": "04842779-a0c0-463f-a190-8d1a7a8b90bb",
   "metadata": {
    "tags": []
   },
   "outputs": [
    {
     "data": {
      "text/plain": [
       "3.0"
      ]
     },
     "execution_count": 42,
     "metadata": {},
     "output_type": "execute_result"
    }
   ],
   "source": [
    "float('3')"
   ]
  },
  {
   "cell_type": "markdown",
   "id": "121a3911-c5d6-4abb-8668-c8170022b3f2",
   "metadata": {},
   "source": [
    "数学函数"
   ]
  },
  {
   "cell_type": "code",
   "execution_count": 43,
   "id": "44f1160e-f8c7-4384-94a9-a58bea2ef57d",
   "metadata": {
    "tags": []
   },
   "outputs": [],
   "source": [
    "import math"
   ]
  },
  {
   "cell_type": "code",
   "execution_count": 44,
   "id": "03f5e45d-9183-44e3-bded-299a2dcd0936",
   "metadata": {
    "tags": []
   },
   "outputs": [
    {
     "name": "stdout",
     "output_type": "stream",
     "text": [
      "<module 'math' (built-in)>\n"
     ]
    }
   ],
   "source": [
    "print(math)#输出该模块的一些信息"
   ]
  },
  {
   "cell_type": "markdown",
   "id": "58e7a737-29d7-469a-8b78-bd9e5b4cc9c6",
   "metadata": {},
   "source": [
    "要使用该模块中的函数，要使用点标记"
   ]
  },
  {
   "cell_type": "code",
   "execution_count": 45,
   "id": "1afebbe6-411e-4b7f-8e80-d1b74bcb92fb",
   "metadata": {
    "tags": []
   },
   "outputs": [
    {
     "data": {
      "text/plain": [
       "3.141592653589793"
      ]
     },
     "execution_count": 45,
     "metadata": {},
     "output_type": "execute_result"
    }
   ],
   "source": [
    "math.pi"
   ]
  },
  {
   "cell_type": "code",
   "execution_count": 46,
   "id": "5c2d650a-f403-4aac-b435-12517c3acab4",
   "metadata": {
    "tags": []
   },
   "outputs": [
    {
     "data": {
      "text/plain": [
       "0.7071067811865476"
      ]
     },
     "execution_count": 46,
     "metadata": {},
     "output_type": "execute_result"
    }
   ],
   "source": [
    "math.sin(math.pi/4)"
   ]
  },
  {
   "cell_type": "code",
   "execution_count": 47,
   "id": "abe1be6f-1dd1-41f6-8b1e-6b1bbe004d99",
   "metadata": {
    "tags": []
   },
   "outputs": [
    {
     "data": {
      "text/plain": [
       "0.7071067811865476"
      ]
     },
     "execution_count": 47,
     "metadata": {},
     "output_type": "execute_result"
    }
   ],
   "source": [
    "math.sqrt(2)/2"
   ]
  },
  {
   "cell_type": "code",
   "execution_count": 48,
   "id": "6580b73c-1e42-4351-9c88-3ccfa759b32b",
   "metadata": {
    "tags": []
   },
   "outputs": [
    {
     "data": {
      "text/plain": [
       "2.0"
      ]
     },
     "execution_count": 48,
     "metadata": {},
     "output_type": "execute_result"
    }
   ],
   "source": [
    "math.log10(100)"
   ]
  },
  {
   "cell_type": "code",
   "execution_count": 49,
   "id": "6b8e5412-160f-41f3-92c7-aaf1609b32b4",
   "metadata": {
    "tags": []
   },
   "outputs": [
    {
     "ename": "NameError",
     "evalue": "name 'x' is not defined",
     "output_type": "error",
     "traceback": [
      "\u001b[1;31m---------------------------------------------------------------------------\u001b[0m",
      "\u001b[1;31mNameError\u001b[0m                                 Traceback (most recent call last)",
      "Cell \u001b[1;32mIn[49], line 1\u001b[0m\n\u001b[1;32m----> 1\u001b[0m x\u001b[38;5;241m=\u001b[39mmath\u001b[38;5;241m.\u001b[39mexp(math\u001b[38;5;241m.\u001b[39mlog(x\u001b[38;5;241m+\u001b[39m\u001b[38;5;241m1\u001b[39m))\n",
      "\u001b[1;31mNameError\u001b[0m: name 'x' is not defined"
     ]
    }
   ],
   "source": [
    "x=math.exp(math.log(x+1))"
   ]
  },
  {
   "cell_type": "markdown",
   "id": "93b98cb4-b546-4f9f-9ce9-e638bc51ebeb",
   "metadata": {},
   "source": [
    "???"
   ]
  },
  {
   "cell_type": "code",
   "execution_count": 53,
   "id": "38ae4554-977f-4d02-832e-2d7c07b258bf",
   "metadata": {
    "tags": []
   },
   "outputs": [],
   "source": [
    "def print_lyrilcs():\n",
    "    print(\"네가 좋아. 너무 좋아~\")"
   ]
  },
  {
   "cell_type": "code",
   "execution_count": 54,
   "id": "22689859-18c9-4923-a5bc-c09d9f9f99c3",
   "metadata": {
    "tags": []
   },
   "outputs": [
    {
     "name": "stdout",
     "output_type": "stream",
     "text": [
      "네가 좋아. 너무 좋아~\n"
     ]
    }
   ],
   "source": [
    "print_lyrilcs()"
   ]
  },
  {
   "cell_type": "markdown",
   "id": "2fcdda8f-04ac-4d79-a84a-328f6a410763",
   "metadata": {},
   "source": [
    "定义函数其实就是创建一个同名的变量???print_lyrics的值就是一个对象，该对象是函数类型??"
   ]
  },
  {
   "cell_type": "code",
   "execution_count": 55,
   "id": "71228311-877d-4ab4-82aa-e9bb0bf249c1",
   "metadata": {
    "tags": []
   },
   "outputs": [],
   "source": [
    "def repeat_lyrics():\n",
    "    print_lyrilcs()\n",
    "    print_lyrilcs()"
   ]
  },
  {
   "cell_type": "code",
   "execution_count": 56,
   "id": "e08e5b5e-ed98-4b6c-98d0-c7061e852109",
   "metadata": {
    "tags": []
   },
   "outputs": [
    {
     "name": "stdout",
     "output_type": "stream",
     "text": [
      "네가 좋아. 너무 좋아~\n",
      "네가 좋아. 너무 좋아~\n"
     ]
    }
   ],
   "source": [
    "repeat_lyrics()"
   ]
  },
  {
   "cell_type": "markdown",
   "id": "c993c7dc-99eb-4a66-bb20-983f3aa7ec09",
   "metadata": {},
   "source": [
    "练习3.1-3.2  如果改变函数定义/调用顺序会怎么样？eg1+2：为了不与上已经执行函数重复，稍加修改"
   ]
  },
  {
   "cell_type": "markdown",
   "id": "daff8f39-0017-45eb-b380-4cfc44cae205",
   "metadata": {},
   "source": [
    "ge1：将调用放在定义之前"
   ]
  },
  {
   "cell_type": "code",
   "execution_count": 59,
   "id": "15333108-0fd6-4d96-af6e-207f4d7ee1b7",
   "metadata": {
    "tags": []
   },
   "outputs": [
    {
     "ename": "NameError",
     "evalue": "name 'repeat_lyrics1' is not defined",
     "output_type": "error",
     "traceback": [
      "\u001b[1;31m---------------------------------------------------------------------------\u001b[0m",
      "\u001b[1;31mNameError\u001b[0m                                 Traceback (most recent call last)",
      "Cell \u001b[1;32mIn[59], line 1\u001b[0m\n\u001b[1;32m----> 1\u001b[0m repeat_lyrics1()\n\u001b[0;32m      2\u001b[0m \u001b[38;5;28;01mdef\u001b[39;00m \u001b[38;5;21mprint_lyrilcs1\u001b[39m():\n\u001b[0;32m      3\u001b[0m     \u001b[38;5;28mprint\u001b[39m(\u001b[38;5;124m\"\u001b[39m\u001b[38;5;124m네가 좋아. 너무 좋아~\u001b[39m\u001b[38;5;124m\"\u001b[39m)\n",
      "\u001b[1;31mNameError\u001b[0m: name 'repeat_lyrics1' is not defined"
     ]
    }
   ],
   "source": [
    "repeat_lyrics1()\n",
    "def print_lyrilcs1():\n",
    "    print(\"네가 좋아. 너무 좋아~\")\n",
    "def repeat_lyrics1():\n",
    "    print_lyrilcs1()\n",
    "    print_lyrilcs1()"
   ]
  },
  {
   "cell_type": "markdown",
   "id": "b79228a8-eed4-4503-ba42-d857c9202166",
   "metadata": {
    "tags": []
   },
   "source": [
    "eg2：将repeat函数的定义放在后面————无影响??函数之间的互相调用顺序无关？\n",
    "两个函数均被定义但没有调用之前内部不会执行，直到repeat_lyrics2()开始执行，repeat内部再调用lyrics时它已经被定义过了"
   ]
  },
  {
   "cell_type": "code",
   "execution_count": 61,
   "id": "c1f1aba6-de6f-4d80-82e2-a00c5db6616b",
   "metadata": {
    "tags": []
   },
   "outputs": [
    {
     "name": "stdout",
     "output_type": "stream",
     "text": [
      "네가 좋아. 너무 좋아~\n",
      "네가 좋아. 너무 좋아~\n"
     ]
    }
   ],
   "source": [
    "def repeat_lyrics2():\n",
    "    print_lyrilcs2()\n",
    "    print_lyrilcs2()\n",
    "def print_lyrilcs2():\n",
    "    print(\"네가 좋아. 너무 좋아~\")\n",
    "repeat_lyrics2()"
   ]
  },
  {
   "cell_type": "code",
   "execution_count": 1,
   "id": "e5d730a2-c582-44a7-942a-826250e55a77",
   "metadata": {
    "tags": []
   },
   "outputs": [],
   "source": [
    "def print_twice(bruce):\n",
    "    print(bruce)\n",
    "    print(bruce)"
   ]
  },
  {
   "cell_type": "code",
   "execution_count": 3,
   "id": "3cc38a5e-6e93-4ef8-b583-9a986ea8c556",
   "metadata": {
    "tags": []
   },
   "outputs": [
    {
     "name": "stdout",
     "output_type": "stream",
     "text": [
      "好困好困好困好困\n",
      "好困好困好困好困\n"
     ]
    }
   ],
   "source": [
    "print_twice('好困'*4)"
   ]
  },
  {
   "cell_type": "code",
   "execution_count": 7,
   "id": "53b06ff8-82ce-4a54-ab25-0d71880c9883",
   "metadata": {
    "tags": []
   },
   "outputs": [
    {
     "name": "stdout",
     "output_type": "stream",
     "text": [
      "4.605170185988092\n",
      "4.605170185988092\n"
     ]
    }
   ],
   "source": [
    "import math\n",
    "num=100\n",
    "print_twice(math.log(num))#默认ln"
   ]
  },
  {
   "cell_type": "code",
   "execution_count": 8,
   "id": "f56222f9-7727-4e5b-a586-d81f78a13ab4",
   "metadata": {
    "tags": []
   },
   "outputs": [
    {
     "name": "stdout",
     "output_type": "stream",
     "text": [
      "2.0\n",
      "2.0\n"
     ]
    }
   ],
   "source": [
    "import math\n",
    "num=100\n",
    "print_twice(math.log10(num))"
   ]
  },
  {
   "cell_type": "code",
   "execution_count": 11,
   "id": "374e7397-aa50-4af1-98b2-09303c4d86a8",
   "metadata": {
    "tags": []
   },
   "outputs": [],
   "source": [
    "def cat_twice(part1,part2):\n",
    "    cat=part1+part2\n",
    "    print_twice(cat)"
   ]
  },
  {
   "cell_type": "code",
   "execution_count": 13,
   "id": "069bc7d0-bb45-4de2-a797-b32a5be267e4",
   "metadata": {
    "tags": []
   },
   "outputs": [
    {
     "name": "stdout",
     "output_type": "stream",
     "text": [
      "机智的医生生活\n",
      "机智的医生生活\n"
     ]
    }
   ],
   "source": [
    "line1='机智的'\n",
    "line2='医生生活'\n",
    "cat_twice(line1,line2)"
   ]
  },
  {
   "cell_type": "markdown",
   "id": "989870b0-fbcd-428a-a7c7-1dfae4f09056",
   "metadata": {},
   "source": [
    "无返回值函数的结果如果赋值给变量就会得到一个特殊值None                                                        "
   ]
  },
  {
   "cell_type": "code",
   "execution_count": 14,
   "id": "9619df00-cd21-4d9d-9ab7-6d1acf9f7986",
   "metadata": {
    "tags": []
   },
   "outputs": [
    {
     "name": "stdout",
     "output_type": "stream",
     "text": [
      "猪\n",
      "猪\n"
     ]
    }
   ],
   "source": [
    "result=print_twice('猪')"
   ]
  },
  {
   "cell_type": "code",
   "execution_count": 16,
   "id": "ee6e9347-c045-4560-825e-96c1dc0d7ed1",
   "metadata": {
    "tags": []
   },
   "outputs": [
    {
     "name": "stdout",
     "output_type": "stream",
     "text": [
      "None\n"
     ]
    }
   ],
   "source": [
    "print(result)"
   ]
  },
  {
   "cell_type": "code",
   "execution_count": 17,
   "id": "ef48caed-f37a-49ff-8946-534837ea5978",
   "metadata": {
    "tags": []
   },
   "outputs": [
    {
     "data": {
      "text/plain": [
       "NoneType"
      ]
     },
     "execution_count": 17,
     "metadata": {},
     "output_type": "execute_result"
    }
   ],
   "source": [
    "type(result)#None是一个特殊值，与字符串'None'不一样，类型是"
   ]
  },
  {
   "cell_type": "markdown",
   "id": "30339573-ca25-47f7-91b3-032e51ad4829",
   "metadata": {},
   "source": [
    "练习3.3-3.5"
   ]
  },
  {
   "cell_type": "code",
   "execution_count": 40,
   "id": "f4e52aaa-aac8-4810-b8a9-893d268712d0",
   "metadata": {
    "tags": []
   },
   "outputs": [],
   "source": [
    "def right_justify(s):\n",
    "    strlen=len(s)\n",
    "    print(strlen)\n",
    "    print('1'*70)\n",
    "    print(' '*(70-strlen),end='')#默认结尾换行，必须修改\n",
    "    print(s)"
   ]
  },
  {
   "cell_type": "code",
   "execution_count": 41,
   "id": "d6b94ad2-31cf-448f-91e9-5bfb2b3941b5",
   "metadata": {
    "tags": []
   },
   "outputs": [
    {
     "name": "stdout",
     "output_type": "stream",
     "text": [
      "6\n",
      "1111111111111111111111111111111111111111111111111111111111111111111111\n",
      "                                                                hahaha\n"
     ]
    }
   ],
   "source": [
    "right_justify('hahaha')"
   ]
  },
  {
   "cell_type": "code",
   "execution_count": 39,
   "id": "1abcc880-2262-438b-99cf-3b2e4b972ded",
   "metadata": {
    "tags": []
   },
   "outputs": [
    {
     "name": "stdout",
     "output_type": "stream",
     "text": [
      "                                                                 hahaha\n"
     ]
    }
   ],
   "source": [
    "def right_justify2(s):\n",
    "    strlen=len(s)\n",
    "    print(' '*(70-strlen),s)\n",
    "right_justify2('hahaha')"
   ]
  },
  {
   "cell_type": "markdown",
   "id": "4babacd2-5fe1-430d-9076-817928ae328a",
   "metadata": {},
   "source": [
    "练习3.4"
   ]
  },
  {
   "cell_type": "code",
   "execution_count": 43,
   "id": "97388e8e-9679-4f6d-b318-efb6d59f6f09",
   "metadata": {
    "tags": []
   },
   "outputs": [
    {
     "name": "stdout",
     "output_type": "stream",
     "text": [
      "joy\n",
      "joy\n"
     ]
    }
   ],
   "source": [
    "#①\n",
    "def do_twice(f):\n",
    "    f()\n",
    "    f()\n",
    "def print_name():\n",
    "    print('joy')\n",
    "do_twice(print_name)"
   ]
  },
  {
   "cell_type": "code",
   "execution_count": 44,
   "id": "9d6b793a-be66-48c9-9255-2ef26411edd9",
   "metadata": {
    "tags": []
   },
   "outputs": [
    {
     "name": "stdout",
     "output_type": "stream",
     "text": [
      "joy\n",
      "joy\n"
     ]
    }
   ],
   "source": [
    "#②\n",
    "def do_twice(f,a):\n",
    "    f(a)\n",
    "    f(a)\n",
    "def print_name(name):\n",
    "    print(name)\n",
    "do_twice(print_name,'joy')"
   ]
  },
  {
   "cell_type": "code",
   "execution_count": 47,
   "id": "a1adc4c7-5c77-4d20-8faf-0172d5a9420c",
   "metadata": {
    "tags": []
   },
   "outputs": [
    {
     "ename": "TypeError",
     "evalue": "print_twice() missing 1 required positional argument: 's'",
     "output_type": "error",
     "traceback": [
      "\u001b[1;31m---------------------------------------------------------------------------\u001b[0m",
      "\u001b[1;31mTypeError\u001b[0m                                 Traceback (most recent call last)",
      "Cell \u001b[1;32mIn[47], line 7\u001b[0m\n\u001b[0;32m      5\u001b[0m     print_name(s)\n\u001b[0;32m      6\u001b[0m     print_name(s)\n\u001b[1;32m----> 7\u001b[0m do_twice(print_twice(),\u001b[38;5;124m'\u001b[39m\u001b[38;5;124mjoe\u001b[39m\u001b[38;5;124m'\u001b[39m)\n",
      "\u001b[1;31mTypeError\u001b[0m: print_twice() missing 1 required positional argument: 's'"
     ]
    }
   ],
   "source": [
    "#③-①\n",
    "def print_name(name):\n",
    "    print(name)\n",
    "def print_twice(s):\n",
    "    print_name(s)\n",
    "    print_name(s)\n",
    "do_twice(print_twice(),'joe')#函数名不要带()"
   ]
  },
  {
   "cell_type": "code",
   "execution_count": 52,
   "id": "9f6c8920-b31e-47df-8d11-20fbdbc6420d",
   "metadata": {
    "tags": []
   },
   "outputs": [
    {
     "name": "stdout",
     "output_type": "stream",
     "text": [
      "joe\n",
      "joe\n",
      "joe\n",
      "joe\n"
     ]
    }
   ],
   "source": [
    "#③-①\n",
    "def print_name(name):\n",
    "    print(name)\n",
    "def print_twice(s):\n",
    "    print_name(s)\n",
    "    print_name(s)\n",
    "#如前\n",
    "#def do_twice(f,a):\n",
    "#     f(a)\n",
    "#     f(a)\n",
    "#修改\n",
    "def do_twice(a):\n",
    "    print_twice(a)\n",
    "    print_twice(a)\n",
    "do_twice('joe')"
   ]
  },
  {
   "cell_type": "code",
   "execution_count": 55,
   "id": "3abda386-690a-43d1-89cc-d5f4ba8dac2a",
   "metadata": {
    "tags": []
   },
   "outputs": [
    {
     "name": "stdout",
     "output_type": "stream",
     "text": [
      "joy\n",
      "joy\n",
      "joy\n",
      "joy\n"
     ]
    }
   ],
   "source": [
    "#⑤\n",
    "#do_twice改回来\n",
    "def do_twice(f,a):\n",
    "    f(a)\n",
    "    f(a)\n",
    "def do_four(f,s):\n",
    "    do_twice(f,s)\n",
    "    do_twice(f,s)    \n",
    "do_four(print_name,'joy')"
   ]
  },
  {
   "cell_type": "code",
   "execution_count": 57,
   "id": "b31c31c0-0f66-4ae0-b7f5-ff535b0a8f6d",
   "metadata": {
    "tags": []
   },
   "outputs": [
    {
     "name": "stdout",
     "output_type": "stream",
     "text": [
      "joe\n",
      "joe\n",
      "joe\n",
      "joe\n"
     ]
    }
   ],
   "source": [
    "#⑤另法\n",
    "def do_four(f,s):\n",
    "    for x in range(0,4):\n",
    "        f(s)\n",
    "do_four(print_name,'joe')"
   ]
  },
  {
   "cell_type": "markdown",
   "id": "41101a3c-3ab5-4852-b2cc-63c518e2e623",
   "metadata": {},
   "source": [
    "练习3.5"
   ]
  },
  {
   "cell_type": "code",
   "execution_count": 58,
   "id": "f0ac604f-cc8e-45ba-95b0-16b3935c7b6d",
   "metadata": {
    "tags": []
   },
   "outputs": [
    {
     "name": "stdout",
     "output_type": "stream",
     "text": [
      "+\n",
      "----+\n",
      "----+\n",
      "|\n",
      "    |\n",
      "    |\n",
      "+\n",
      "----+\n",
      "----+\n",
      "|\n",
      "    |\n",
      "    |\n",
      "+\n",
      "----+\n",
      "----+\n"
     ]
    }
   ],
   "source": [
    "def do_twice(f,a):\n",
    "    f(a)\n",
    "    f(a)\n",
    "def do_four(f,s):\n",
    "    do_twice(f,s)\n",
    "    do_twice(f,s)   \n",
    "def draw_line1():\n",
    "    print('+')\n",
    "    do_twice(print,'----+')\n",
    "def draw_line2():\n",
    "    print('|')\n",
    "    do_twice(print,'    |')\n",
    "draw_line1()\n",
    "for x in range(0,2):\n",
    "    draw_line2()\n",
    "    draw_line1()"
   ]
  },
  {
   "cell_type": "code",
   "execution_count": 62,
   "id": "4d1c0cff-0648-4bad-8478-74c0ffcf57f0",
   "metadata": {
    "tags": []
   },
   "outputs": [
    {
     "name": "stdout",
     "output_type": "stream",
     "text": [
      "+----+----+\n",
      "|    |    |\n",
      "+----+----+\n",
      "|    |    |\n",
      "+----+----+\n"
     ]
    }
   ],
   "source": [
    "def print_twice(f,a):\n",
    "    print(a,end='')\n",
    "    print(a,end='')\n",
    "def print_four(f,s):\n",
    "    print_twice(f,s)\n",
    "    print_twice(f,s)   \n",
    "def draw_line1():\n",
    "    print('+',end='')\n",
    "    print_twice(print,'----+')\n",
    "    print()\n",
    "def draw_line2():\n",
    "    print('|',end='')\n",
    "    print_twice(print,'    |')\n",
    "    print()\n",
    "draw_line1()\n",
    "for x in range(0,2):\n",
    "    draw_line2()\n",
    "    draw_line1()"
   ]
  },
  {
   "cell_type": "markdown",
   "id": "4e09593e-765c-4fd1-b44e-e88f4498cd34",
   "metadata": {},
   "source": [
    " 另法：用list？"
   ]
  },
  {
   "cell_type": "code",
   "execution_count": 69,
   "id": "26e56eeb-650d-400d-aa38-90fb9b5f68fd",
   "metadata": {
    "tags": []
   },
   "outputs": [
    {
     "name": "stdout",
     "output_type": "stream",
     "text": [
      "+----+----+\n",
      "|    |    |\n",
      "|    |    |\n",
      "|    |    |\n",
      "|    |    |\n",
      "+----+----+\n",
      "|    |    |\n",
      "|    |    |\n",
      "|    |    |\n",
      "|    |    |\n",
      "+----+----+\n"
     ]
    }
   ],
   "source": [
    "x = 0\n",
    "y = 0\n",
    "for x in range(0,11):#注意这两行都必须范围到11！半开！\n",
    "    for y in range(0,11):#\n",
    "        if x in [0,5,10]:\n",
    "            if y in [0,5,10]:\n",
    "                print('+',end='')\n",
    "            else:\n",
    "                print('-',end='')\n",
    "        else:\n",
    "            if y in [0,5,10]:\n",
    "                print('|',end='')\n",
    "            else:\n",
    "                print(' ',end='')\n",
    "    print()  "
   ]
  }
 ],
 "metadata": {
  "kernelspec": {
   "display_name": "Python 3 (ipykernel)",
   "language": "python",
   "name": "python3"
  },
  "language_info": {
   "codemirror_mode": {
    "name": "ipython",
    "version": 3
   },
   "file_extension": ".py",
   "mimetype": "text/x-python",
   "name": "python",
   "nbconvert_exporter": "python",
   "pygments_lexer": "ipython3",
   "version": "3.11.4"
  }
 },
 "nbformat": 4,
 "nbformat_minor": 5
}
