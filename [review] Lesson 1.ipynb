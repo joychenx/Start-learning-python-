{
 "cells": [
  {
   "cell_type": "code",
   "execution_count": 1,
   "id": "d240fdb3-cd3d-4d5f-aec3-4601cf8c4334",
   "metadata": {
    "tags": []
   },
   "outputs": [
    {
     "data": {
      "text/plain": [
       "3"
      ]
     },
     "execution_count": 1,
     "metadata": {},
     "output_type": "execute_result"
    }
   ],
   "source": [
    "1 + 2"
   ]
  },
  {
   "cell_type": "code",
   "execution_count": 2,
   "id": "dfce13d5-fc88-4e2b-990e-27075d377c09",
   "metadata": {
    "tags": []
   },
   "outputs": [
    {
     "name": "stdout",
     "output_type": "stream",
     "text": [
      "hello,world!\n"
     ]
    }
   ],
   "source": [
    "print(\"hello,world!\")"
   ]
  },
  {
   "cell_type": "code",
   "execution_count": 3,
   "id": "9cad29ab-ae17-4105-884b-9f899641f465",
   "metadata": {
    "tags": []
   },
   "outputs": [
    {
     "name": "stdout",
     "output_type": "stream",
     "text": [
      "3\n"
     ]
    }
   ],
   "source": [
    "print(1 + 2)"
   ]
  },
  {
   "cell_type": "code",
   "execution_count": 4,
   "id": "b9ce6037-a361-4526-a00d-13df605f839f",
   "metadata": {
    "tags": []
   },
   "outputs": [
    {
     "name": "stdin",
     "output_type": "stream",
     "text": [
      "Please input your name? yg\n"
     ]
    }
   ],
   "source": [
    "name = input('Please input your name?')"
   ]
  },
  {
   "cell_type": "code",
   "execution_count": 5,
   "id": "d36ccca1-6468-4908-890d-1cc3d62ed9ba",
   "metadata": {
    "tags": []
   },
   "outputs": [
    {
     "data": {
      "text/plain": [
       "'yg'"
      ]
     },
     "execution_count": 5,
     "metadata": {},
     "output_type": "execute_result"
    }
   ],
   "source": [
    "name"
   ]
  },
  {
   "cell_type": "code",
   "execution_count": 6,
   "id": "75dd056c-fbe6-4382-8de6-2d04508ea29b",
   "metadata": {
    "tags": []
   },
   "outputs": [
    {
     "name": "stdout",
     "output_type": "stream",
     "text": [
      "yg\n"
     ]
    }
   ],
   "source": [
    "print(name)"
   ]
  },
  {
   "cell_type": "code",
   "execution_count": 7,
   "id": "3a610bd1-32c6-49e1-9d32-70701bfefada",
   "metadata": {
    "tags": []
   },
   "outputs": [
    {
     "name": "stdout",
     "output_type": "stream",
     "text": [
      "hello,yg!\n"
     ]
    }
   ],
   "source": [
    "print('hello,{}!'.format(name))"
   ]
  },
  {
   "cell_type": "code",
   "execution_count": 2,
   "id": "e9cd8fc7-2ab4-4814-b640-6d07103c9201",
   "metadata": {
    "tags": []
   },
   "outputs": [
    {
     "name": "stdin",
     "output_type": "stream",
     "text": [
      "plese input a number: 1.2\n"
     ]
    },
    {
     "name": "stdout",
     "output_type": "stream",
     "text": [
      "The square of 1.2 is 1.44.\n"
     ]
    }
   ],
   "source": [
    "number = float(input('plese input a number:'))\n",
    "print('The square of {} is {}.'.format(number,number*number))"
   ]
  },
  {
   "cell_type": "code",
   "execution_count": 3,
   "id": "f6c42878-c5f9-4821-8190-76dcb8a7fb2a",
   "metadata": {
    "tags": []
   },
   "outputs": [
    {
     "name": "stdin",
     "output_type": "stream",
     "text": [
      "Please input a number: 1.3\n",
      "Please input another number: 2.4\n"
     ]
    },
    {
     "name": "stdout",
     "output_type": "stream",
     "text": [
      "1.3 + 2.4 = 3.7\n"
     ]
    }
   ],
   "source": [
    "a = float(input('Please input a number:'))\n",
    "b = float(input('Please input another number:'))\n",
    "print('{} + {} = {}'.format(a, b, a + b))"
   ]
  },
  {
   "cell_type": "code",
   "execution_count": 4,
   "id": "821c6e00-1589-49f0-955a-72f0d46ceda2",
   "metadata": {
    "tags": []
   },
   "outputs": [
    {
     "name": "stdout",
     "output_type": "stream",
     "text": [
      "1.3 * 1.3 * 1.3 = 2.1970000000000005\n"
     ]
    }
   ],
   "source": [
    "print('{} * {} * {} = {}'.format(a , a , a, a * a * a))"
   ]
  },
  {
   "cell_type": "code",
   "execution_count": 5,
   "id": "f4ce7df9-3605-44d6-87d1-27ca7fdd1efb",
   "metadata": {
    "tags": []
   },
   "outputs": [
    {
     "name": "stdout",
     "output_type": "stream",
     "text": [
      "1.3 * 1.3 * 1.3 =2.1970000000000005\n"
     ]
    }
   ],
   "source": [
    "print('{0} * {0} * {0} ={1}'.format(a, a * a * a))"
   ]
  },
  {
   "cell_type": "code",
   "execution_count": 6,
   "id": "c5bb6840-1711-45ea-a9e1-113f837375a1",
   "metadata": {
    "tags": []
   },
   "outputs": [
    {
     "name": "stdout",
     "output_type": "stream",
     "text": [
      "1.3 * 1.3 * 1.3 =2.1970000000000005\n"
     ]
    }
   ],
   "source": [
    "print(f'{a} * {a} * {a} ={a * a * a}')"
   ]
  },
  {
   "cell_type": "code",
   "execution_count": 7,
   "id": "240fd917-a128-40ac-96d9-a9c4274b08e3",
   "metadata": {
    "tags": []
   },
   "outputs": [
    {
     "data": {
      "text/plain": [
       "256"
      ]
     },
     "execution_count": 7,
     "metadata": {},
     "output_type": "execute_result"
    }
   ],
   "source": [
    "2 ** 8"
   ]
  },
  {
   "cell_type": "code",
   "execution_count": 8,
   "id": "aeb57a2e-8f8d-4edb-ab16-f716104637e7",
   "metadata": {
    "tags": []
   },
   "outputs": [
    {
     "data": {
      "text/plain": [
       "4294967296"
      ]
     },
     "execution_count": 8,
     "metadata": {},
     "output_type": "execute_result"
    }
   ],
   "source": [
    "2 ** 32"
   ]
  },
  {
   "cell_type": "code",
   "execution_count": 9,
   "id": "4b8d80e0-b54b-48f2-a3fe-56d8cca5a3d7",
   "metadata": {
    "tags": []
   },
   "outputs": [
    {
     "data": {
      "text/plain": [
       "1267650600228229401496703205376"
      ]
     },
     "execution_count": 9,
     "metadata": {},
     "output_type": "execute_result"
    }
   ],
   "source": [
    "2 ** 100"
   ]
  },
  {
   "cell_type": "code",
   "execution_count": 10,
   "id": "7b79f2a9-8db7-4f63-a638-c79c975c418b",
   "metadata": {
    "tags": []
   },
   "outputs": [
    {
     "data": {
      "text/plain": [
       "0.6666666666666666"
      ]
     },
     "execution_count": 10,
     "metadata": {},
     "output_type": "execute_result"
    }
   ],
   "source": [
    "2 / 3"
   ]
  },
  {
   "cell_type": "code",
   "execution_count": 11,
   "id": "7b73431f-b484-458e-a93a-0c84e488a7af",
   "metadata": {
    "tags": []
   },
   "outputs": [
    {
     "data": {
      "text/plain": [
       "0"
      ]
     },
     "execution_count": 11,
     "metadata": {},
     "output_type": "execute_result"
    }
   ],
   "source": [
    "2 // 3 "
   ]
  },
  {
   "cell_type": "code",
   "execution_count": 12,
   "id": "aa0fd680-5a6a-4bbb-9734-6e0511bd9e1f",
   "metadata": {
    "tags": []
   },
   "outputs": [
    {
     "data": {
      "text/plain": [
       "1"
      ]
     },
     "execution_count": 12,
     "metadata": {},
     "output_type": "execute_result"
    }
   ],
   "source": [
    "4  // 3"
   ]
  },
  {
   "cell_type": "code",
   "execution_count": 13,
   "id": "3e4bb39f-93ec-474b-a21e-51c2a30bd5bc",
   "metadata": {
    "tags": []
   },
   "outputs": [
    {
     "data": {
      "text/plain": [
       "-2"
      ]
     },
     "execution_count": 13,
     "metadata": {},
     "output_type": "execute_result"
    }
   ],
   "source": [
    "-4 // 3"
   ]
  },
  {
   "cell_type": "code",
   "execution_count": 14,
   "id": "00622502-faf9-4315-881c-8e95184db8bf",
   "metadata": {
    "tags": []
   },
   "outputs": [
    {
     "data": {
      "text/plain": [
       "2"
      ]
     },
     "execution_count": 14,
     "metadata": {},
     "output_type": "execute_result"
    }
   ],
   "source": [
    "-4 % 3"
   ]
  },
  {
   "cell_type": "code",
   "execution_count": 15,
   "id": "4f21d311-473a-4960-9634-7df22e5aed11",
   "metadata": {
    "tags": []
   },
   "outputs": [
    {
     "data": {
      "text/plain": [
       "1"
      ]
     },
     "execution_count": 15,
     "metadata": {},
     "output_type": "execute_result"
    }
   ],
   "source": [
    "4 % 3"
   ]
  },
  {
   "cell_type": "code",
   "execution_count": 16,
   "id": "8529991d-04c9-47e8-a4f0-2a50833ae7e8",
   "metadata": {
    "tags": []
   },
   "outputs": [
    {
     "data": {
      "text/plain": [
       "2"
      ]
     },
     "execution_count": 16,
     "metadata": {},
     "output_type": "execute_result"
    }
   ],
   "source": [
    "0b10"
   ]
  },
  {
   "cell_type": "code",
   "execution_count": 17,
   "id": "9a85f01d-dc0d-4e9c-8a16-00e6d357f90e",
   "metadata": {
    "tags": []
   },
   "outputs": [
    {
     "data": {
      "text/plain": [
       "255"
      ]
     },
     "execution_count": 17,
     "metadata": {},
     "output_type": "execute_result"
    }
   ],
   "source": [
    "0xff"
   ]
  },
  {
   "cell_type": "code",
   "execution_count": 18,
   "id": "61a8f376-b282-418d-8f91-0ffc491e1160",
   "metadata": {
    "tags": []
   },
   "outputs": [
    {
     "data": {
      "text/plain": [
       "511"
      ]
     },
     "execution_count": 18,
     "metadata": {},
     "output_type": "execute_result"
    }
   ],
   "source": [
    "0o777"
   ]
  },
  {
   "cell_type": "code",
   "execution_count": 20,
   "id": "75c300ce-f244-4206-aac3-e078adb36ebc",
   "metadata": {
    "tags": []
   },
   "outputs": [
    {
     "name": "stdout",
     "output_type": "stream",
     "text": [
      "0xff\n"
     ]
    }
   ],
   "source": [
    "print(hex(255))"
   ]
  },
  {
   "cell_type": "code",
   "execution_count": 21,
   "id": "7dbb0256-ad96-45da-847d-2779773e335c",
   "metadata": {
    "tags": []
   },
   "outputs": [
    {
     "name": "stdout",
     "output_type": "stream",
     "text": [
      "0b11111111\n"
     ]
    }
   ],
   "source": [
    "print(bin(255))"
   ]
  },
  {
   "cell_type": "code",
   "execution_count": 22,
   "id": "041019f4-d6c5-4a4b-9865-7e8f2a950ce9",
   "metadata": {
    "tags": []
   },
   "outputs": [
    {
     "name": "stdout",
     "output_type": "stream",
     "text": [
      "0o377\n"
     ]
    }
   ],
   "source": [
    "print(oct(255))"
   ]
  },
  {
   "cell_type": "code",
   "execution_count": 23,
   "id": "a4bc1ab7-4fd7-4f5a-8068-43809d8ca0de",
   "metadata": {
    "tags": []
   },
   "outputs": [
    {
     "name": "stdout",
     "output_type": "stream",
     "text": [
      "8\n"
     ]
    }
   ],
   "source": [
    "print(pow(2,3))"
   ]
  },
  {
   "cell_type": "code",
   "execution_count": 24,
   "id": "4116617e-60b1-436f-bd96-3833a12ec188",
   "metadata": {
    "tags": []
   },
   "outputs": [
    {
     "name": "stdout",
     "output_type": "stream",
     "text": [
      "9.97423999265871\n"
     ]
    }
   ],
   "source": [
    "print(pow(2.1,3.1))"
   ]
  },
  {
   "cell_type": "code",
   "execution_count": 25,
   "id": "ff041a94-323e-43bb-9235-41cfbe9c66f2",
   "metadata": {
    "tags": []
   },
   "outputs": [
    {
     "data": {
      "text/plain": [
       "0"
      ]
     },
     "execution_count": 25,
     "metadata": {},
     "output_type": "execute_result"
    }
   ],
   "source": [
    "round(1/2)"
   ]
  },
  {
   "cell_type": "code",
   "execution_count": 26,
   "id": "df5c288e-6f11-47c6-ac3c-ec0c62874758",
   "metadata": {
    "tags": []
   },
   "outputs": [
    {
     "data": {
      "text/plain": [
       "1"
      ]
     },
     "execution_count": 26,
     "metadata": {},
     "output_type": "execute_result"
    }
   ],
   "source": [
    "round(7/6)"
   ]
  },
  {
   "cell_type": "code",
   "execution_count": 27,
   "id": "8610a72b-8133-4e72-9c2a-cfb5608c5e8c",
   "metadata": {
    "tags": []
   },
   "outputs": [],
   "source": [
    "import math"
   ]
  },
  {
   "cell_type": "code",
   "execution_count": 28,
   "id": "d21ae370-3c23-472c-afeb-c9162c9dddf3",
   "metadata": {
    "tags": []
   },
   "outputs": [
    {
     "data": {
      "text/plain": [
       "1"
      ]
     },
     "execution_count": 28,
     "metadata": {},
     "output_type": "execute_result"
    }
   ],
   "source": [
    "math.ceil(1/2)"
   ]
  },
  {
   "cell_type": "code",
   "execution_count": 29,
   "id": "7ba564f4-543e-4288-9fb1-09a5a30f1f6c",
   "metadata": {
    "tags": []
   },
   "outputs": [
    {
     "data": {
      "text/plain": [
       "2.0"
      ]
     },
     "execution_count": 29,
     "metadata": {},
     "output_type": "execute_result"
    }
   ],
   "source": [
    "math.sqrt(4)"
   ]
  },
  {
   "cell_type": "code",
   "execution_count": 30,
   "id": "746e84e6-6386-47bb-b95a-1490f9434c54",
   "metadata": {
    "tags": []
   },
   "outputs": [
    {
     "data": {
      "text/plain": [
       "1.4142135623730951"
      ]
     },
     "execution_count": 30,
     "metadata": {},
     "output_type": "execute_result"
    }
   ],
   "source": [
    "math.sqrt(2)"
   ]
  },
  {
   "cell_type": "code",
   "execution_count": 31,
   "id": "f20273b5-1d81-4b64-8685-95890e20f2ae",
   "metadata": {
    "tags": []
   },
   "outputs": [
    {
     "data": {
      "text/plain": [
       "1.7320508075688772"
      ]
     },
     "execution_count": 31,
     "metadata": {},
     "output_type": "execute_result"
    }
   ],
   "source": [
    "math.sqrt(3)"
   ]
  },
  {
   "cell_type": "code",
   "execution_count": 36,
   "id": "8f1635ef-ed57-4129-9718-a677a3946c20",
   "metadata": {
    "tags": []
   },
   "outputs": [
    {
     "ename": "ValueError",
     "evalue": "math domain error",
     "output_type": "error",
     "traceback": [
      "\u001b[1;31m---------------------------------------------------------------------------\u001b[0m",
      "\u001b[1;31mValueError\u001b[0m                                Traceback (most recent call last)",
      "Cell \u001b[1;32mIn[36], line 1\u001b[0m\n\u001b[1;32m----> 1\u001b[0m math\u001b[38;5;241m.\u001b[39msqrt(\u001b[38;5;241m-\u001b[39m\u001b[38;5;241m1\u001b[39m)\n",
      "\u001b[1;31mValueError\u001b[0m: math domain error"
     ]
    }
   ],
   "source": [
    "math.sqrt(-1)"
   ]
  },
  {
   "cell_type": "markdown",
   "id": "3af85fbe-d06c-46dc-8fb7-85e50477fe50",
   "metadata": {},
   "source": [
    "import cmath"
   ]
  },
  {
   "cell_type": "code",
   "execution_count": 58,
   "id": "a78af91b-8424-4614-8022-e8f95e5c77f5",
   "metadata": {
    "tags": []
   },
   "outputs": [],
   "source": [
    "import cmath"
   ]
  },
  {
   "cell_type": "code",
   "execution_count": 59,
   "id": "4b676f3f-2317-47f7-8e8d-467804b545d2",
   "metadata": {
    "tags": []
   },
   "outputs": [
    {
     "data": {
      "text/plain": [
       "1j"
      ]
     },
     "execution_count": 59,
     "metadata": {},
     "output_type": "execute_result"
    }
   ],
   "source": [
    "cmath.sqrt(-1)"
   ]
  },
  {
   "cell_type": "code",
   "execution_count": 34,
   "id": "f62b0c99-5adf-4611-8792-8644ba2616b9",
   "metadata": {
    "tags": []
   },
   "outputs": [
    {
     "name": "stdout",
     "output_type": "stream",
     "text": [
      "(10+0j)\n"
     ]
    }
   ],
   "source": [
    "print((1 + 3j)*(1 - 3j))"
   ]
  },
  {
   "cell_type": "code",
   "execution_count": 38,
   "id": "1174fe4f-6c82-4221-91df-118639d8a022",
   "metadata": {
    "tags": []
   },
   "outputs": [
    {
     "data": {
      "text/plain": [
       "str"
      ]
     },
     "execution_count": 38,
     "metadata": {},
     "output_type": "execute_result"
    }
   ],
   "source": [
    "type('yg')"
   ]
  },
  {
   "cell_type": "code",
   "execution_count": 39,
   "id": "852bd138-2505-4726-80d7-c823665f6ae9",
   "metadata": {
    "tags": []
   },
   "outputs": [
    {
     "data": {
      "text/plain": [
       "float"
      ]
     },
     "execution_count": 39,
     "metadata": {},
     "output_type": "execute_result"
    }
   ],
   "source": [
    "type(3.0)"
   ]
  },
  {
   "cell_type": "code",
   "execution_count": 40,
   "id": "fe358649-d5c6-4fae-a2ac-791acbb1a0ba",
   "metadata": {
    "tags": []
   },
   "outputs": [
    {
     "data": {
      "text/plain": [
       "complex"
      ]
     },
     "execution_count": 40,
     "metadata": {},
     "output_type": "execute_result"
    }
   ],
   "source": [
    "type(1j)"
   ]
  },
  {
   "cell_type": "code",
   "execution_count": 46,
   "id": "0659d781-0d7d-4c62-ba44-692464841c82",
   "metadata": {
    "tags": []
   },
   "outputs": [
    {
     "name": "stdin",
     "output_type": "stream",
     "text": [
      "1 + 1 = ? 2\n"
     ]
    },
    {
     "name": "stdout",
     "output_type": "stream",
     "text": [
      "I think you are smart enough to study python.\n",
      "Let's go.\n"
     ]
    }
   ],
   "source": [
    "ans = int(input('1 + 1 = ?'))\n",
    "if ans ==2:\n",
    "    print('I think you are smart enough to study python.')\n",
    "else:\n",
    "    print(\"You'd better learn some python for self-improvement.\")\n",
    "    \n",
    "print(\"Let's go.\")"
   ]
  },
  {
   "cell_type": "code",
   "execution_count": 47,
   "id": "4e4952d9-1f6f-403e-a3df-1f9fd0aca704",
   "metadata": {
    "tags": []
   },
   "outputs": [
    {
     "name": "stdin",
     "output_type": "stream",
     "text": [
      "1 + 1 = ? 2\n"
     ]
    },
    {
     "name": "stdout",
     "output_type": "stream",
     "text": [
      "I think you are smart enough to study python.\n"
     ]
    }
   ],
   "source": [
    "ans = int(input('1 + 1 = ?'))\n",
    "if ans ==2:\n",
    "    print('I think you are smart enough to study python.')\n",
    "else:\n",
    "    print(\"You'd better learn some python for self-improvement.\")\n",
    "    print(\"Let's go.\")"
   ]
  },
  {
   "cell_type": "code",
   "execution_count": 49,
   "id": "d1c25d8b-33c7-4996-ac49-e4fb4a0de0b6",
   "metadata": {
    "tags": []
   },
   "outputs": [
    {
     "name": "stdout",
     "output_type": "stream",
     "text": [
      "1 2 3 4 5 6 7 8 9 "
     ]
    }
   ],
   "source": [
    "x =  1\n",
    "while x < 10:\n",
    "    print(x, end=' ')  #不理解这个写法\n",
    "    x = x + 1"
   ]
  },
  {
   "cell_type": "code",
   "execution_count": 51,
   "id": "8d0d864a-8da8-44a0-a64e-152f2a6515c4",
   "metadata": {
    "tags": []
   },
   "outputs": [
    {
     "name": "stdout",
     "output_type": "stream",
     "text": [
      "1 \n",
      "2 \n",
      "3 \n",
      "4 \n",
      "5 \n",
      "6 \n",
      "7 \n",
      "8 \n",
      "9 \n"
     ]
    }
   ],
   "source": [
    "x =  1 \n",
    "while x < 10:\n",
    "    print(f'{x} ')  #我自己的写法这样写？空格为啥会变成换行\n",
    "    x = x + 1"
   ]
  },
  {
   "cell_type": "code",
   "execution_count": 56,
   "id": "7de9086e-a9cf-4d82-ac9f-f58d82c9df11",
   "metadata": {
    "tags": []
   },
   "outputs": [
    {
     "name": "stdout",
     "output_type": "stream",
     "text": [
      "1 \n",
      "2 \n",
      "3 \n",
      "4 \n",
      "5 \n",
      "6 \n",
      "7 \n",
      "8 \n",
      "9 \n"
     ]
    }
   ],
   "source": [
    "x =  1 \n",
    "while x < 10:\n",
    "    print('{} '.format(x))  #我自己的写法这样写？\n",
    "    x = x + 1"
   ]
  },
  {
   "cell_type": "code",
   "execution_count": 55,
   "id": "00acac71-4fd0-43c7-bd3c-4d29f6ac214d",
   "metadata": {
    "tags": []
   },
   "outputs": [],
   "source": [
    "import turtle\n",
    "\n",
    "turtle.reset()\n",
    "turtle.hideturtle()\n",
    "turtle.speed(0.5)\n",
    "turtle.bgcolor('black')\n",
    "turtle.color(1.0, 1.0, 1.0)\n",
    "\n",
    "x = 0\n",
    "while x < 100:\n",
    "    turtle.forward(2 * x)\n",
    "    turtle.right(121)\n",
    "    x = x + 1\n",
    "    \n",
    "turtle.exitonclick()"
   ]
  },
  {
   "cell_type": "code",
   "execution_count": null,
   "id": "ca7c4324-d2be-421b-8a13-2b6d723e5c10",
   "metadata": {},
   "outputs": [],
   "source": []
  }
 ],
 "metadata": {
  "kernelspec": {
   "display_name": "Python 3 (ipykernel)",
   "language": "python",
   "name": "python3"
  },
  "language_info": {
   "codemirror_mode": {
    "name": "ipython",
    "version": 3
   },
   "file_extension": ".py",
   "mimetype": "text/x-python",
   "name": "python",
   "nbconvert_exporter": "python",
   "pygments_lexer": "ipython3",
   "version": "3.11.4"
  }
 },
 "nbformat": 4,
 "nbformat_minor": 5
}
