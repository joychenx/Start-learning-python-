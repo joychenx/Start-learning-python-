{
 "cells": [
  {
   "cell_type": "code",
   "execution_count": 42,
   "id": "e2bb92d0-5b81-4a1b-9175-1e478a529793",
   "metadata": {
    "tags": []
   },
   "outputs": [
    {
     "name": "stdin",
     "output_type": "stream",
     "text": [
      "please input a name:  name3\n"
     ]
    },
    {
     "name": "stdout",
     "output_type": "stream",
     "text": [
      "80\n"
     ]
    }
   ],
   "source": [
    "name = ['name1','name2','name3']\n",
    "scores = [80, 90, 100]\n",
    "name = input('please input a name: ')\n",
    "print(scores[name.index(name)])"
   ]
  },
  {
   "cell_type": "code",
   "execution_count": 43,
   "id": "17499d3c-bdca-4d04-aa7d-86f1de413c7e",
   "metadata": {
    "tags": []
   },
   "outputs": [],
   "source": [
    "#错误name和name重名"
   ]
  },
  {
   "cell_type": "code",
   "execution_count": 44,
   "id": "a10e1a68-4a75-49d8-a190-898a4ebcf222",
   "metadata": {
    "tags": []
   },
   "outputs": [
    {
     "name": "stdin",
     "output_type": "stream",
     "text": [
      "please input a name:  name3\n"
     ]
    },
    {
     "name": "stdout",
     "output_type": "stream",
     "text": [
      "100\n"
     ]
    }
   ],
   "source": [
    "names = ['name1','name2','name3']\n",
    "scores = [80, 90, 100]\n",
    "name = input('please input a name: ')\n",
    "print(scores[names.index(name)])"
   ]
  },
  {
   "cell_type": "code",
   "execution_count": 45,
   "id": "959141cd-69ac-4ca8-92e5-8ccb25f6c1f8",
   "metadata": {
    "tags": []
   },
   "outputs": [
    {
     "name": "stdin",
     "output_type": "stream",
     "text": [
      "please input a name:  name3\n"
     ]
    },
    {
     "name": "stdout",
     "output_type": "stream",
     "text": [
      "100\n"
     ]
    }
   ],
   "source": [
    "scores = [['name1', 80],['name2', 90],['name3', 100]]\n",
    "name = input('please input a name: ')\n",
    "for item in scores:\n",
    "    if item[0] == name:\n",
    "        print(item[1])"
   ]
  },
  {
   "cell_type": "code",
   "execution_count": 46,
   "id": "c1a99fc9-6281-4037-a587-bb06eaca2bfc",
   "metadata": {
    "tags": []
   },
   "outputs": [
    {
     "name": "stdin",
     "output_type": "stream",
     "text": [
      "please input a name:  name1\n"
     ]
    },
    {
     "name": "stdout",
     "output_type": "stream",
     "text": [
      "80\n"
     ]
    }
   ],
   "source": [
    "#字典，每个项目是“：”隔开的两个部分，“：”之前的是key，“：”后是value(键值对)\n",
    "scores = {'name1':80,'name2':90,'name3':100}\n",
    "name = input('please input a name: ')\n",
    "print(scores[name])"
   ]
  },
  {
   "cell_type": "code",
   "execution_count": 47,
   "id": "bb68829d-6c46-4744-b4f0-a7282396f3c5",
   "metadata": {
    "tags": []
   },
   "outputs": [],
   "source": [
    "#直接增加一项\n",
    "scores['name4'] = 98"
   ]
  },
  {
   "cell_type": "code",
   "execution_count": 48,
   "id": "a6f3be0b-4125-43c3-9291-11fccce0129b",
   "metadata": {
    "tags": []
   },
   "outputs": [
    {
     "data": {
      "text/plain": [
       "{'name1': 80, 'name2': 90, 'name3': 100, 'name4': 98}"
      ]
     },
     "execution_count": 48,
     "metadata": {},
     "output_type": "execute_result"
    }
   ],
   "source": [
    "scores"
   ]
  },
  {
   "cell_type": "code",
   "execution_count": 49,
   "id": "cd57a5e7-c20e-4d7a-aae0-e22eadfb7eb4",
   "metadata": {
    "tags": []
   },
   "outputs": [],
   "source": [
    "#做key的条件：不可变\n",
    "#比如数字（不可变），可以用元组查到一个值，用list不行"
   ]
  },
  {
   "cell_type": "code",
   "execution_count": 50,
   "id": "244f0367-d4ec-4bde-bf69-7a2041bb228e",
   "metadata": {
    "tags": []
   },
   "outputs": [],
   "source": [
    "del scores['name1']#删除"
   ]
  },
  {
   "cell_type": "code",
   "execution_count": 51,
   "id": "bc4e7596-e2a5-4d34-8026-8f0972ef3ddc",
   "metadata": {
    "tags": []
   },
   "outputs": [
    {
     "data": {
      "text/plain": [
       "{'name2': 90, 'name3': 100, 'name4': 98}"
      ]
     },
     "execution_count": 51,
     "metadata": {},
     "output_type": "execute_result"
    }
   ],
   "source": [
    "scores"
   ]
  },
  {
   "cell_type": "code",
   "execution_count": 52,
   "id": "68806988-a25c-462e-8bcb-7883f1862ac9",
   "metadata": {
    "tags": []
   },
   "outputs": [
    {
     "data": {
      "text/plain": [
       "{'name': 'Bob', 'age': 24}"
      ]
     },
     "execution_count": 52,
     "metadata": {},
     "output_type": "execute_result"
    }
   ],
   "source": [
    "#法一：创建一个字典\n",
    "d = dict(name='Bob',age=24)\n",
    "d"
   ]
  },
  {
   "cell_type": "code",
   "execution_count": 53,
   "id": "f26933a4-89ee-4d37-af97-cb7c3d60fe30",
   "metadata": {
    "tags": []
   },
   "outputs": [],
   "source": [
    "#字典可变，那么改变的时候，还是贴标签的意思，两个都变\n",
    "d1 = d\n",
    "d1['name']='Mary'"
   ]
  },
  {
   "cell_type": "code",
   "execution_count": 54,
   "id": "12eec384-9d84-4f5a-9c16-7e8e47703be7",
   "metadata": {
    "tags": []
   },
   "outputs": [
    {
     "data": {
      "text/plain": [
       "{'name': 'Mary', 'age': 24}"
      ]
     },
     "execution_count": 54,
     "metadata": {},
     "output_type": "execute_result"
    }
   ],
   "source": [
    "d"
   ]
  },
  {
   "cell_type": "code",
   "execution_count": 55,
   "id": "7481762e-4d24-400d-8946-2782835a6185",
   "metadata": {
    "tags": []
   },
   "outputs": [
    {
     "data": {
      "text/plain": [
       "{'name': None, 'age': None}"
      ]
     },
     "execution_count": 55,
     "metadata": {},
     "output_type": "execute_result"
    }
   ],
   "source": [
    "#法二：只创建key，还没有值——不赋值value那么就是none值\n",
    "{}.fromkeys(['name','age'])"
   ]
  },
  {
   "cell_type": "code",
   "execution_count": 56,
   "id": "36ca305d-6baa-4881-b3aa-34f3186f769f",
   "metadata": {
    "tags": []
   },
   "outputs": [
    {
     "data": {
      "text/plain": [
       "{'name': 'not_initialized', 'age': 'not_initialized'}"
      ]
     },
     "execution_count": 56,
     "metadata": {},
     "output_type": "execute_result"
    }
   ],
   "source": [
    "{}.fromkeys(['name','age'],'not_initialized')#或者"
   ]
  },
  {
   "cell_type": "code",
   "execution_count": 57,
   "id": "162cc22b-610f-40a2-895c-6446a5d12529",
   "metadata": {
    "tags": []
   },
   "outputs": [
    {
     "name": "stdout",
     "output_type": "stream",
     "text": [
      "{'a': 4, 'e': 5, 'i': 7, 'o': 2, 'u': 0}\n"
     ]
    }
   ],
   "source": [
    "#计数器\n",
    "str = 'hello, this is a test.this is also a test. this is the final test.'\n",
    "count = dict.fromkeys('aeiou', 0)\n",
    "for ch in str:\n",
    "    if ch in 'aeiou':\n",
    "        count[ch] += 1\n",
    "\n",
    "print(count)"
   ]
  },
  {
   "cell_type": "code",
   "execution_count": 58,
   "id": "309416b8-b22f-4e01-950e-ddb04ec91f9d",
   "metadata": {
    "tags": []
   },
   "outputs": [
    {
     "data": {
      "text/plain": [
       "4"
      ]
     },
     "execution_count": 58,
     "metadata": {},
     "output_type": "execute_result"
    }
   ],
   "source": [
    "count['a']"
   ]
  },
  {
   "cell_type": "code",
   "execution_count": 59,
   "id": "a4e967e4-3b75-49c4-8466-8cf91e378ce0",
   "metadata": {
    "tags": []
   },
   "outputs": [
    {
     "ename": "KeyError",
     "evalue": "'b'",
     "output_type": "error",
     "traceback": [
      "\u001b[1;31m---------------------------------------------------------------------------\u001b[0m",
      "\u001b[1;31mKeyError\u001b[0m                                  Traceback (most recent call last)",
      "Cell \u001b[1;32mIn[59], line 1\u001b[0m\n\u001b[1;32m----> 1\u001b[0m count[\u001b[38;5;124m'\u001b[39m\u001b[38;5;124mb\u001b[39m\u001b[38;5;124m'\u001b[39m]\n",
      "\u001b[1;31mKeyError\u001b[0m: 'b'"
     ]
    }
   ],
   "source": [
    "count['b']#不在里面的字母，就会崩溃；所以不能直接用"
   ]
  },
  {
   "cell_type": "code",
   "execution_count": 60,
   "id": "ee29a907-be3b-4a03-8189-8858923d2735",
   "metadata": {
    "tags": []
   },
   "outputs": [
    {
     "name": "stdout",
     "output_type": "stream",
     "text": [
      "4\n"
     ]
    }
   ],
   "source": [
    "#温和的办法\n",
    "print(count.get('a'))"
   ]
  },
  {
   "cell_type": "code",
   "execution_count": 61,
   "id": "2297c6cc-2fe2-48b6-959a-5b28b4b4cda4",
   "metadata": {
    "tags": []
   },
   "outputs": [
    {
     "name": "stdout",
     "output_type": "stream",
     "text": [
      "None\n"
     ]
    }
   ],
   "source": [
    "print(count.get('b'))#没有就返回None"
   ]
  },
  {
   "cell_type": "code",
   "execution_count": 62,
   "id": "c81c692e-379d-4e0f-a86b-c9f86588bef6",
   "metadata": {
    "tags": []
   },
   "outputs": [
    {
     "name": "stdout",
     "output_type": "stream",
     "text": [
      "0\n"
     ]
    }
   ],
   "source": [
    "print(count.get('b',0))#没有及就返回设置的缺省值0"
   ]
  },
  {
   "cell_type": "code",
   "execution_count": 63,
   "id": "c2963ada-f372-41b9-89dc-681194b6820f",
   "metadata": {
    "tags": []
   },
   "outputs": [
    {
     "data": {
      "text/plain": [
       "False"
      ]
     },
     "execution_count": 63,
     "metadata": {},
     "output_type": "execute_result"
    }
   ],
   "source": [
    "#另一种模式\n",
    "'b' in count#没有返回False"
   ]
  },
  {
   "cell_type": "markdown",
   "id": "d8283a66-eb1f-4235-b329-fdac7cc65e1d",
   "metadata": {},
   "source": [
    "py没有结构体，可以用字典模拟\n",
    "ZS.name    ZS.age"
   ]
  },
  {
   "cell_type": "code",
   "execution_count": 64,
   "id": "1ae36a92-8e75-4d53-bca3-d905b25265eb",
   "metadata": {
    "tags": []
   },
   "outputs": [],
   "source": [
    "student = dict.fromkeys(('name','score'))"
   ]
  },
  {
   "cell_type": "code",
   "execution_count": 65,
   "id": "211dcd78-c7a6-4b1e-9a32-4ef2fa0a9341",
   "metadata": {
    "tags": []
   },
   "outputs": [
    {
     "data": {
      "text/plain": [
       "{'name': None, 'score': None}"
      ]
     },
     "execution_count": 65,
     "metadata": {},
     "output_type": "execute_result"
    }
   ],
   "source": [
    "student"
   ]
  },
  {
   "cell_type": "code",
   "execution_count": 69,
   "id": "463492be-3ecc-4062-bf1f-115ea6cdc63f",
   "metadata": {
    "tags": []
   },
   "outputs": [
    {
     "name": "stdin",
     "output_type": "stream",
     "text": [
      "Please input a name:  WG\n",
      "Please input a score:  120\n"
     ]
    },
    {
     "name": "stdout",
     "output_type": "stream",
     "text": [
      "Name: WG Score:120\n"
     ]
    }
   ],
   "source": [
    "student['name'] = input('Please input a name: ')\n",
    "student['score'] = int(input('Please input a score: '))\n",
    "\n",
    "print(f\"Name: {student['name']} Score:{student['score']}\")\n",
    "#比起45行，这样写更不容易忘记item含义，看起来更清晰"
   ]
  },
  {
   "cell_type": "code",
   "execution_count": 71,
   "id": "6abf58f5-6b60-4c21-b6f1-b17ba323f8dd",
   "metadata": {
    "tags": []
   },
   "outputs": [],
   "source": [
    "#造一批百家姓数据\n",
    "text = \"赵钱孙李、周吴郑王、冯陈褚卫、蒋沈韩杨、朱秦尤许、何吕施张、孔曹严华、金魏陶姜、戚谢邹喻、柏水窦章、云苏潘葛、奚范彭郎、鲁韦昌马、苗凤花方、俞任袁柳、酆鲍史唐、费廉岑薛、雷贺倪汤、滕殷罗毕、郝邬安常、乐于时傅、皮卞齐康、伍余元卜、顾孟平黄、和穆萧尹、姚邵湛汪、祁毛禹狄、米贝明臧、计伏成戴、谈宋茅庞、熊纪舒屈、项祝董梁、杜阮蓝闵、席季麻强、贾路娄危、江童颜郭、梅盛林刁、钟徐邱骆、高夏蔡田、樊胡凌霍、虞万支柯、昝管卢莫、经房裘缪、干解应宗、丁宣贲邓、郁单杭洪、包诸左石、崔吉钮龚、程嵇邢滑、裴陆荣翁、荀羊於惠、甄麴家封、芮羿储靳、汲邴糜松、井段富巫、乌焦巴弓、牧隗山谷、车侯宓蓬、全郗班仰、秋仲伊宫、宁仇栾暴、甘钭厉戎、祖武符刘\""
   ]
  },
  {
   "cell_type": "code",
   "execution_count": 111,
   "id": "e1da10a7-beed-430a-94a3-cfca827fd0ed",
   "metadata": {
    "tags": []
   },
   "outputs": [],
   "source": [
    "import pypinyin\n",
    "pinyin_list = pypinyin.pinyin(text, style = pypinyin.Style.NORMAL)\n",
    "#NOMAL没有声调的拼音\n",
    "#出来的结果每个item还带[],因为是list里面套了一个list，毕竟一个字可能对应多个拼音"
   ]
  },
  {
   "cell_type": "code",
   "execution_count": 112,
   "id": "a538ca96-1233-4382-84c4-b734da91e9ae",
   "metadata": {
    "tags": []
   },
   "outputs": [
    {
     "data": {
      "text/plain": [
       "[['zhao'],\n",
       " ['qian'],\n",
       " ['sun'],\n",
       " ['li'],\n",
       " ['、'],\n",
       " ['zhou'],\n",
       " ['wu'],\n",
       " ['zheng'],\n",
       " ['wang'],\n",
       " ['、'],\n",
       " ['feng'],\n",
       " ['chen'],\n",
       " ['chu'],\n",
       " ['wei'],\n",
       " ['、'],\n",
       " ['jiang'],\n",
       " ['shen'],\n",
       " ['han'],\n",
       " ['yang'],\n",
       " ['、'],\n",
       " ['zhu'],\n",
       " ['qin'],\n",
       " ['you'],\n",
       " ['xu'],\n",
       " ['、'],\n",
       " ['he'],\n",
       " ['lv'],\n",
       " ['shi'],\n",
       " ['zhang'],\n",
       " ['、'],\n",
       " ['kong'],\n",
       " ['cao'],\n",
       " ['yan'],\n",
       " ['hua'],\n",
       " ['、'],\n",
       " ['jin'],\n",
       " ['wei'],\n",
       " ['tao'],\n",
       " ['jiang'],\n",
       " ['、'],\n",
       " ['qi'],\n",
       " ['xie'],\n",
       " ['zou'],\n",
       " ['yu'],\n",
       " ['、'],\n",
       " ['bai'],\n",
       " ['shui'],\n",
       " ['dou'],\n",
       " ['zhang'],\n",
       " ['、'],\n",
       " ['yun'],\n",
       " ['su'],\n",
       " ['pan'],\n",
       " ['ge'],\n",
       " ['、'],\n",
       " ['xi'],\n",
       " ['fan'],\n",
       " ['peng'],\n",
       " ['lang'],\n",
       " ['、'],\n",
       " ['lu'],\n",
       " ['wei'],\n",
       " ['chang'],\n",
       " ['ma'],\n",
       " ['、'],\n",
       " ['miao'],\n",
       " ['feng'],\n",
       " ['hua'],\n",
       " ['fang'],\n",
       " ['、'],\n",
       " ['yu'],\n",
       " ['ren'],\n",
       " ['yuan'],\n",
       " ['liu'],\n",
       " ['、'],\n",
       " ['feng'],\n",
       " ['bao'],\n",
       " ['shi'],\n",
       " ['tang'],\n",
       " ['、'],\n",
       " ['fei'],\n",
       " ['lian'],\n",
       " ['cen'],\n",
       " ['xue'],\n",
       " ['、'],\n",
       " ['lei'],\n",
       " ['he'],\n",
       " ['ni'],\n",
       " ['tang'],\n",
       " ['、'],\n",
       " ['teng'],\n",
       " ['yin'],\n",
       " ['luo'],\n",
       " ['bi'],\n",
       " ['、'],\n",
       " ['hao'],\n",
       " ['wu'],\n",
       " ['an'],\n",
       " ['chang'],\n",
       " ['、'],\n",
       " ['le'],\n",
       " ['yu'],\n",
       " ['shi'],\n",
       " ['fu'],\n",
       " ['、'],\n",
       " ['pi'],\n",
       " ['bian'],\n",
       " ['qi'],\n",
       " ['kang'],\n",
       " ['、'],\n",
       " ['wu'],\n",
       " ['yu'],\n",
       " ['yuan'],\n",
       " ['bo'],\n",
       " ['、'],\n",
       " ['gu'],\n",
       " ['meng'],\n",
       " ['ping'],\n",
       " ['huang'],\n",
       " ['、'],\n",
       " ['he'],\n",
       " ['mu'],\n",
       " ['xiao'],\n",
       " ['yin'],\n",
       " ['、'],\n",
       " ['yao'],\n",
       " ['shao'],\n",
       " ['zhan'],\n",
       " ['wang'],\n",
       " ['、'],\n",
       " ['qi'],\n",
       " ['mao'],\n",
       " ['yu'],\n",
       " ['di'],\n",
       " ['、'],\n",
       " ['mi'],\n",
       " ['bei'],\n",
       " ['ming'],\n",
       " ['zang'],\n",
       " ['、'],\n",
       " ['ji'],\n",
       " ['fu'],\n",
       " ['cheng'],\n",
       " ['dai'],\n",
       " ['、'],\n",
       " ['tan'],\n",
       " ['song'],\n",
       " ['mao'],\n",
       " ['pang'],\n",
       " ['、'],\n",
       " ['xiong'],\n",
       " ['ji'],\n",
       " ['shu'],\n",
       " ['qu'],\n",
       " ['、'],\n",
       " ['xiang'],\n",
       " ['zhu'],\n",
       " ['dong'],\n",
       " ['liang'],\n",
       " ['、'],\n",
       " ['du'],\n",
       " ['ruan'],\n",
       " ['lan'],\n",
       " ['min'],\n",
       " ['、'],\n",
       " ['xi'],\n",
       " ['ji'],\n",
       " ['ma'],\n",
       " ['qiang'],\n",
       " ['、'],\n",
       " ['jia'],\n",
       " ['lu'],\n",
       " ['lou'],\n",
       " ['wei'],\n",
       " ['、'],\n",
       " ['jiang'],\n",
       " ['tong'],\n",
       " ['yan'],\n",
       " ['guo'],\n",
       " ['、'],\n",
       " ['mei'],\n",
       " ['sheng'],\n",
       " ['lin'],\n",
       " ['diao'],\n",
       " ['、'],\n",
       " ['zhong'],\n",
       " ['xu'],\n",
       " ['qiu'],\n",
       " ['luo'],\n",
       " ['、'],\n",
       " ['gao'],\n",
       " ['xia'],\n",
       " ['cai'],\n",
       " ['tian'],\n",
       " ['、'],\n",
       " ['fan'],\n",
       " ['hu'],\n",
       " ['ling'],\n",
       " ['huo'],\n",
       " ['、'],\n",
       " ['yu'],\n",
       " ['wan'],\n",
       " ['zhi'],\n",
       " ['ke'],\n",
       " ['、'],\n",
       " ['zan'],\n",
       " ['guan'],\n",
       " ['lu'],\n",
       " ['mo'],\n",
       " ['、'],\n",
       " ['jing'],\n",
       " ['fang'],\n",
       " ['qiu'],\n",
       " ['mou'],\n",
       " ['、'],\n",
       " ['gan'],\n",
       " ['jie'],\n",
       " ['ying'],\n",
       " ['zong'],\n",
       " ['、'],\n",
       " ['ding'],\n",
       " ['xuan'],\n",
       " ['ben'],\n",
       " ['deng'],\n",
       " ['、'],\n",
       " ['yu'],\n",
       " ['dan'],\n",
       " ['hang'],\n",
       " ['hong'],\n",
       " ['、'],\n",
       " ['bao'],\n",
       " ['zhu'],\n",
       " ['zuo'],\n",
       " ['shi'],\n",
       " ['、'],\n",
       " ['cui'],\n",
       " ['ji'],\n",
       " ['niu'],\n",
       " ['gong'],\n",
       " ['、'],\n",
       " ['cheng'],\n",
       " ['ji'],\n",
       " ['xing'],\n",
       " ['hua'],\n",
       " ['、'],\n",
       " ['pei'],\n",
       " ['lu'],\n",
       " ['rong'],\n",
       " ['weng'],\n",
       " ['、'],\n",
       " ['xun'],\n",
       " ['yang'],\n",
       " ['yu'],\n",
       " ['hui'],\n",
       " ['、'],\n",
       " ['zhen'],\n",
       " ['qu'],\n",
       " ['jia'],\n",
       " ['feng'],\n",
       " ['、'],\n",
       " ['rui'],\n",
       " ['yi'],\n",
       " ['chu'],\n",
       " ['jin'],\n",
       " ['、'],\n",
       " ['ji'],\n",
       " ['bing'],\n",
       " ['mi'],\n",
       " ['song'],\n",
       " ['、'],\n",
       " ['jing'],\n",
       " ['duan'],\n",
       " ['fu'],\n",
       " ['wu'],\n",
       " ['、'],\n",
       " ['wu'],\n",
       " ['jiao'],\n",
       " ['ba'],\n",
       " ['gong'],\n",
       " ['、'],\n",
       " ['mu'],\n",
       " ['kui'],\n",
       " ['shan'],\n",
       " ['gu'],\n",
       " ['、'],\n",
       " ['che'],\n",
       " ['hou'],\n",
       " ['mi'],\n",
       " ['peng'],\n",
       " ['、'],\n",
       " ['quan'],\n",
       " ['xi'],\n",
       " ['ban'],\n",
       " ['yang'],\n",
       " ['、'],\n",
       " ['qiu'],\n",
       " ['zhong'],\n",
       " ['yi'],\n",
       " ['gong'],\n",
       " ['、'],\n",
       " ['ning'],\n",
       " ['chou'],\n",
       " ['luan'],\n",
       " ['bao'],\n",
       " ['、'],\n",
       " ['gan'],\n",
       " ['tou'],\n",
       " ['li'],\n",
       " ['rong'],\n",
       " ['、'],\n",
       " ['zu'],\n",
       " ['wu'],\n",
       " ['fu'],\n",
       " ['liu']]"
      ]
     },
     "execution_count": 112,
     "metadata": {},
     "output_type": "execute_result"
    }
   ],
   "source": [
    "pinyin_list"
   ]
  },
  {
   "cell_type": "code",
   "execution_count": 114,
   "id": "d3a618fc-23c1-45a2-b69c-f30708b934fb",
   "metadata": {
    "tags": []
   },
   "outputs": [],
   "source": [
    "name_list = [item[0].title() for item in pinyin_list if item[0] != '、']\n",
    "#item[0]就是'zhao',list comprehension"
   ]
  },
  {
   "cell_type": "code",
   "execution_count": 115,
   "id": "007fa355-5ccb-49fc-ab4f-9b4f98ce81a2",
   "metadata": {
    "tags": []
   },
   "outputs": [],
   "source": [
    "#集合set没有重复元素，之后再变回list\n",
    "names = list(set(name_list))"
   ]
  },
  {
   "cell_type": "code",
   "execution_count": 88,
   "id": "698c624a-58a3-40d3-ba70-01717836ba2b",
   "metadata": {
    "tags": []
   },
   "outputs": [
    {
     "name": "stdout",
     "output_type": "stream",
     "text": [
      "252 169\n"
     ]
    }
   ],
   "source": [
    "print(len(name_list),len(names))"
   ]
  },
  {
   "cell_type": "code",
   "execution_count": 116,
   "id": "087f83cd-8880-422e-9048-904177798bd9",
   "metadata": {
    "tags": []
   },
   "outputs": [
    {
     "data": {
      "text/plain": [
       "'Fu'"
      ]
     },
     "execution_count": 116,
     "metadata": {},
     "output_type": "execute_result"
    }
   ],
   "source": [
    "import random\n",
    "random.choice(names)#抓阄"
   ]
  },
  {
   "cell_type": "code",
   "execution_count": 92,
   "id": "a682f4bd-4b26-4c83-a0b2-8a9674a2eea4",
   "metadata": {
    "tags": []
   },
   "outputs": [
    {
     "data": {
      "text/plain": [
       "'Chou'"
      ]
     },
     "execution_count": 92,
     "metadata": {},
     "output_type": "execute_result"
    }
   ],
   "source": [
    "random.choice(names)"
   ]
  },
  {
   "cell_type": "code",
   "execution_count": 94,
   "id": "8687c162-b493-495c-950d-36da2cf77656",
   "metadata": {
    "tags": []
   },
   "outputs": [
    {
     "data": {
      "text/plain": [
       "2"
      ]
     },
     "execution_count": 94,
     "metadata": {},
     "output_type": "execute_result"
    }
   ],
   "source": [
    "random.randint(0,100)#这里不是开区间"
   ]
  },
  {
   "cell_type": "code",
   "execution_count": 104,
   "id": "23504162-a068-41ae-8b7b-e332e076a80c",
   "metadata": {
    "tags": []
   },
   "outputs": [
    {
     "data": {
      "text/plain": [
       "112.87427321965743"
      ]
     },
     "execution_count": 104,
     "metadata": {},
     "output_type": "execute_result"
    }
   ],
   "source": [
    "random.gauss(75,20)#生成符合高斯分布的浮点数？？均值&标准差"
   ]
  },
  {
   "cell_type": "code",
   "execution_count": 105,
   "id": "be5f1ad9-d656-42b4-a35c-86c53b4532c2",
   "metadata": {
    "tags": []
   },
   "outputs": [
    {
     "data": {
      "text/plain": [
       "[48.44946080833019,\n",
       " 97.80092486554794,\n",
       " 27.603371976973804,\n",
       " 58.30092287530185,\n",
       " 60.95841767799293,\n",
       " 70.88298141946461,\n",
       " 54.66709278001963,\n",
       " 86.59620509240307,\n",
       " 59.95504314772916,\n",
       " 89.03641534857178,\n",
       " 86.06072360636281,\n",
       " 85.21950059526736,\n",
       " 68.09750223315845,\n",
       " 65.5701387605735,\n",
       " 79.2741095470728,\n",
       " 73.25303305501951,\n",
       " 77.33789575265628,\n",
       " 79.31543969950681,\n",
       " 74.31803120086981,\n",
       " 46.941760245586224,\n",
       " 75.10470371388145,\n",
       " 82.60503197572193,\n",
       " 94.26950076626053,\n",
       " 85.37379670307354,\n",
       " 95.20031768758724,\n",
       " 89.85056897133917,\n",
       " 70.26746171722435,\n",
       " 98.00630477272486,\n",
       " 57.16887897650616,\n",
       " 69.24857558652279,\n",
       " 101.82099131808589,\n",
       " 41.63575630410688,\n",
       " 80.25141245616621,\n",
       " 104.92832227250229,\n",
       " 51.52128301996143,\n",
       " 70.83558209384563,\n",
       " 91.34933605466136,\n",
       " 30.767340196330075,\n",
       " 44.54408301729902,\n",
       " 81.2469229027556,\n",
       " 88.68713417632416,\n",
       " 52.542045301692724,\n",
       " 83.85777969775731,\n",
       " 122.50143886143542,\n",
       " 53.4251598737319,\n",
       " 84.81158737761076,\n",
       " 73.5951079353795,\n",
       " 86.59742259649944,\n",
       " 70.88145545873633,\n",
       " 76.6671152100639,\n",
       " 89.67077652870992,\n",
       " 78.84103489119892,\n",
       " 62.73862743894506,\n",
       " 41.10668255607394,\n",
       " 103.86858259887171,\n",
       " 83.36236152575339,\n",
       " 58.63518798393649,\n",
       " 54.73400259461664,\n",
       " 48.872835186663764,\n",
       " 93.2791474813045,\n",
       " 97.80034098375272,\n",
       " 27.506442702543687,\n",
       " 87.04223809902484,\n",
       " 71.0205456906609,\n",
       " 63.30358673850866,\n",
       " 44.874414290636075,\n",
       " 83.67514639727928,\n",
       " 78.31155457805743,\n",
       " 86.58874004541192,\n",
       " 87.35062187962632,\n",
       " 95.04916364824521,\n",
       " 79.43300835002933,\n",
       " 46.097628343387875,\n",
       " 71.65666658088026,\n",
       " 61.31984418729384,\n",
       " 77.1328194907109,\n",
       " 77.01622589147101,\n",
       " 87.03766939867072,\n",
       " 72.11264550398627,\n",
       " 39.42623295130626,\n",
       " 66.30900149999053,\n",
       " 79.24841728910322,\n",
       " 65.81190332886777,\n",
       " 81.94879677925907,\n",
       " 106.55266897128993,\n",
       " 43.47882508745383,\n",
       " 58.28855328519349,\n",
       " 87.11759146371969,\n",
       " 103.18181710574015,\n",
       " 82.41471073360452,\n",
       " 76.93386893334797,\n",
       " 64.86210014112474,\n",
       " 73.0213222042437,\n",
       " 56.462523970330025,\n",
       " 40.75441321910954,\n",
       " 85.71102070651062,\n",
       " 102.85076368328583,\n",
       " 56.936011589991885,\n",
       " 86.16875527959587,\n",
       " 77.14841833912905]"
      ]
     },
     "execution_count": 105,
     "metadata": {},
     "output_type": "execute_result"
    }
   ],
   "source": [
    "#生成100个，不用for，用comprehension啊\n",
    "[random.gauss(75, 20) for i in range(0, 100)]"
   ]
  },
  {
   "cell_type": "code",
   "execution_count": 106,
   "id": "b31a91a2-f913-4bc8-87ce-507e520d14c3",
   "metadata": {
    "tags": []
   },
   "outputs": [
    {
     "data": {
      "text/plain": [
       "[115,\n",
       " 98,\n",
       " 84,\n",
       " 73,\n",
       " 76,\n",
       " 59,\n",
       " 92,\n",
       " 83,\n",
       " 51,\n",
       " 55,\n",
       " 94,\n",
       " 77,\n",
       " 101,\n",
       " 89,\n",
       " 61,\n",
       " 97,\n",
       " 95,\n",
       " 73,\n",
       " 88,\n",
       " 101,\n",
       " 82,\n",
       " 80,\n",
       " 91,\n",
       " 55,\n",
       " 57,\n",
       " 95,\n",
       " 79,\n",
       " 59,\n",
       " 89,\n",
       " 61,\n",
       " 81,\n",
       " 74,\n",
       " 128,\n",
       " 80,\n",
       " 114,\n",
       " 59,\n",
       " 83,\n",
       " 72,\n",
       " 61,\n",
       " 85,\n",
       " 71,\n",
       " 80,\n",
       " 82,\n",
       " 75,\n",
       " 60,\n",
       " 69,\n",
       " 89,\n",
       " 77,\n",
       " 73,\n",
       " 74,\n",
       " 96,\n",
       " 68,\n",
       " 57,\n",
       " 52,\n",
       " 102,\n",
       " 35,\n",
       " 83,\n",
       " 107,\n",
       " 70,\n",
       " 79,\n",
       " 73,\n",
       " 85,\n",
       " 101,\n",
       " 40,\n",
       " 87,\n",
       " 67,\n",
       " 57,\n",
       " 55,\n",
       " 89,\n",
       " 53,\n",
       " 52,\n",
       " 86,\n",
       " 45,\n",
       " 67,\n",
       " 66,\n",
       " 60,\n",
       " 97,\n",
       " 88,\n",
       " 102,\n",
       " 86,\n",
       " 89,\n",
       " 83,\n",
       " 57,\n",
       " 84,\n",
       " 87,\n",
       " 41,\n",
       " 68,\n",
       " 49,\n",
       " 100,\n",
       " 57,\n",
       " 65,\n",
       " 71,\n",
       " 80,\n",
       " 67,\n",
       " 84,\n",
       " 70,\n",
       " 54,\n",
       " 88,\n",
       " 69,\n",
       " 62]"
      ]
     },
     "execution_count": 106,
     "metadata": {},
     "output_type": "execute_result"
    }
   ],
   "source": [
    "#想要整数，四舍五入\n",
    "import math\n",
    "[math.ceil(random.gauss(75, 20)) for i in range(0, 100)]"
   ]
  },
  {
   "cell_type": "code",
   "execution_count": 130,
   "id": "fef03ace-319e-4293-afe6-3a41de379f94",
   "metadata": {
    "tags": []
   },
   "outputs": [],
   "source": [
    "score_template = {'physics': None, 'math': None, 'python': None}\n",
    "#可也以用前面formkey的写法\n",
    "scores = score_template.copy()\n",
    "\n",
    "score_db = dict()\n",
    "for name in names:\n",
    "    score = math.ceil(random.gauss(75,20))\n",
    "    if score > 100: score = 100  #if后面只有一句话的化可以放同一行，如果多行就不行了\n",
    "    if score < 0: score = 0\n",
    "    #合理化：高斯没有上下限，分数0~200\n",
    "    scores['physics'] = score\n",
    "    \n",
    "    score = math.ceil(random.gauss(75,20))\n",
    "    if score > 100: score = 100  \n",
    "    if score < 0: score = 0\n",
    "    scores['math'] = score\n",
    "    \n",
    "    score = math.ceil(random.gauss(75,20))\n",
    "    if score > 100: score = 100  \n",
    "    if score < 0: score = 0\n",
    "    scores['python'] = score\n",
    "    \n",
    "    score_db[name] = scores#注意score和scores"
   ]
  },
  {
   "cell_type": "code",
   "execution_count": 131,
   "id": "2d061caa-d950-482f-a339-be9f4b9582ee",
   "metadata": {
    "tags": []
   },
   "outputs": [
    {
     "name": "stdout",
     "output_type": "stream",
     "text": [
      "{'Hang': {'physics': 68, 'math': 84, 'python': 66}, 'Tou': {'physics': 68, 'math': 84, 'python': 66}, 'Mao': {'physics': 68, 'math': 84, 'python': 66}, 'Deng': {'physics': 68, 'math': 84, 'python': 66}, 'Ni': {'physics': 68, 'math': 84, 'python': 66}, 'Zhao': {'physics': 68, 'math': 84, 'python': 66}, 'Zhang': {'physics': 68, 'math': 84, 'python': 66}, 'Bai': {'physics': 68, 'math': 84, 'python': 66}, 'Ping': {'physics': 68, 'math': 84, 'python': 66}, 'Pang': {'physics': 68, 'math': 84, 'python': 66}, 'Guan': {'physics': 68, 'math': 84, 'python': 66}, 'Jie': {'physics': 68, 'math': 84, 'python': 66}, 'Tao': {'physics': 68, 'math': 84, 'python': 66}, 'Teng': {'physics': 68, 'math': 84, 'python': 66}, 'Rong': {'physics': 68, 'math': 84, 'python': 66}, 'Xun': {'physics': 68, 'math': 84, 'python': 66}, 'Fang': {'physics': 68, 'math': 84, 'python': 66}, 'Mu': {'physics': 68, 'math': 84, 'python': 66}, 'Hua': {'physics': 68, 'math': 84, 'python': 66}, 'Gong': {'physics': 68, 'math': 84, 'python': 66}, 'Luan': {'physics': 68, 'math': 84, 'python': 66}, 'Liu': {'physics': 68, 'math': 84, 'python': 66}, 'Ying': {'physics': 68, 'math': 84, 'python': 66}, 'Lin': {'physics': 68, 'math': 84, 'python': 66}, 'Fu': {'physics': 68, 'math': 84, 'python': 66}, 'Cai': {'physics': 68, 'math': 84, 'python': 66}, 'Hao': {'physics': 68, 'math': 84, 'python': 66}, 'Zhu': {'physics': 68, 'math': 84, 'python': 66}, 'Fei': {'physics': 68, 'math': 84, 'python': 66}, 'Meng': {'physics': 68, 'math': 84, 'python': 66}, 'Hu': {'physics': 68, 'math': 84, 'python': 66}, 'Ben': {'physics': 68, 'math': 84, 'python': 66}, 'Ban': {'physics': 68, 'math': 84, 'python': 66}, 'Zheng': {'physics': 68, 'math': 84, 'python': 66}, 'Pi': {'physics': 68, 'math': 84, 'python': 66}, 'Zhan': {'physics': 68, 'math': 84, 'python': 66}, 'Cheng': {'physics': 68, 'math': 84, 'python': 66}, 'Niu': {'physics': 68, 'math': 84, 'python': 66}, 'Lian': {'physics': 68, 'math': 84, 'python': 66}, 'Mei': {'physics': 68, 'math': 84, 'python': 66}, 'Duan': {'physics': 68, 'math': 84, 'python': 66}, 'Lan': {'physics': 68, 'math': 84, 'python': 66}, 'Shao': {'physics': 68, 'math': 84, 'python': 66}, 'Qi': {'physics': 68, 'math': 84, 'python': 66}, 'Ji': {'physics': 68, 'math': 84, 'python': 66}, 'Mi': {'physics': 68, 'math': 84, 'python': 66}, 'Ling': {'physics': 68, 'math': 84, 'python': 66}, 'Wan': {'physics': 68, 'math': 84, 'python': 66}, 'You': {'physics': 68, 'math': 84, 'python': 66}, 'Lv': {'physics': 68, 'math': 84, 'python': 66}, 'Cen': {'physics': 68, 'math': 84, 'python': 66}, 'Zou': {'physics': 68, 'math': 84, 'python': 66}, 'Xiao': {'physics': 68, 'math': 84, 'python': 66}, 'Dan': {'physics': 68, 'math': 84, 'python': 66}, 'Chu': {'physics': 68, 'math': 84, 'python': 66}, 'Wang': {'physics': 68, 'math': 84, 'python': 66}, 'Dou': {'physics': 68, 'math': 84, 'python': 66}, 'Zong': {'physics': 68, 'math': 84, 'python': 66}, 'Xie': {'physics': 68, 'math': 84, 'python': 66}, 'Yun': {'physics': 68, 'math': 84, 'python': 66}, 'Pan': {'physics': 68, 'math': 84, 'python': 66}, 'Di': {'physics': 68, 'math': 84, 'python': 66}, 'Tian': {'physics': 68, 'math': 84, 'python': 66}, 'Tan': {'physics': 68, 'math': 84, 'python': 66}, 'Zhi': {'physics': 68, 'math': 84, 'python': 66}, 'Hong': {'physics': 68, 'math': 84, 'python': 66}, 'Weng': {'physics': 68, 'math': 84, 'python': 66}, 'Wei': {'physics': 68, 'math': 84, 'python': 66}, 'Kong': {'physics': 68, 'math': 84, 'python': 66}, 'Yang': {'physics': 68, 'math': 84, 'python': 66}, 'Wu': {'physics': 68, 'math': 84, 'python': 66}, 'Xu': {'physics': 68, 'math': 84, 'python': 66}, 'Xue': {'physics': 68, 'math': 84, 'python': 66}, 'Dong': {'physics': 68, 'math': 84, 'python': 66}, 'Quan': {'physics': 68, 'math': 84, 'python': 66}, 'Huo': {'physics': 68, 'math': 84, 'python': 66}, 'Hui': {'physics': 68, 'math': 84, 'python': 66}, 'Chang': {'physics': 68, 'math': 84, 'python': 66}, 'Zang': {'physics': 68, 'math': 84, 'python': 66}, 'Tang': {'physics': 68, 'math': 84, 'python': 66}, 'Hou': {'physics': 68, 'math': 84, 'python': 66}, 'Shi': {'physics': 68, 'math': 84, 'python': 66}, 'Xi': {'physics': 68, 'math': 84, 'python': 66}, 'Shan': {'physics': 68, 'math': 84, 'python': 66}, 'Ning': {'physics': 68, 'math': 84, 'python': 66}, 'Zhong': {'physics': 68, 'math': 84, 'python': 66}, 'Yuan': {'physics': 68, 'math': 84, 'python': 66}, 'Mo': {'physics': 68, 'math': 84, 'python': 66}, 'Huang': {'physics': 68, 'math': 84, 'python': 66}, 'Xiong': {'physics': 68, 'math': 84, 'python': 66}, 'Jing': {'physics': 68, 'math': 84, 'python': 66}, 'Jia': {'physics': 68, 'math': 84, 'python': 66}, 'Dai': {'physics': 68, 'math': 84, 'python': 66}, 'Qu': {'physics': 68, 'math': 84, 'python': 66}, 'Qiu': {'physics': 68, 'math': 84, 'python': 66}, 'Han': {'physics': 68, 'math': 84, 'python': 66}, 'Qian': {'physics': 68, 'math': 84, 'python': 66}, 'Yan': {'physics': 68, 'math': 84, 'python': 66}, 'Jiang': {'physics': 68, 'math': 84, 'python': 66}, 'Qin': {'physics': 68, 'math': 84, 'python': 66}, 'Le': {'physics': 68, 'math': 84, 'python': 66}, 'Peng': {'physics': 68, 'math': 84, 'python': 66}, 'Ba': {'physics': 68, 'math': 84, 'python': 66}, 'Qiang': {'physics': 68, 'math': 84, 'python': 66}, 'Kui': {'physics': 68, 'math': 84, 'python': 66}, 'Xiang': {'physics': 68, 'math': 84, 'python': 66}, 'Chen': {'physics': 68, 'math': 84, 'python': 66}, 'Pei': {'physics': 68, 'math': 84, 'python': 66}, 'Ge': {'physics': 68, 'math': 84, 'python': 66}, 'Bing': {'physics': 68, 'math': 84, 'python': 66}, 'Chou': {'physics': 68, 'math': 84, 'python': 66}, 'Shen': {'physics': 68, 'math': 84, 'python': 66}, 'Bi': {'physics': 68, 'math': 84, 'python': 66}, 'Song': {'physics': 68, 'math': 84, 'python': 66}, 'Kang': {'physics': 68, 'math': 84, 'python': 66}, 'Luo': {'physics': 68, 'math': 84, 'python': 66}, 'Tong': {'physics': 68, 'math': 84, 'python': 66}, 'Rui': {'physics': 68, 'math': 84, 'python': 66}, 'Che': {'physics': 68, 'math': 84, 'python': 66}, 'Miao': {'physics': 68, 'math': 84, 'python': 66}, 'Yi': {'physics': 68, 'math': 84, 'python': 66}, 'Yu': {'physics': 68, 'math': 84, 'python': 66}, 'Yao': {'physics': 68, 'math': 84, 'python': 66}, 'Cui': {'physics': 68, 'math': 84, 'python': 66}, 'He': {'physics': 68, 'math': 84, 'python': 66}, 'Cao': {'physics': 68, 'math': 84, 'python': 66}, 'Ding': {'physics': 68, 'math': 84, 'python': 66}, 'Lou': {'physics': 68, 'math': 84, 'python': 66}, 'Zu': {'physics': 68, 'math': 84, 'python': 66}, 'Lang': {'physics': 68, 'math': 84, 'python': 66}, 'Li': {'physics': 68, 'math': 84, 'python': 66}, 'Gu': {'physics': 68, 'math': 84, 'python': 66}, 'Feng': {'physics': 68, 'math': 84, 'python': 66}, 'Bei': {'physics': 68, 'math': 84, 'python': 66}, 'Diao': {'physics': 68, 'math': 84, 'python': 66}, 'Xia': {'physics': 68, 'math': 84, 'python': 66}, 'Bian': {'physics': 68, 'math': 84, 'python': 66}, 'Ming': {'physics': 68, 'math': 84, 'python': 66}, 'Bo': {'physics': 68, 'math': 84, 'python': 66}, 'Sheng': {'physics': 68, 'math': 84, 'python': 66}, 'An': {'physics': 68, 'math': 84, 'python': 66}, 'Jin': {'physics': 68, 'math': 84, 'python': 66}, 'Ruan': {'physics': 68, 'math': 84, 'python': 66}, 'Min': {'physics': 68, 'math': 84, 'python': 66}, 'Sun': {'physics': 68, 'math': 84, 'python': 66}, 'Gan': {'physics': 68, 'math': 84, 'python': 66}, 'Lei': {'physics': 68, 'math': 84, 'python': 66}, 'Fan': {'physics': 68, 'math': 84, 'python': 66}, 'Ren': {'physics': 68, 'math': 84, 'python': 66}, 'Su': {'physics': 68, 'math': 84, 'python': 66}, 'Zan': {'physics': 68, 'math': 84, 'python': 66}, 'Ke': {'physics': 68, 'math': 84, 'python': 66}, 'Liang': {'physics': 68, 'math': 84, 'python': 66}, 'Jiao': {'physics': 68, 'math': 84, 'python': 66}, 'Zhen': {'physics': 68, 'math': 84, 'python': 66}, 'Bao': {'physics': 68, 'math': 84, 'python': 66}, 'Xuan': {'physics': 68, 'math': 84, 'python': 66}, 'Xing': {'physics': 68, 'math': 84, 'python': 66}, 'Zuo': {'physics': 68, 'math': 84, 'python': 66}, 'Ma': {'physics': 68, 'math': 84, 'python': 66}, 'Gao': {'physics': 68, 'math': 84, 'python': 66}, 'Zhou': {'physics': 68, 'math': 84, 'python': 66}, 'Guo': {'physics': 68, 'math': 84, 'python': 66}, 'Mou': {'physics': 68, 'math': 84, 'python': 66}, 'Lu': {'physics': 68, 'math': 84, 'python': 66}, 'Du': {'physics': 68, 'math': 84, 'python': 66}, 'Shui': {'physics': 68, 'math': 84, 'python': 66}, 'Shu': {'physics': 68, 'math': 84, 'python': 66}, 'Yin': {'physics': 68, 'math': 84, 'python': 66}}\n"
     ]
    }
   ],
   "source": [
    "print(score_db)"
   ]
  },
  {
   "cell_type": "code",
   "execution_count": 132,
   "id": "f54d98c7-6441-4fa6-b958-6d22ceb9b647",
   "metadata": {
    "tags": []
   },
   "outputs": [
    {
     "name": "stdout",
     "output_type": "stream",
     "text": [
      "68\n"
     ]
    }
   ],
   "source": [
    "print(score_db['Cao']['physics'])"
   ]
  },
  {
   "cell_type": "code",
   "execution_count": 135,
   "id": "97914acf-f661-4fa7-bd67-b14265e241f9",
   "metadata": {
    "tags": []
   },
   "outputs": [],
   "source": [
    "#用函数来优化，减少冗余\n",
    "def get_random_score():\n",
    "    score = math.ceil(random.gauss(75,20))\n",
    "    if score > 100: score = 100  \n",
    "    if score < 0: score = 0\n",
    "    return score"
   ]
  },
  {
   "cell_type": "code",
   "execution_count": 137,
   "id": "1c5abe42-7105-4343-a9bf-b2c6da1dd29f",
   "metadata": {
    "tags": []
   },
   "outputs": [
    {
     "name": "stdout",
     "output_type": "stream",
     "text": [
      "{'Hang': {'physics': 30, 'math': 39, 'phthon': 80}, 'Tou': {'physics': 100, 'math': 48, 'phthon': 79}, 'Mao': {'physics': 62, 'math': 39, 'phthon': 85}, 'Deng': {'physics': 67, 'math': 60, 'phthon': 90}, 'Ni': {'physics': 86, 'math': 84, 'phthon': 65}, 'Zhao': {'physics': 63, 'math': 89, 'phthon': 73}, 'Zhang': {'physics': 100, 'math': 24, 'phthon': 82}, 'Bai': {'physics': 77, 'math': 44, 'phthon': 68}, 'Ping': {'physics': 100, 'math': 82, 'phthon': 52}, 'Pang': {'physics': 57, 'math': 75, 'phthon': 61}, 'Guan': {'physics': 61, 'math': 55, 'phthon': 50}, 'Jie': {'physics': 79, 'math': 93, 'phthon': 80}, 'Tao': {'physics': 64, 'math': 95, 'phthon': 96}, 'Teng': {'physics': 62, 'math': 70, 'phthon': 84}, 'Rong': {'physics': 95, 'math': 82, 'phthon': 90}, 'Xun': {'physics': 100, 'math': 52, 'phthon': 81}, 'Fang': {'physics': 63, 'math': 77, 'phthon': 98}, 'Mu': {'physics': 61, 'math': 85, 'phthon': 82}, 'Hua': {'physics': 100, 'math': 70, 'phthon': 78}, 'Gong': {'physics': 80, 'math': 100, 'phthon': 63}, 'Luan': {'physics': 74, 'math': 66, 'phthon': 76}, 'Liu': {'physics': 89, 'math': 53, 'phthon': 58}, 'Ying': {'physics': 46, 'math': 78, 'phthon': 71}, 'Lin': {'physics': 88, 'math': 100, 'phthon': 64}, 'Fu': {'physics': 90, 'math': 95, 'phthon': 56}, 'Cai': {'physics': 94, 'math': 73, 'phthon': 73}, 'Hao': {'physics': 88, 'math': 44, 'phthon': 88}, 'Zhu': {'physics': 83, 'math': 57, 'phthon': 87}, 'Fei': {'physics': 70, 'math': 71, 'phthon': 87}, 'Meng': {'physics': 68, 'math': 74, 'phthon': 100}, 'Hu': {'physics': 66, 'math': 83, 'phthon': 75}, 'Ben': {'physics': 61, 'math': 63, 'phthon': 68}, 'Ban': {'physics': 40, 'math': 54, 'phthon': 100}, 'Zheng': {'physics': 66, 'math': 69, 'phthon': 92}, 'Pi': {'physics': 39, 'math': 100, 'phthon': 90}, 'Zhan': {'physics': 79, 'math': 56, 'phthon': 100}, 'Cheng': {'physics': 82, 'math': 47, 'phthon': 39}, 'Niu': {'physics': 100, 'math': 38, 'phthon': 73}, 'Lian': {'physics': 100, 'math': 82, 'phthon': 54}, 'Mei': {'physics': 37, 'math': 67, 'phthon': 74}, 'Duan': {'physics': 100, 'math': 53, 'phthon': 100}, 'Lan': {'physics': 100, 'math': 82, 'phthon': 62}, 'Shao': {'physics': 100, 'math': 47, 'phthon': 75}, 'Qi': {'physics': 82, 'math': 83, 'phthon': 81}, 'Ji': {'physics': 59, 'math': 82, 'phthon': 75}, 'Mi': {'physics': 64, 'math': 62, 'phthon': 89}, 'Ling': {'physics': 79, 'math': 100, 'phthon': 68}, 'Wan': {'physics': 100, 'math': 86, 'phthon': 100}, 'You': {'physics': 65, 'math': 61, 'phthon': 79}, 'Lv': {'physics': 96, 'math': 84, 'phthon': 89}, 'Cen': {'physics': 72, 'math': 59, 'phthon': 70}, 'Zou': {'physics': 91, 'math': 70, 'phthon': 75}, 'Xiao': {'physics': 46, 'math': 68, 'phthon': 58}, 'Dan': {'physics': 100, 'math': 69, 'phthon': 100}, 'Chu': {'physics': 82, 'math': 66, 'phthon': 96}, 'Wang': {'physics': 74, 'math': 78, 'phthon': 83}, 'Dou': {'physics': 89, 'math': 55, 'phthon': 77}, 'Zong': {'physics': 68, 'math': 100, 'phthon': 100}, 'Xie': {'physics': 85, 'math': 84, 'phthon': 77}, 'Yun': {'physics': 99, 'math': 78, 'phthon': 80}, 'Pan': {'physics': 85, 'math': 100, 'phthon': 62}, 'Di': {'physics': 100, 'math': 92, 'phthon': 47}, 'Tian': {'physics': 78, 'math': 72, 'phthon': 100}, 'Tan': {'physics': 58, 'math': 87, 'phthon': 85}, 'Zhi': {'physics': 84, 'math': 51, 'phthon': 80}, 'Hong': {'physics': 44, 'math': 55, 'phthon': 80}, 'Weng': {'physics': 82, 'math': 89, 'phthon': 79}, 'Wei': {'physics': 87, 'math': 100, 'phthon': 78}, 'Kong': {'physics': 65, 'math': 81, 'phthon': 93}, 'Yang': {'physics': 38, 'math': 79, 'phthon': 68}, 'Wu': {'physics': 65, 'math': 54, 'phthon': 80}, 'Xu': {'physics': 90, 'math': 44, 'phthon': 87}, 'Xue': {'physics': 71, 'math': 77, 'phthon': 45}, 'Dong': {'physics': 63, 'math': 93, 'phthon': 39}, 'Quan': {'physics': 78, 'math': 74, 'phthon': 65}, 'Huo': {'physics': 77, 'math': 93, 'phthon': 99}, 'Hui': {'physics': 63, 'math': 45, 'phthon': 76}, 'Chang': {'physics': 78, 'math': 52, 'phthon': 61}, 'Zang': {'physics': 69, 'math': 100, 'phthon': 83}, 'Tang': {'physics': 73, 'math': 76, 'phthon': 64}, 'Hou': {'physics': 91, 'math': 94, 'phthon': 69}, 'Shi': {'physics': 61, 'math': 33, 'phthon': 59}, 'Xi': {'physics': 57, 'math': 79, 'phthon': 72}, 'Shan': {'physics': 67, 'math': 66, 'phthon': 83}, 'Ning': {'physics': 30, 'math': 62, 'phthon': 85}, 'Zhong': {'physics': 92, 'math': 88, 'phthon': 61}, 'Yuan': {'physics': 95, 'math': 78, 'phthon': 41}, 'Mo': {'physics': 91, 'math': 69, 'phthon': 94}, 'Huang': {'physics': 73, 'math': 68, 'phthon': 92}, 'Xiong': {'physics': 72, 'math': 73, 'phthon': 91}, 'Jing': {'physics': 87, 'math': 88, 'phthon': 59}, 'Jia': {'physics': 79, 'math': 95, 'phthon': 51}, 'Dai': {'physics': 95, 'math': 68, 'phthon': 67}, 'Qu': {'physics': 66, 'math': 71, 'phthon': 98}, 'Qiu': {'physics': 100, 'math': 77, 'phthon': 50}, 'Han': {'physics': 74, 'math': 24, 'phthon': 40}, 'Qian': {'physics': 68, 'math': 47, 'phthon': 60}, 'Yan': {'physics': 56, 'math': 66, 'phthon': 72}, 'Jiang': {'physics': 85, 'math': 46, 'phthon': 70}, 'Qin': {'physics': 81, 'math': 100, 'phthon': 77}, 'Le': {'physics': 48, 'math': 58, 'phthon': 88}, 'Peng': {'physics': 53, 'math': 87, 'phthon': 62}, 'Ba': {'physics': 81, 'math': 100, 'phthon': 83}, 'Qiang': {'physics': 68, 'math': 53, 'phthon': 81}, 'Kui': {'physics': 66, 'math': 58, 'phthon': 69}, 'Xiang': {'physics': 53, 'math': 79, 'phthon': 63}, 'Chen': {'physics': 100, 'math': 86, 'phthon': 81}, 'Pei': {'physics': 81, 'math': 65, 'phthon': 73}, 'Ge': {'physics': 77, 'math': 74, 'phthon': 71}, 'Bing': {'physics': 100, 'math': 100, 'phthon': 100}, 'Chou': {'physics': 60, 'math': 100, 'phthon': 91}, 'Shen': {'physics': 68, 'math': 87, 'phthon': 62}, 'Bi': {'physics': 62, 'math': 88, 'phthon': 75}, 'Song': {'physics': 45, 'math': 65, 'phthon': 68}, 'Kang': {'physics': 72, 'math': 100, 'phthon': 55}, 'Luo': {'physics': 46, 'math': 91, 'phthon': 92}, 'Tong': {'physics': 82, 'math': 76, 'phthon': 91}, 'Rui': {'physics': 21, 'math': 48, 'phthon': 97}, 'Che': {'physics': 100, 'math': 71, 'phthon': 91}, 'Miao': {'physics': 100, 'math': 87, 'phthon': 77}, 'Yi': {'physics': 85, 'math': 39, 'phthon': 88}, 'Yu': {'physics': 100, 'math': 56, 'phthon': 92}, 'Yao': {'physics': 89, 'math': 82, 'phthon': 61}, 'Cui': {'physics': 57, 'math': 88, 'phthon': 80}, 'He': {'physics': 91, 'math': 73, 'phthon': 85}, 'Cao': {'physics': 99, 'math': 96, 'phthon': 73}, 'Ding': {'physics': 97, 'math': 90, 'phthon': 56}, 'Lou': {'physics': 69, 'math': 41, 'phthon': 75}, 'Zu': {'physics': 67, 'math': 87, 'phthon': 58}, 'Lang': {'physics': 81, 'math': 87, 'phthon': 71}, 'Li': {'physics': 64, 'math': 81, 'phthon': 71}, 'Gu': {'physics': 68, 'math': 58, 'phthon': 68}, 'Feng': {'physics': 85, 'math': 77, 'phthon': 31}, 'Bei': {'physics': 62, 'math': 98, 'phthon': 64}, 'Diao': {'physics': 53, 'math': 89, 'phthon': 61}, 'Xia': {'physics': 81, 'math': 100, 'phthon': 70}, 'Bian': {'physics': 100, 'math': 89, 'phthon': 89}, 'Ming': {'physics': 100, 'math': 68, 'phthon': 92}, 'Bo': {'physics': 45, 'math': 65, 'phthon': 96}, 'Sheng': {'physics': 97, 'math': 59, 'phthon': 100}, 'An': {'physics': 91, 'math': 70, 'phthon': 56}, 'Jin': {'physics': 58, 'math': 100, 'phthon': 100}, 'Ruan': {'physics': 72, 'math': 69, 'phthon': 87}, 'Min': {'physics': 99, 'math': 87, 'phthon': 45}, 'Sun': {'physics': 100, 'math': 100, 'phthon': 63}, 'Gan': {'physics': 52, 'math': 59, 'phthon': 100}, 'Lei': {'physics': 70, 'math': 89, 'phthon': 91}, 'Fan': {'physics': 96, 'math': 79, 'phthon': 67}, 'Ren': {'physics': 71, 'math': 57, 'phthon': 70}, 'Su': {'physics': 95, 'math': 52, 'phthon': 56}, 'Zan': {'physics': 100, 'math': 43, 'phthon': 74}, 'Ke': {'physics': 56, 'math': 58, 'phthon': 79}, 'Liang': {'physics': 55, 'math': 95, 'phthon': 100}, 'Jiao': {'physics': 65, 'math': 100, 'phthon': 65}, 'Zhen': {'physics': 40, 'math': 71, 'phthon': 53}, 'Bao': {'physics': 100, 'math': 42, 'phthon': 53}, 'Xuan': {'physics': 83, 'math': 57, 'phthon': 93}, 'Xing': {'physics': 100, 'math': 63, 'phthon': 79}, 'Zuo': {'physics': 67, 'math': 96, 'phthon': 76}, 'Ma': {'physics': 70, 'math': 46, 'phthon': 100}, 'Gao': {'physics': 71, 'math': 91, 'phthon': 54}, 'Zhou': {'physics': 64, 'math': 61, 'phthon': 61}, 'Guo': {'physics': 100, 'math': 52, 'phthon': 73}, 'Mou': {'physics': 100, 'math': 66, 'phthon': 34}, 'Lu': {'physics': 91, 'math': 56, 'phthon': 81}, 'Du': {'physics': 100, 'math': 70, 'phthon': 53}, 'Shui': {'physics': 29, 'math': 100, 'phthon': 85}, 'Shu': {'physics': 90, 'math': 68, 'phthon': 86}, 'Yin': {'physics': 100, 'math': 47, 'phthon': 97}}\n"
     ]
    }
   ],
   "source": [
    "score_db = dict()\n",
    "for name in names:\n",
    "    score_db[name] = {'physics':get_random_score(),'math':get_random_score(),'phthon':get_random_score()}   \n",
    "print(score_db)"
   ]
  },
  {
   "cell_type": "code",
   "execution_count": 138,
   "id": "4609e169-95b8-4484-8ff2-f5b36d8a0aad",
   "metadata": {
    "tags": []
   },
   "outputs": [],
   "source": [
    "score_db = {name :{'physics':get_random_score(),'math':get_random_score(),'phthon':get_random_score()}for name in names}"
   ]
  },
  {
   "cell_type": "code",
   "execution_count": 139,
   "id": "70c7327d-bab5-4885-af04-33b6c21a5862",
   "metadata": {
    "tags": []
   },
   "outputs": [
    {
     "name": "stdout",
     "output_type": "stream",
     "text": [
      "{'Hang': {'physics': 88, 'math': 100, 'phthon': 83}, 'Tou': {'physics': 83, 'math': 91, 'phthon': 71}, 'Mao': {'physics': 90, 'math': 93, 'phthon': 72}, 'Deng': {'physics': 75, 'math': 49, 'phthon': 65}, 'Ni': {'physics': 56, 'math': 81, 'phthon': 100}, 'Zhao': {'physics': 58, 'math': 89, 'phthon': 67}, 'Zhang': {'physics': 100, 'math': 100, 'phthon': 80}, 'Bai': {'physics': 100, 'math': 96, 'phthon': 100}, 'Ping': {'physics': 62, 'math': 65, 'phthon': 69}, 'Pang': {'physics': 78, 'math': 94, 'phthon': 66}, 'Guan': {'physics': 66, 'math': 32, 'phthon': 88}, 'Jie': {'physics': 78, 'math': 100, 'phthon': 97}, 'Tao': {'physics': 66, 'math': 60, 'phthon': 64}, 'Teng': {'physics': 78, 'math': 93, 'phthon': 87}, 'Rong': {'physics': 100, 'math': 61, 'phthon': 100}, 'Xun': {'physics': 74, 'math': 66, 'phthon': 81}, 'Fang': {'physics': 98, 'math': 73, 'phthon': 60}, 'Mu': {'physics': 91, 'math': 78, 'phthon': 82}, 'Hua': {'physics': 81, 'math': 69, 'phthon': 70}, 'Gong': {'physics': 56, 'math': 52, 'phthon': 90}, 'Luan': {'physics': 85, 'math': 100, 'phthon': 51}, 'Liu': {'physics': 97, 'math': 100, 'phthon': 72}, 'Ying': {'physics': 57, 'math': 57, 'phthon': 100}, 'Lin': {'physics': 68, 'math': 25, 'phthon': 80}, 'Fu': {'physics': 62, 'math': 85, 'phthon': 73}, 'Cai': {'physics': 81, 'math': 84, 'phthon': 57}, 'Hao': {'physics': 19, 'math': 87, 'phthon': 90}, 'Zhu': {'physics': 55, 'math': 37, 'phthon': 86}, 'Fei': {'physics': 66, 'math': 70, 'phthon': 86}, 'Meng': {'physics': 78, 'math': 76, 'phthon': 63}, 'Hu': {'physics': 46, 'math': 98, 'phthon': 52}, 'Ben': {'physics': 92, 'math': 54, 'phthon': 55}, 'Ban': {'physics': 74, 'math': 100, 'phthon': 69}, 'Zheng': {'physics': 67, 'math': 44, 'phthon': 100}, 'Pi': {'physics': 83, 'math': 64, 'phthon': 67}, 'Zhan': {'physics': 84, 'math': 70, 'phthon': 72}, 'Cheng': {'physics': 100, 'math': 73, 'phthon': 74}, 'Niu': {'physics': 52, 'math': 46, 'phthon': 84}, 'Lian': {'physics': 90, 'math': 100, 'phthon': 100}, 'Mei': {'physics': 81, 'math': 44, 'phthon': 86}, 'Duan': {'physics': 42, 'math': 76, 'phthon': 76}, 'Lan': {'physics': 76, 'math': 68, 'phthon': 75}, 'Shao': {'physics': 100, 'math': 78, 'phthon': 77}, 'Qi': {'physics': 89, 'math': 60, 'phthon': 70}, 'Ji': {'physics': 100, 'math': 75, 'phthon': 71}, 'Mi': {'physics': 57, 'math': 59, 'phthon': 71}, 'Ling': {'physics': 82, 'math': 50, 'phthon': 53}, 'Wan': {'physics': 82, 'math': 83, 'phthon': 97}, 'You': {'physics': 100, 'math': 49, 'phthon': 65}, 'Lv': {'physics': 24, 'math': 79, 'phthon': 49}, 'Cen': {'physics': 89, 'math': 55, 'phthon': 100}, 'Zou': {'physics': 61, 'math': 58, 'phthon': 72}, 'Xiao': {'physics': 67, 'math': 48, 'phthon': 56}, 'Dan': {'physics': 49, 'math': 74, 'phthon': 72}, 'Chu': {'physics': 80, 'math': 61, 'phthon': 60}, 'Wang': {'physics': 22, 'math': 74, 'phthon': 75}, 'Dou': {'physics': 100, 'math': 100, 'phthon': 87}, 'Zong': {'physics': 64, 'math': 100, 'phthon': 91}, 'Xie': {'physics': 78, 'math': 37, 'phthon': 100}, 'Yun': {'physics': 70, 'math': 96, 'phthon': 87}, 'Pan': {'physics': 71, 'math': 61, 'phthon': 48}, 'Di': {'physics': 67, 'math': 60, 'phthon': 96}, 'Tian': {'physics': 78, 'math': 95, 'phthon': 99}, 'Tan': {'physics': 64, 'math': 100, 'phthon': 100}, 'Zhi': {'physics': 79, 'math': 70, 'phthon': 90}, 'Hong': {'physics': 76, 'math': 72, 'phthon': 88}, 'Weng': {'physics': 94, 'math': 76, 'phthon': 89}, 'Wei': {'physics': 100, 'math': 63, 'phthon': 100}, 'Kong': {'physics': 87, 'math': 85, 'phthon': 91}, 'Yang': {'physics': 100, 'math': 58, 'phthon': 100}, 'Wu': {'physics': 100, 'math': 63, 'phthon': 100}, 'Xu': {'physics': 73, 'math': 70, 'phthon': 51}, 'Xue': {'physics': 68, 'math': 67, 'phthon': 74}, 'Dong': {'physics': 86, 'math': 77, 'phthon': 86}, 'Quan': {'physics': 81, 'math': 100, 'phthon': 51}, 'Huo': {'physics': 88, 'math': 82, 'phthon': 82}, 'Hui': {'physics': 77, 'math': 64, 'phthon': 95}, 'Chang': {'physics': 84, 'math': 49, 'phthon': 94}, 'Zang': {'physics': 100, 'math': 100, 'phthon': 70}, 'Tang': {'physics': 58, 'math': 97, 'phthon': 84}, 'Hou': {'physics': 66, 'math': 59, 'phthon': 36}, 'Shi': {'physics': 90, 'math': 41, 'phthon': 71}, 'Xi': {'physics': 61, 'math': 52, 'phthon': 46}, 'Shan': {'physics': 89, 'math': 72, 'phthon': 100}, 'Ning': {'physics': 92, 'math': 51, 'phthon': 68}, 'Zhong': {'physics': 32, 'math': 87, 'phthon': 56}, 'Yuan': {'physics': 73, 'math': 91, 'phthon': 100}, 'Mo': {'physics': 100, 'math': 80, 'phthon': 73}, 'Huang': {'physics': 90, 'math': 88, 'phthon': 98}, 'Xiong': {'physics': 84, 'math': 99, 'phthon': 90}, 'Jing': {'physics': 95, 'math': 69, 'phthon': 71}, 'Jia': {'physics': 84, 'math': 100, 'phthon': 100}, 'Dai': {'physics': 58, 'math': 69, 'phthon': 71}, 'Qu': {'physics': 93, 'math': 49, 'phthon': 45}, 'Qiu': {'physics': 87, 'math': 83, 'phthon': 74}, 'Han': {'physics': 71, 'math': 99, 'phthon': 90}, 'Qian': {'physics': 87, 'math': 92, 'phthon': 76}, 'Yan': {'physics': 62, 'math': 68, 'phthon': 73}, 'Jiang': {'physics': 76, 'math': 97, 'phthon': 81}, 'Qin': {'physics': 73, 'math': 88, 'phthon': 57}, 'Le': {'physics': 80, 'math': 71, 'phthon': 63}, 'Peng': {'physics': 100, 'math': 51, 'phthon': 69}, 'Ba': {'physics': 99, 'math': 47, 'phthon': 68}, 'Qiang': {'physics': 75, 'math': 99, 'phthon': 97}, 'Kui': {'physics': 100, 'math': 90, 'phthon': 47}, 'Xiang': {'physics': 100, 'math': 37, 'phthon': 78}, 'Chen': {'physics': 61, 'math': 100, 'phthon': 75}, 'Pei': {'physics': 85, 'math': 39, 'phthon': 72}, 'Ge': {'physics': 54, 'math': 70, 'phthon': 78}, 'Bing': {'physics': 72, 'math': 74, 'phthon': 80}, 'Chou': {'physics': 77, 'math': 78, 'phthon': 100}, 'Shen': {'physics': 59, 'math': 100, 'phthon': 68}, 'Bi': {'physics': 57, 'math': 90, 'phthon': 81}, 'Song': {'physics': 80, 'math': 76, 'phthon': 93}, 'Kang': {'physics': 98, 'math': 65, 'phthon': 81}, 'Luo': {'physics': 62, 'math': 63, 'phthon': 100}, 'Tong': {'physics': 73, 'math': 38, 'phthon': 50}, 'Rui': {'physics': 99, 'math': 62, 'phthon': 95}, 'Che': {'physics': 59, 'math': 72, 'phthon': 81}, 'Miao': {'physics': 100, 'math': 100, 'phthon': 74}, 'Yi': {'physics': 100, 'math': 73, 'phthon': 37}, 'Yu': {'physics': 50, 'math': 52, 'phthon': 100}, 'Yao': {'physics': 60, 'math': 62, 'phthon': 100}, 'Cui': {'physics': 65, 'math': 69, 'phthon': 83}, 'He': {'physics': 74, 'math': 100, 'phthon': 90}, 'Cao': {'physics': 76, 'math': 85, 'phthon': 34}, 'Ding': {'physics': 62, 'math': 56, 'phthon': 100}, 'Lou': {'physics': 67, 'math': 74, 'phthon': 72}, 'Zu': {'physics': 70, 'math': 67, 'phthon': 62}, 'Lang': {'physics': 9, 'math': 58, 'phthon': 64}, 'Li': {'physics': 72, 'math': 93, 'phthon': 36}, 'Gu': {'physics': 96, 'math': 98, 'phthon': 100}, 'Feng': {'physics': 98, 'math': 77, 'phthon': 100}, 'Bei': {'physics': 64, 'math': 100, 'phthon': 100}, 'Diao': {'physics': 51, 'math': 59, 'phthon': 91}, 'Xia': {'physics': 64, 'math': 79, 'phthon': 76}, 'Bian': {'physics': 89, 'math': 72, 'phthon': 84}, 'Ming': {'physics': 38, 'math': 82, 'phthon': 86}, 'Bo': {'physics': 42, 'math': 71, 'phthon': 96}, 'Sheng': {'physics': 68, 'math': 67, 'phthon': 100}, 'An': {'physics': 67, 'math': 72, 'phthon': 88}, 'Jin': {'physics': 95, 'math': 63, 'phthon': 38}, 'Ruan': {'physics': 83, 'math': 100, 'phthon': 65}, 'Min': {'physics': 94, 'math': 100, 'phthon': 64}, 'Sun': {'physics': 100, 'math': 76, 'phthon': 62}, 'Gan': {'physics': 91, 'math': 74, 'phthon': 75}, 'Lei': {'physics': 97, 'math': 46, 'phthon': 88}, 'Fan': {'physics': 76, 'math': 65, 'phthon': 59}, 'Ren': {'physics': 79, 'math': 45, 'phthon': 22}, 'Su': {'physics': 61, 'math': 75, 'phthon': 91}, 'Zan': {'physics': 70, 'math': 71, 'phthon': 100}, 'Ke': {'physics': 93, 'math': 80, 'phthon': 63}, 'Liang': {'physics': 80, 'math': 55, 'phthon': 60}, 'Jiao': {'physics': 100, 'math': 59, 'phthon': 76}, 'Zhen': {'physics': 79, 'math': 70, 'phthon': 97}, 'Bao': {'physics': 80, 'math': 85, 'phthon': 100}, 'Xuan': {'physics': 77, 'math': 100, 'phthon': 71}, 'Xing': {'physics': 68, 'math': 38, 'phthon': 85}, 'Zuo': {'physics': 79, 'math': 53, 'phthon': 96}, 'Ma': {'physics': 92, 'math': 57, 'phthon': 77}, 'Gao': {'physics': 54, 'math': 98, 'phthon': 67}, 'Zhou': {'physics': 86, 'math': 25, 'phthon': 71}, 'Guo': {'physics': 85, 'math': 80, 'phthon': 100}, 'Mou': {'physics': 100, 'math': 94, 'phthon': 87}, 'Lu': {'physics': 95, 'math': 49, 'phthon': 38}, 'Du': {'physics': 56, 'math': 45, 'phthon': 100}, 'Shui': {'physics': 88, 'math': 61, 'phthon': 100}, 'Shu': {'physics': 79, 'math': 95, 'phthon': 52}, 'Yin': {'physics': 85, 'math': 82, 'phthon': 86}}\n"
     ]
    }
   ],
   "source": [
    "print(score_db)"
   ]
  },
  {
   "cell_type": "markdown",
   "id": "856011fd-e1ae-4f47-a502-afa156c320ca",
   "metadata": {},
   "source": [
    "想把数据存储下来？？？先要在某路径创建一个json文件"
   ]
  },
  {
   "cell_type": "code",
   "execution_count": 143,
   "id": "98da16f3-3f10-43f1-a6dc-1162e5b4fafc",
   "metadata": {
    "tags": []
   },
   "outputs": [
    {
     "name": "stdin",
     "output_type": "stream",
     "text": [
      "P:  Yin\n"
     ]
    },
    {
     "name": "stdout",
     "output_type": "stream",
     "text": [
      "physics: 85\n",
      "math: 82\n",
      "python: 86\n",
      "Total:253\n"
     ]
    }
   ],
   "source": [
    "name = input('P: ')\n",
    "print(f\"physics: {score_db[name]['physics']}\")\n",
    "print(f\"math: {score_db[name]['math']}\")\n",
    "print(f\"python: {score_db[name]['phthon']}\")\n",
    "print(f\"Total:{score_db[name]['physics'] + score_db[name]['math'] + score_db[name]['phthon']}\")"
   ]
  },
  {
   "cell_type": "code",
   "execution_count": null,
   "id": "627c116c-6d41-4f06-8ce6-3ea374d9501d",
   "metadata": {},
   "outputs": [],
   "source": [
    "import json\n",
    "\n",
    "with open('d:\\\\sore_db.json', 'w') as f:\n",
    "    json.dump(score_db, f)"
   ]
  },
  {
   "cell_type": "code",
   "execution_count": null,
   "id": "c754a5a3-241f-4c4a-9f67-36cef84dee00",
   "metadata": {},
   "outputs": [],
   "source": [
    "import json\n",
    "\n",
    "with open('d:\\\\sore_db.json', ) as f:   #缺省就是'r'\n",
    "    score_db = json.load(f)  #f它会适时地自动关闭，这样不必操心"
   ]
  },
  {
   "cell_type": "markdown",
   "id": "8fa76a7f-a0b3-4178-9303-57791f702074",
   "metadata": {},
   "source": [
    "思考：输出全部成绩并且按总分排序后输出？？"
   ]
  },
  {
   "cell_type": "code",
   "execution_count": 147,
   "id": "2a477e8a-a375-4497-8ee7-976e23c9752d",
   "metadata": {
    "tags": []
   },
   "outputs": [
    {
     "data": {
      "text/plain": [
       "{'a': 1, 'b': 0}"
      ]
     },
     "execution_count": 147,
     "metadata": {},
     "output_type": "execute_result"
    }
   ],
   "source": [
    "#setdefault函数\n",
    "d = dict()\n",
    "d['a'] = 1\n",
    "d.setdefault('a', 0)\n",
    "d.setdefault('b', 0)\n",
    "\n",
    "d"
   ]
  },
  {
   "cell_type": "markdown",
   "id": "0ef5094c-a84c-4b62-9fea-fb1467718891",
   "metadata": {},
   "source": [
    "统计《罗密欧与朱丽叶》里面每个字母地出现次数"
   ]
  },
  {
   "cell_type": "code",
   "execution_count": 3,
   "id": "3a494af1-8991-4f74-9ff8-50cc988c2dfa",
   "metadata": {
    "tags": []
   },
   "outputs": [],
   "source": [
    "text = '''\n",
    "Google today released the open source version of the differential privacy library used in some its core products, such as Google Maps. Any organization or developer can now check out the library on GitHub.\n",
    "\n",
    "Differential privacy limits the algorithms used to publish aggregate information about a statistical database. Whether you are a city planner, small business owner, or software developer, chances are you want to gain insights from the data of your citizens, customers, or users. But you don’t want to lose their trust in the process. Differentially private data analysis enables organizations to learn from the majority of their data without allowing any single individual’s data to be distinguished or re-identified.\n",
    "\n",
    "“If you are a health researcher, you may want to compare the average amount of time patients remain admitted across various hospitals in order to determine if there are differences in care,” Google product manager Miguel Guevara explains. “Differential privacy is a high-assurance, analytic means of ensuring that use cases like this are addressed in a privacy-preserving manner.”\n",
    "Differential privacy library features\n",
    "\n",
    "Google promises its library is easy for developers to deploy. It can help you perform functions that are difficult to execute from scratch, “like automatically calculating bounds on user contributions,” Guevera says. Key features include:\n",
    "\n",
    "    Statistical functions: Most common data science operations (counts, sums, averages, medians, and percentiles) are supported.\n",
    "    Rigorous testing: Besides an extensive test suite, an extensible “Stochastic Differential Privacy Model Checker library” helps prevent mistakes.\n",
    "    Ready to use: A PostgreSQL extension, along with common recipes, is included.\n",
    "    Modular: The library can be extended to include other functionalities, such as additional mechanisms, aggregation functions, or privacy budget management.\n",
    "\n",
    "This isn’t Google’s first differential privacy rodeo, but the company has been particularly busy in the space this year. In March, Google released TensorFlow Privacy and TensorFlow Federated. In June, the company open-sourced Private Join and Compute, which gives companies data insights while preserving privacy. To learn more about Google’s approach, check out the team’s technical paper on arXiv.\n",
    "'''"
   ]
  },
  {
   "cell_type": "code",
   "execution_count": 4,
   "id": "6e6137b2-5dff-44e6-9269-2b1fa1ad556a",
   "metadata": {
    "tags": []
   },
   "outputs": [],
   "source": [
    "words = text.split(' ')#用空格切开"
   ]
  },
  {
   "cell_type": "code",
   "execution_count": 5,
   "id": "7e5e9108-acec-4b14-ba58-1d99f0f01be7",
   "metadata": {
    "tags": []
   },
   "outputs": [
    {
     "data": {
      "text/plain": [
       "['\\nGoogle',\n",
       " 'today',\n",
       " 'released',\n",
       " 'the',\n",
       " 'open',\n",
       " 'source',\n",
       " 'version',\n",
       " 'of',\n",
       " 'the',\n",
       " 'differential',\n",
       " 'privacy',\n",
       " 'library',\n",
       " 'used',\n",
       " 'in',\n",
       " 'some',\n",
       " 'its',\n",
       " 'core',\n",
       " 'products,',\n",
       " 'such',\n",
       " 'as',\n",
       " 'Google',\n",
       " 'Maps.',\n",
       " 'Any',\n",
       " 'organization',\n",
       " 'or',\n",
       " 'developer',\n",
       " 'can',\n",
       " 'now',\n",
       " 'check',\n",
       " 'out',\n",
       " 'the',\n",
       " 'library',\n",
       " 'on',\n",
       " 'GitHub.\\n\\nDifferential',\n",
       " 'privacy',\n",
       " 'limits',\n",
       " 'the',\n",
       " 'algorithms',\n",
       " 'used',\n",
       " 'to',\n",
       " 'publish',\n",
       " 'aggregate',\n",
       " 'information',\n",
       " 'about',\n",
       " 'a',\n",
       " 'statistical',\n",
       " 'database.',\n",
       " 'Whether',\n",
       " 'you',\n",
       " 'are',\n",
       " 'a',\n",
       " 'city',\n",
       " 'planner,',\n",
       " 'small',\n",
       " 'business',\n",
       " 'owner,',\n",
       " 'or',\n",
       " 'software',\n",
       " 'developer,',\n",
       " 'chances',\n",
       " 'are',\n",
       " 'you',\n",
       " 'want',\n",
       " 'to',\n",
       " 'gain',\n",
       " 'insights',\n",
       " 'from',\n",
       " 'the',\n",
       " 'data',\n",
       " 'of',\n",
       " 'your',\n",
       " 'citizens,',\n",
       " 'customers,',\n",
       " 'or',\n",
       " 'users.',\n",
       " 'But',\n",
       " 'you',\n",
       " 'don’t',\n",
       " 'want',\n",
       " 'to',\n",
       " 'lose',\n",
       " 'their',\n",
       " 'trust',\n",
       " 'in',\n",
       " 'the',\n",
       " 'process.',\n",
       " 'Differentially',\n",
       " 'private',\n",
       " 'data',\n",
       " 'analysis',\n",
       " 'enables',\n",
       " 'organizations',\n",
       " 'to',\n",
       " 'learn',\n",
       " 'from',\n",
       " 'the',\n",
       " 'majority',\n",
       " 'of',\n",
       " 'their',\n",
       " 'data',\n",
       " 'without',\n",
       " 'allowing',\n",
       " 'any',\n",
       " 'single',\n",
       " 'individual’s',\n",
       " 'data',\n",
       " 'to',\n",
       " 'be',\n",
       " 'distinguished',\n",
       " 'or',\n",
       " 're-identified.\\n\\n“If',\n",
       " 'you',\n",
       " 'are',\n",
       " 'a',\n",
       " 'health',\n",
       " 'researcher,',\n",
       " 'you',\n",
       " 'may',\n",
       " 'want',\n",
       " 'to',\n",
       " 'compare',\n",
       " 'the',\n",
       " 'average',\n",
       " 'amount',\n",
       " 'of',\n",
       " 'time',\n",
       " 'patients',\n",
       " 'remain',\n",
       " 'admitted',\n",
       " 'across',\n",
       " 'various',\n",
       " 'hospitals',\n",
       " 'in',\n",
       " 'order',\n",
       " 'to',\n",
       " 'determine',\n",
       " 'if',\n",
       " 'there',\n",
       " 'are',\n",
       " 'differences',\n",
       " 'in',\n",
       " 'care,”',\n",
       " 'Google',\n",
       " 'product',\n",
       " 'manager',\n",
       " 'Miguel',\n",
       " 'Guevara',\n",
       " 'explains.',\n",
       " '“Differential',\n",
       " 'privacy',\n",
       " 'is',\n",
       " 'a',\n",
       " 'high-assurance,',\n",
       " 'analytic',\n",
       " 'means',\n",
       " 'of',\n",
       " 'ensuring',\n",
       " 'that',\n",
       " 'use',\n",
       " 'cases',\n",
       " 'like',\n",
       " 'this',\n",
       " 'are',\n",
       " 'addressed',\n",
       " 'in',\n",
       " 'a',\n",
       " 'privacy-preserving',\n",
       " 'manner.”\\nDifferential',\n",
       " 'privacy',\n",
       " 'library',\n",
       " 'features\\n\\nGoogle',\n",
       " 'promises',\n",
       " 'its',\n",
       " 'library',\n",
       " 'is',\n",
       " 'easy',\n",
       " 'for',\n",
       " 'developers',\n",
       " 'to',\n",
       " 'deploy.',\n",
       " 'It',\n",
       " 'can',\n",
       " 'help',\n",
       " 'you',\n",
       " 'perform',\n",
       " 'functions',\n",
       " 'that',\n",
       " 'are',\n",
       " 'difficult',\n",
       " 'to',\n",
       " 'execute',\n",
       " 'from',\n",
       " 'scratch,',\n",
       " '“like',\n",
       " 'automatically',\n",
       " 'calculating',\n",
       " 'bounds',\n",
       " 'on',\n",
       " 'user',\n",
       " 'contributions,”',\n",
       " 'Guevera',\n",
       " 'says.',\n",
       " 'Key',\n",
       " 'features',\n",
       " 'include:\\n\\n',\n",
       " '',\n",
       " '',\n",
       " '',\n",
       " 'Statistical',\n",
       " 'functions:',\n",
       " 'Most',\n",
       " 'common',\n",
       " 'data',\n",
       " 'science',\n",
       " 'operations',\n",
       " '(counts,',\n",
       " 'sums,',\n",
       " 'averages,',\n",
       " 'medians,',\n",
       " 'and',\n",
       " 'percentiles)',\n",
       " 'are',\n",
       " 'supported.\\n',\n",
       " '',\n",
       " '',\n",
       " '',\n",
       " 'Rigorous',\n",
       " 'testing:',\n",
       " 'Besides',\n",
       " 'an',\n",
       " 'extensive',\n",
       " 'test',\n",
       " 'suite,',\n",
       " 'an',\n",
       " 'extensible',\n",
       " '“Stochastic',\n",
       " 'Differential',\n",
       " 'Privacy',\n",
       " 'Model',\n",
       " 'Checker',\n",
       " 'library”',\n",
       " 'helps',\n",
       " 'prevent',\n",
       " 'mistakes.\\n',\n",
       " '',\n",
       " '',\n",
       " '',\n",
       " 'Ready',\n",
       " 'to',\n",
       " 'use:',\n",
       " 'A',\n",
       " 'PostgreSQL',\n",
       " 'extension,',\n",
       " 'along',\n",
       " 'with',\n",
       " 'common',\n",
       " 'recipes,',\n",
       " 'is',\n",
       " 'included.\\n',\n",
       " '',\n",
       " '',\n",
       " '',\n",
       " 'Modular:',\n",
       " 'The',\n",
       " 'library',\n",
       " 'can',\n",
       " 'be',\n",
       " 'extended',\n",
       " 'to',\n",
       " 'include',\n",
       " 'other',\n",
       " 'functionalities,',\n",
       " 'such',\n",
       " 'as',\n",
       " 'additional',\n",
       " 'mechanisms,',\n",
       " 'aggregation',\n",
       " 'functions,',\n",
       " 'or',\n",
       " 'privacy',\n",
       " 'budget',\n",
       " 'management.\\n\\nThis',\n",
       " 'isn’t',\n",
       " 'Google’s',\n",
       " 'first',\n",
       " 'differential',\n",
       " 'privacy',\n",
       " 'rodeo,',\n",
       " 'but',\n",
       " 'the',\n",
       " 'company',\n",
       " 'has',\n",
       " 'been',\n",
       " 'particularly',\n",
       " 'busy',\n",
       " 'in',\n",
       " 'the',\n",
       " 'space',\n",
       " 'this',\n",
       " 'year.',\n",
       " 'In',\n",
       " 'March,',\n",
       " 'Google',\n",
       " 'released',\n",
       " 'TensorFlow',\n",
       " 'Privacy',\n",
       " 'and',\n",
       " 'TensorFlow',\n",
       " 'Federated.',\n",
       " 'In',\n",
       " 'June,',\n",
       " 'the',\n",
       " 'company',\n",
       " 'open-sourced',\n",
       " 'Private',\n",
       " 'Join',\n",
       " 'and',\n",
       " 'Compute,',\n",
       " 'which',\n",
       " 'gives',\n",
       " 'companies',\n",
       " 'data',\n",
       " 'insights',\n",
       " 'while',\n",
       " 'preserving',\n",
       " 'privacy.',\n",
       " 'To',\n",
       " 'learn',\n",
       " 'more',\n",
       " 'about',\n",
       " 'Google’s',\n",
       " 'approach,',\n",
       " 'check',\n",
       " 'out',\n",
       " 'the',\n",
       " 'team’s',\n",
       " 'technical',\n",
       " 'paper',\n",
       " 'on',\n",
       " 'arXiv.\\n']"
      ]
     },
     "execution_count": 5,
     "metadata": {},
     "output_type": "execute_result"
    }
   ],
   "source": [
    "words#还有很多换行啊、符号啊"
   ]
  },
  {
   "cell_type": "code",
   "execution_count": 6,
   "id": "d0718931-86c9-49a6-882a-a1a06468984c",
   "metadata": {
    "tags": []
   },
   "outputs": [
    {
     "data": {
      "text/plain": [
       "['google',\n",
       " 'today',\n",
       " 'released',\n",
       " 'the',\n",
       " 'open',\n",
       " 'source',\n",
       " 'version',\n",
       " 'of',\n",
       " 'the',\n",
       " 'differential',\n",
       " 'privacy',\n",
       " 'library',\n",
       " 'used',\n",
       " 'in',\n",
       " 'some',\n",
       " 'its',\n",
       " 'core',\n",
       " 'products',\n",
       " 'such',\n",
       " 'as',\n",
       " 'google',\n",
       " 'maps',\n",
       " 'any',\n",
       " 'organization',\n",
       " 'or',\n",
       " 'developer',\n",
       " 'can',\n",
       " 'now',\n",
       " 'check',\n",
       " 'out',\n",
       " 'the',\n",
       " 'library',\n",
       " 'on',\n",
       " 'github',\n",
       " 'differential',\n",
       " 'privacy',\n",
       " 'limits',\n",
       " 'the',\n",
       " 'algorithms',\n",
       " 'used',\n",
       " 'to',\n",
       " 'publish',\n",
       " 'aggregate',\n",
       " 'information',\n",
       " 'about',\n",
       " 'a',\n",
       " 'statistical',\n",
       " 'database',\n",
       " 'whether',\n",
       " 'you',\n",
       " 'are',\n",
       " 'a',\n",
       " 'city',\n",
       " 'planner',\n",
       " 'small',\n",
       " 'business',\n",
       " 'owner',\n",
       " 'or',\n",
       " 'software',\n",
       " 'developer',\n",
       " 'chances',\n",
       " 'are',\n",
       " 'you',\n",
       " 'want',\n",
       " 'to',\n",
       " 'gain',\n",
       " 'insights',\n",
       " 'from',\n",
       " 'the',\n",
       " 'data',\n",
       " 'of',\n",
       " 'your',\n",
       " 'citizens',\n",
       " 'customers',\n",
       " 'or',\n",
       " 'users',\n",
       " 'but',\n",
       " 'you',\n",
       " 'don’t',\n",
       " 'want',\n",
       " 'to',\n",
       " 'lose',\n",
       " 'their',\n",
       " 'trust',\n",
       " 'in',\n",
       " 'the',\n",
       " 'process',\n",
       " 'differentially',\n",
       " 'private',\n",
       " 'data',\n",
       " 'analysis',\n",
       " 'enables',\n",
       " 'organizations',\n",
       " 'to',\n",
       " 'learn',\n",
       " 'from',\n",
       " 'the',\n",
       " 'majority',\n",
       " 'of',\n",
       " 'their',\n",
       " 'data',\n",
       " 'without',\n",
       " 'allowing',\n",
       " 'any',\n",
       " 'single',\n",
       " 'individual’s',\n",
       " 'data',\n",
       " 'to',\n",
       " 'be',\n",
       " 'distinguished',\n",
       " 'or',\n",
       " 're-identified',\n",
       " 'if',\n",
       " 'you',\n",
       " 'are',\n",
       " 'a',\n",
       " 'health',\n",
       " 'researcher',\n",
       " 'you',\n",
       " 'may',\n",
       " 'want',\n",
       " 'to',\n",
       " 'compare',\n",
       " 'the',\n",
       " 'average',\n",
       " 'amount',\n",
       " 'of',\n",
       " 'time',\n",
       " 'patients',\n",
       " 'remain',\n",
       " 'admitted',\n",
       " 'across',\n",
       " 'various',\n",
       " 'hospitals',\n",
       " 'in',\n",
       " 'order',\n",
       " 'to',\n",
       " 'determine',\n",
       " 'if',\n",
       " 'there',\n",
       " 'are',\n",
       " 'differences',\n",
       " 'in',\n",
       " 'care',\n",
       " 'google',\n",
       " 'product',\n",
       " 'manager',\n",
       " 'miguel',\n",
       " 'guevara',\n",
       " 'explains',\n",
       " 'differential',\n",
       " 'privacy',\n",
       " 'is',\n",
       " 'a',\n",
       " 'high-assurance',\n",
       " 'analytic',\n",
       " 'means',\n",
       " 'of',\n",
       " 'ensuring',\n",
       " 'that',\n",
       " 'use',\n",
       " 'cases',\n",
       " 'like',\n",
       " 'this',\n",
       " 'are',\n",
       " 'addressed',\n",
       " 'in',\n",
       " 'a',\n",
       " 'privacy-preserving',\n",
       " 'manner',\n",
       " 'differential',\n",
       " 'privacy',\n",
       " 'library',\n",
       " 'features',\n",
       " 'google',\n",
       " 'promises',\n",
       " 'its',\n",
       " 'library',\n",
       " 'is',\n",
       " 'easy',\n",
       " 'for',\n",
       " 'developers',\n",
       " 'to',\n",
       " 'deploy',\n",
       " 'it',\n",
       " 'can',\n",
       " 'help',\n",
       " 'you',\n",
       " 'perform',\n",
       " 'functions',\n",
       " 'that',\n",
       " 'are',\n",
       " 'difficult',\n",
       " 'to',\n",
       " 'execute',\n",
       " 'from',\n",
       " 'scratch',\n",
       " 'like',\n",
       " 'automatically',\n",
       " 'calculating',\n",
       " 'bounds',\n",
       " 'on',\n",
       " 'user',\n",
       " 'contributions',\n",
       " 'guevera',\n",
       " 'says',\n",
       " 'key',\n",
       " 'features',\n",
       " 'include:',\n",
       " 'statistical',\n",
       " 'functions:',\n",
       " 'most',\n",
       " 'common',\n",
       " 'data',\n",
       " 'science',\n",
       " 'operations',\n",
       " 'counts',\n",
       " 'sums',\n",
       " 'averages',\n",
       " 'medians',\n",
       " 'and',\n",
       " 'percentiles',\n",
       " 'are',\n",
       " 'supported',\n",
       " 'rigorous',\n",
       " 'testing:',\n",
       " 'besides',\n",
       " 'an',\n",
       " 'extensive',\n",
       " 'test',\n",
       " 'suite',\n",
       " 'an',\n",
       " 'extensible',\n",
       " 'stochastic',\n",
       " 'differential',\n",
       " 'privacy',\n",
       " 'model',\n",
       " 'checker',\n",
       " 'library',\n",
       " 'helps',\n",
       " 'prevent',\n",
       " 'mistakes',\n",
       " 'ready',\n",
       " 'to',\n",
       " 'use:',\n",
       " 'a',\n",
       " 'postgresql',\n",
       " 'extension',\n",
       " 'along',\n",
       " 'with',\n",
       " 'common',\n",
       " 'recipes',\n",
       " 'is',\n",
       " 'included',\n",
       " 'modular:',\n",
       " 'the',\n",
       " 'library',\n",
       " 'can',\n",
       " 'be',\n",
       " 'extended',\n",
       " 'to',\n",
       " 'include',\n",
       " 'other',\n",
       " 'functionalities',\n",
       " 'such',\n",
       " 'as',\n",
       " 'additional',\n",
       " 'mechanisms',\n",
       " 'aggregation',\n",
       " 'functions',\n",
       " 'or',\n",
       " 'privacy',\n",
       " 'budget',\n",
       " 'management',\n",
       " 'this',\n",
       " 'isn’t',\n",
       " 'google’s',\n",
       " 'first',\n",
       " 'differential',\n",
       " 'privacy',\n",
       " 'rodeo',\n",
       " 'but',\n",
       " 'the',\n",
       " 'company',\n",
       " 'has',\n",
       " 'been',\n",
       " 'particularly',\n",
       " 'busy',\n",
       " 'in',\n",
       " 'the',\n",
       " 'space',\n",
       " 'this',\n",
       " 'year',\n",
       " 'in',\n",
       " 'march',\n",
       " 'google',\n",
       " 'released',\n",
       " 'tensorflow',\n",
       " 'privacy',\n",
       " 'and',\n",
       " 'tensorflow',\n",
       " 'federated',\n",
       " 'in',\n",
       " 'june',\n",
       " 'the',\n",
       " 'company',\n",
       " 'open-sourced',\n",
       " 'private',\n",
       " 'join',\n",
       " 'and',\n",
       " 'compute',\n",
       " 'which',\n",
       " 'gives',\n",
       " 'companies',\n",
       " 'data',\n",
       " 'insights',\n",
       " 'while',\n",
       " 'preserving',\n",
       " 'privacy',\n",
       " 'to',\n",
       " 'learn',\n",
       " 'more',\n",
       " 'about',\n",
       " 'google’s',\n",
       " 'approach',\n",
       " 'check',\n",
       " 'out',\n",
       " 'the',\n",
       " 'team’s',\n",
       " 'technical',\n",
       " 'paper',\n",
       " 'on',\n",
       " 'arxiv']"
      ]
     },
     "execution_count": 6,
     "metadata": {},
     "output_type": "execute_result"
    }
   ],
   "source": [
    "text = text.lower()#直接全部符号一起去掉\n",
    "# text = text.replace('\\n',' ')#用空格替代回车\n",
    "#直接全部符号一起去掉\n",
    "for sep in '\\n\\n.,\"\\',“”()':\n",
    "    text = text.replace(sep, ' ')\n",
    "words = text.split(' ')\n",
    "words = [word for word in words if word != '']#去掉空格\n",
    "words"
   ]
  },
  {
   "cell_type": "code",
   "execution_count": 7,
   "id": "df453f3d-9a2e-4144-bace-90c20b2604c9",
   "metadata": {
    "tags": []
   },
   "outputs": [
    {
     "name": "stdout",
     "output_type": "stream",
     "text": [
      "{'google': 5, 'today': 1, 'released': 2, 'the': 13, 'open': 1, 'source': 1, 'version': 1, 'of': 5, 'differential': 6, 'privacy': 9, 'library': 6, 'used': 2, 'in': 8, 'some': 1, 'its': 2, 'core': 1, 'products': 1, 'such': 2, 'as': 2, 'maps': 1, 'any': 2, 'organization': 1, 'or': 5, 'developer': 2, 'can': 3, 'now': 1, 'check': 2, 'out': 2, 'on': 3, 'github': 1, 'limits': 1, 'algorithms': 1, 'to': 12, 'publish': 1, 'aggregate': 1, 'information': 1, 'about': 2, 'a': 6, 'statistical': 2, 'database': 1, 'whether': 1, 'you': 6, 'are': 7, 'city': 1, 'planner': 1, 'small': 1, 'business': 1, 'owner': 1, 'software': 1, 'chances': 1, 'want': 3, 'gain': 1, 'insights': 2, 'from': 3, 'data': 6, 'your': 1, 'citizens': 1, 'customers': 1, 'users': 1, 'but': 2, 'don’t': 1, 'lose': 1, 'their': 2, 'trust': 1, 'process': 1, 'differentially': 1, 'private': 2, 'analysis': 1, 'enables': 1, 'organizations': 1, 'learn': 2, 'majority': 1, 'without': 1, 'allowing': 1, 'single': 1, 'individual’s': 1, 'be': 2, 'distinguished': 1, 're-identified': 1, 'if': 2, 'health': 1, 'researcher': 1, 'may': 1, 'compare': 1, 'average': 1, 'amount': 1, 'time': 1, 'patients': 1, 'remain': 1, 'admitted': 1, 'across': 1, 'various': 1, 'hospitals': 1, 'order': 1, 'determine': 1, 'there': 1, 'differences': 1, 'care': 1, 'product': 1, 'manager': 1, 'miguel': 1, 'guevara': 1, 'explains': 1, 'is': 3, 'high-assurance': 1, 'analytic': 1, 'means': 1, 'ensuring': 1, 'that': 2, 'use': 1, 'cases': 1, 'like': 2, 'this': 3, 'addressed': 1, 'privacy-preserving': 1, 'manner': 1, 'features': 2, 'promises': 1, 'easy': 1, 'for': 1, 'developers': 1, 'deploy': 1, 'it': 1, 'help': 1, 'perform': 1, 'functions': 2, 'difficult': 1, 'execute': 1, 'scratch': 1, 'automatically': 1, 'calculating': 1, 'bounds': 1, 'user': 1, 'contributions': 1, 'guevera': 1, 'says': 1, 'key': 1, 'include:': 1, 'functions:': 1, 'most': 1, 'common': 2, 'science': 1, 'operations': 1, 'counts': 1, 'sums': 1, 'averages': 1, 'medians': 1, 'and': 3, 'percentiles': 1, 'supported': 1, 'rigorous': 1, 'testing:': 1, 'besides': 1, 'an': 2, 'extensive': 1, 'test': 1, 'suite': 1, 'extensible': 1, 'stochastic': 1, 'model': 1, 'checker': 1, 'helps': 1, 'prevent': 1, 'mistakes': 1, 'ready': 1, 'use:': 1, 'postgresql': 1, 'extension': 1, 'along': 1, 'with': 1, 'recipes': 1, 'included': 1, 'modular:': 1, 'extended': 1, 'include': 1, 'other': 1, 'functionalities': 1, 'additional': 1, 'mechanisms': 1, 'aggregation': 1, 'budget': 1, 'management': 1, 'isn’t': 1, 'google’s': 2, 'first': 1, 'rodeo': 1, 'company': 2, 'has': 1, 'been': 1, 'particularly': 1, 'busy': 1, 'space': 1, 'year': 1, 'march': 1, 'tensorflow': 2, 'federated': 1, 'june': 1, 'open-sourced': 1, 'join': 1, 'compute': 1, 'which': 1, 'gives': 1, 'companies': 1, 'while': 1, 'preserving': 1, 'more': 1, 'approach': 1, 'team’s': 1, 'technical': 1, 'paper': 1, 'arxiv': 1}\n"
     ]
    }
   ],
   "source": [
    "count = {}\n",
    "#for word in words:\n",
    "#     count[word] += 1  直接这样不行，如果key不存在就完蛋\n",
    "for word in words:\n",
    "    count.setdefault(word, 0)\n",
    "    count[word] += 1\n",
    "    \n",
    "print(count)"
   ]
  },
  {
   "cell_type": "markdown",
   "id": "476b43c9-fd6b-4638-8ef8-2a5542e1adc8",
   "metadata": {},
   "source": [
    "如何让同次的单词一起输出\n",
    "生成形如下面的新的字典\n",
    "{1:\\\\['','','',]，\n",
    " 2：['','',''....]\n",
    " ....\n",
    "}"
   ]
  },
  {
   "cell_type": "code",
   "execution_count": 8,
   "id": "a69bc417-0f38-45cb-8c95-0ff58b57bec7",
   "metadata": {
    "tags": []
   },
   "outputs": [
    {
     "name": "stdout",
     "output_type": "stream",
     "text": [
      "{5: ['google', 'of', 'or'], 1: ['today', 'open', 'source', 'version', 'some', 'core', 'products', 'maps', 'organization', 'now', 'github', 'limits', 'algorithms', 'publish', 'aggregate', 'information', 'database', 'whether', 'city', 'planner', 'small', 'business', 'owner', 'software', 'chances', 'gain', 'your', 'citizens', 'customers', 'users', 'don’t', 'lose', 'trust', 'process', 'differentially', 'analysis', 'enables', 'organizations', 'majority', 'without', 'allowing', 'single', 'individual’s', 'distinguished', 're-identified', 'health', 'researcher', 'may', 'compare', 'average', 'amount', 'time', 'patients', 'remain', 'admitted', 'across', 'various', 'hospitals', 'order', 'determine', 'there', 'differences', 'care', 'product', 'manager', 'miguel', 'guevara', 'explains', 'high-assurance', 'analytic', 'means', 'ensuring', 'use', 'cases', 'addressed', 'privacy-preserving', 'manner', 'promises', 'easy', 'for', 'developers', 'deploy', 'it', 'help', 'perform', 'difficult', 'execute', 'scratch', 'automatically', 'calculating', 'bounds', 'user', 'contributions', 'guevera', 'says', 'key', 'include:', 'functions:', 'most', 'science', 'operations', 'counts', 'sums', 'averages', 'medians', 'percentiles', 'supported', 'rigorous', 'testing:', 'besides', 'extensive', 'test', 'suite', 'extensible', 'stochastic', 'model', 'checker', 'helps', 'prevent', 'mistakes', 'ready', 'use:', 'postgresql', 'extension', 'along', 'with', 'recipes', 'included', 'modular:', 'extended', 'include', 'other', 'functionalities', 'additional', 'mechanisms', 'aggregation', 'budget', 'management', 'isn’t', 'first', 'rodeo', 'has', 'been', 'particularly', 'busy', 'space', 'year', 'march', 'federated', 'june', 'open-sourced', 'join', 'compute', 'which', 'gives', 'companies', 'while', 'preserving', 'more', 'approach', 'team’s', 'technical', 'paper', 'arxiv'], 2: ['released', 'used', 'its', 'such', 'as', 'any', 'developer', 'check', 'out', 'about', 'statistical', 'insights', 'but', 'their', 'private', 'learn', 'be', 'if', 'that', 'like', 'features', 'functions', 'common', 'an', 'google’s', 'company', 'tensorflow'], 13: ['the'], 6: ['differential', 'library', 'a', 'you', 'data'], 9: ['privacy'], 8: ['in'], 3: ['can', 'on', 'want', 'from', 'is', 'this', 'and'], 12: ['to'], 7: ['are']}\n"
     ]
    }
   ],
   "source": [
    "words_by_count = dict()\n",
    "for word in count.keys():\n",
    "    words_by_count.setdefault(count[word],[])#注意default列表而不是数0\n",
    "    words_by_count[count[word]].append(word)\n",
    "print(words_by_count)"
   ]
  },
  {
   "cell_type": "code",
   "execution_count": 9,
   "id": "1152f76c-de33-4911-848f-1fb85cd2e6dd",
   "metadata": {
    "tags": []
   },
   "outputs": [
    {
     "name": "stdout",
     "output_type": "stream",
     "text": [
      "Count 5 google of or \n",
      "Count 1 today open source version some core products maps organization now github limits algorithms publish aggregate information database whether city planner small business owner software chances gain your citizens customers users don’t lose trust process differentially analysis enables organizations majority without allowing single individual’s distinguished re-identified health researcher may compare average amount time patients remain admitted across various hospitals order determine there differences care product manager miguel guevara explains high-assurance analytic means ensuring use cases addressed privacy-preserving manner promises easy for developers deploy it help perform difficult execute scratch automatically calculating bounds user contributions guevera says key include: functions: most science operations counts sums averages medians percentiles supported rigorous testing: besides extensive test suite extensible stochastic model checker helps prevent mistakes ready use: postgresql extension along with recipes included modular: extended include other functionalities additional mechanisms aggregation budget management isn’t first rodeo has been particularly busy space year march federated june open-sourced join compute which gives companies while preserving more approach team’s technical paper arxiv \n",
      "Count 2 released used its such as any developer check out about statistical insights but their private learn be if that like features functions common an google’s company tensorflow \n",
      "Count 13 the \n",
      "Count 6 differential library a you data \n",
      "Count 9 privacy \n",
      "Count 8 in \n",
      "Count 3 can on want from is this and \n",
      "Count 12 to \n",
      "Count 7 are \n"
     ]
    }
   ],
   "source": [
    "for item in words_by_count.keys():\n",
    "    print (f'Count {item}',end=' ')\n",
    "    for word in words_by_count[item]:\n",
    "        print(word,end = ' ')\n",
    "    print('')#打完所有单词就回车，缺省就回车"
   ]
  },
  {
   "cell_type": "markdown",
   "id": "15e31822-53dc-4ec2-a00a-034dbbbd4c63",
   "metadata": {},
   "source": [
    "排序"
   ]
  },
  {
   "cell_type": "code",
   "execution_count": 10,
   "id": "f30ede46-1345-44a7-b9a4-8d99ca510a7d",
   "metadata": {
    "tags": []
   },
   "outputs": [],
   "source": [
    "#没赶上\n",
    "#for item in words_by_count.key():???????"
   ]
  },
  {
   "cell_type": "code",
   "execution_count": 11,
   "id": "d3928a30-0438-4f77-b26e-bdac5762981a",
   "metadata": {
    "tags": []
   },
   "outputs": [
    {
     "data": {
      "image/png": "[encoded data removed]",
      "text/plain": [
       "<Figure size 2000x8000 with 1 Axes>"
      ]
     },
     "metadata": {},
     "output_type": "display_data"
    }
   ],
   "source": [
    "#先把words和count改成list\n",
    "words = [w for w in count.keys()]\n",
    "counts = [count[w] for w in words ] #counts和count注意不要重名 \n",
    "import matplotlib.pyplot as plt\n",
    "\n",
    "fig = plt.figure(figsize=(20,80))   \n",
    "ay = fig.subplots()   \n",
    "plt.barh(words, counts)  #水平方向的图barh()，不能换参数的前后顺序，前面是名称，后面是长度，并非坐标轴x和y变量\n",
    "plt.show()"
   ]
  },
  {
   "cell_type": "code",
   "execution_count": 16,
   "id": "67d4c154-aba5-4ecf-811e-bd660afa3c00",
   "metadata": {
    "tags": []
   },
   "outputs": [],
   "source": [
    "x , y = 1,2"
   ]
  },
  {
   "cell_type": "code",
   "execution_count": 211,
   "id": "7706bca9-3aab-49d5-b0cf-65cc18a94b31",
   "metadata": {
    "tags": []
   },
   "outputs": [
    {
     "name": "stdout",
     "output_type": "stream",
     "text": [
      "1 2\n"
     ]
    }
   ],
   "source": [
    "print(x, y)"
   ]
  },
  {
   "cell_type": "code",
   "execution_count": 171,
   "id": "f25dc27f-ddf7-45eb-ac02-a645f909ce0a",
   "metadata": {
    "tags": []
   },
   "outputs": [],
   "source": [
    "x, y = y, x"
   ]
  },
  {
   "cell_type": "code",
   "execution_count": 172,
   "id": "a79f5a84-5962-4adf-9f71-8f2d8c5f8055",
   "metadata": {
    "tags": []
   },
   "outputs": [
    {
     "name": "stdout",
     "output_type": "stream",
     "text": [
      "2 1\n"
     ]
    }
   ],
   "source": [
    "print(x, y)"
   ]
  },
  {
   "cell_type": "code",
   "execution_count": 175,
   "id": "2f4356a8-749f-4807-842d-e2304b230cd2",
   "metadata": {
    "tags": []
   },
   "outputs": [],
   "source": [
    "x, y = (1, 2)#这样也许，说明交换就是利用元组解包来做的"
   ]
  },
  {
   "cell_type": "code",
   "execution_count": 176,
   "id": "e908715b-646c-4b5b-b075-ebdc08e0b3dc",
   "metadata": {
    "tags": []
   },
   "outputs": [
    {
     "name": "stdout",
     "output_type": "stream",
     "text": [
      "1 2\n"
     ]
    }
   ],
   "source": [
    "print(x, y)#不管你写不写成元组的形式都是一样解读"
   ]
  },
  {
   "cell_type": "code",
   "execution_count": 177,
   "id": "97d6e00c-24bf-45ff-9d21-934417c9a942",
   "metadata": {
    "tags": []
   },
   "outputs": [
    {
     "ename": "ValueError",
     "evalue": "too many values to unpack (expected 3)",
     "output_type": "error",
     "traceback": [
      "\u001b[1;31m---------------------------------------------------------------------------\u001b[0m",
      "\u001b[1;31mValueError\u001b[0m                                Traceback (most recent call last)",
      "Cell \u001b[1;32mIn[177], line 1\u001b[0m\n\u001b[1;32m----> 1\u001b[0m x, y, z\u001b[38;5;241m=\u001b[39m (\u001b[38;5;241m1\u001b[39m, \u001b[38;5;241m2\u001b[39m, \u001b[38;5;241m3\u001b[39m, \u001b[38;5;241m4\u001b[39m)\n",
      "\u001b[1;31mValueError\u001b[0m: too many values to unpack (expected 3)"
     ]
    }
   ],
   "source": [
    "x, y, z= (1, 2, 3, 4)"
   ]
  },
  {
   "cell_type": "code",
   "execution_count": 178,
   "id": "3935a355-c429-450e-97e8-015912ff7c4a",
   "metadata": {
    "tags": []
   },
   "outputs": [],
   "source": [
    "#但是z前面加*变成元组，可以吸收更多\n",
    "x, y, *z= (1, 2, 3, 4)"
   ]
  },
  {
   "cell_type": "code",
   "execution_count": 179,
   "id": "bf88855c-ca9c-41a4-88df-035426eeed9d",
   "metadata": {
    "tags": []
   },
   "outputs": [
    {
     "name": "stdout",
     "output_type": "stream",
     "text": [
      "1 2 [3, 4]\n"
     ]
    }
   ],
   "source": [
    "print(x, y, z)"
   ]
  },
  {
   "cell_type": "code",
   "execution_count": 180,
   "id": "b594ffd7-08a4-45ae-9e9a-c6a6266e32e4",
   "metadata": {
    "tags": []
   },
   "outputs": [
    {
     "name": "stdout",
     "output_type": "stream",
     "text": [
      "1 [2, 3] 4\n"
     ]
    }
   ],
   "source": [
    "x, *y, z= (1, 2, 3, 4)\n",
    "print(x, y, z)"
   ]
  },
  {
   "cell_type": "code",
   "execution_count": 182,
   "id": "4902a7de-6515-4cfc-851c-8b0a041256d1",
   "metadata": {
    "tags": []
   },
   "outputs": [
    {
     "name": "stdout",
     "output_type": "stream",
     "text": [
      "3 3 3\n"
     ]
    }
   ],
   "source": [
    "x = y = z = 3 \n",
    "print(x, y, z)"
   ]
  },
  {
   "cell_type": "code",
   "execution_count": 183,
   "id": "e1430392-b072-4013-b914-008bfd52b73c",
   "metadata": {
    "tags": []
   },
   "outputs": [
    {
     "name": "stdout",
     "output_type": "stream",
     "text": [
      "[4] [4] [4]\n"
     ]
    }
   ],
   "source": [
    "x = y = z = [3]#这里显然意思就是要把三个标签贴到同一个地方\n",
    "x[0] = 4\n",
    "print(x, y, z)"
   ]
  },
  {
   "cell_type": "code",
   "execution_count": 185,
   "id": "faaebf5a-81e4-4040-ba15-e3720396e7e7",
   "metadata": {
    "tags": []
   },
   "outputs": [
    {
     "name": "stdout",
     "output_type": "stream",
     "text": [
      "[4] [3]\n"
     ]
    }
   ],
   "source": [
    "x = [3]\n",
    "y = [3]\n",
    "\n",
    "x[0] = 4\n",
    "print(x, y)"
   ]
  },
  {
   "cell_type": "markdown",
   "id": "1a9f1ce6-e816-455d-8410-65b7e64453d4",
   "metadata": {},
   "source": [
    "怎么理解？注意是可变还是不可变。如果不可变，创建两个一样的，其实标签贴在一个地方（反正都不可变），如果是可变就在两处分别创建"
   ]
  },
  {
   "cell_type": "code",
   "execution_count": 186,
   "id": "035ae8dd-b10b-48cd-b116-db52af64667c",
   "metadata": {
    "tags": []
   },
   "outputs": [
    {
     "data": {
      "text/plain": [
       "False"
      ]
     },
     "execution_count": 186,
     "metadata": {},
     "output_type": "execute_result"
    }
   ],
   "source": [
    "x is y"
   ]
  },
  {
   "cell_type": "code",
   "execution_count": 187,
   "id": "18e95856-a230-47ad-a3e6-007d5718e1cb",
   "metadata": {
    "tags": []
   },
   "outputs": [
    {
     "data": {
      "text/plain": [
       "True"
      ]
     },
     "execution_count": 187,
     "metadata": {},
     "output_type": "execute_result"
    }
   ],
   "source": [
    "x = 3\n",
    "y = 3\n",
    "x is y #数字不可变，所以x、y贴在同一个整数上\n",
    "       #数字很简单py所以能够比较？"
   ]
  },
  {
   "cell_type": "code",
   "execution_count": 188,
   "id": "2e792973-16ce-4f50-ba9b-5ab24a15c86f",
   "metadata": {
    "tags": []
   },
   "outputs": [
    {
     "data": {
      "text/plain": [
       "int"
      ]
     },
     "execution_count": 188,
     "metadata": {},
     "output_type": "execute_result"
    }
   ],
   "source": [
    "type(x)"
   ]
  },
  {
   "cell_type": "code",
   "execution_count": 189,
   "id": "b3f8adca-a1d7-43e2-b934-bc6deed0fb90",
   "metadata": {
    "tags": []
   },
   "outputs": [
    {
     "data": {
      "text/plain": [
       "False"
      ]
     },
     "execution_count": 189,
     "metadata": {},
     "output_type": "execute_result"
    }
   ],
   "source": [
    "x = (3, )\n",
    "y = (3, )\n",
    "x is y  #元组比较复制难以比较？"
   ]
  },
  {
   "cell_type": "code",
   "execution_count": 190,
   "id": "2e8d2195-6d7f-4fcc-aa95-5754479c7a48",
   "metadata": {
    "tags": []
   },
   "outputs": [
    {
     "data": {
      "text/plain": [
       "True"
      ]
     },
     "execution_count": 190,
     "metadata": {},
     "output_type": "execute_result"
    }
   ],
   "source": [
    "x = y = (3, )\n",
    "x is y  #这种显然创建就是告诉你只创建一个对象"
   ]
  },
  {
   "cell_type": "code",
   "execution_count": 191,
   "id": "81fb3681-ec80-4376-8cac-802993db860f",
   "metadata": {
    "tags": []
   },
   "outputs": [
    {
     "data": {
      "text/plain": [
       "True"
      ]
     },
     "execution_count": 191,
     "metadata": {},
     "output_type": "execute_result"
    }
   ],
   "source": [
    "bool(\"s\")"
   ]
  },
  {
   "cell_type": "code",
   "execution_count": 192,
   "id": "ba7be415-955a-4594-95d6-49152dfdc322",
   "metadata": {
    "tags": []
   },
   "outputs": [
    {
     "data": {
      "text/plain": [
       "False"
      ]
     },
     "execution_count": 192,
     "metadata": {},
     "output_type": "execute_result"
    }
   ],
   "source": [
    "bool([])"
   ]
  },
  {
   "cell_type": "code",
   "execution_count": 194,
   "id": "8cc026d1-4954-41bb-af65-fc57b822912b",
   "metadata": {
    "tags": []
   },
   "outputs": [
    {
     "data": {
      "text/plain": [
       "True"
      ]
     },
     "execution_count": 194,
     "metadata": {},
     "output_type": "execute_result"
    }
   ],
   "source": [
    "bool(\"s\") is True"
   ]
  },
  {
   "cell_type": "code",
   "execution_count": 195,
   "id": "a5612766-07e6-4c3c-914d-0db5f36d84aa",
   "metadata": {
    "tags": []
   },
   "outputs": [
    {
     "data": {
      "text/plain": [
       "2"
      ]
     },
     "execution_count": 195,
     "metadata": {},
     "output_type": "execute_result"
    }
   ],
   "source": [
    "1 + True"
   ]
  },
  {
   "cell_type": "code",
   "execution_count": 196,
   "id": "e7d2a301-a0dc-4ab1-92fb-51c7630167ab",
   "metadata": {
    "tags": []
   },
   "outputs": [
    {
     "data": {
      "text/plain": [
       "3"
      ]
     },
     "execution_count": 196,
     "metadata": {},
     "output_type": "execute_result"
    }
   ],
   "source": [
    "2 + True"
   ]
  },
  {
   "cell_type": "code",
   "execution_count": 197,
   "id": "c6adf7ea-dd74-42e1-88d2-173a6a80034c",
   "metadata": {
    "tags": []
   },
   "outputs": [
    {
     "data": {
      "text/plain": [
       "1"
      ]
     },
     "execution_count": 197,
     "metadata": {},
     "output_type": "execute_result"
    }
   ],
   "source": [
    "1 + False"
   ]
  }
 ],
 "metadata": {
  "kernelspec": {
   "display_name": "Python 3 (ipykernel)",
   "language": "python",
   "name": "python3"
  },
  "language_info": {
   "codemirror_mode": {
    "name": "ipython",
    "version": 3
   },
   "file_extension": ".py",
   "mimetype": "text/x-python",
   "name": "python",
   "nbconvert_exporter": "python",
   "pygments_lexer": "ipython3",
   "version": "3.11.4"
  }
 },
 "nbformat": 4,
 "nbformat_minor": 5
}
