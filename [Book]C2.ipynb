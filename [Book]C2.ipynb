{
 "cells": [
  {
   "cell_type": "markdown",
   "id": "6dd01700-d41e-4991-856d-759a54b752e9",
   "metadata": {},
   "source": [
    "第二章变量、表达式及语句"
   ]
  },
  {
   "cell_type": "code",
   "execution_count": 1,
   "id": "3478da01-8fd8-49a9-81c5-d5c5d7b89b5e",
   "metadata": {
    "tags": []
   },
   "outputs": [
    {
     "data": {
      "text/plain": [
       "str"
      ]
     },
     "execution_count": 1,
     "metadata": {},
     "output_type": "execute_result"
    }
   ],
   "source": [
    "type('hello')"
   ]
  },
  {
   "cell_type": "code",
   "execution_count": 2,
   "id": "498aee4b-2a8c-4646-909c-ef9d8d7a4cb0",
   "metadata": {
    "tags": []
   },
   "outputs": [
    {
     "data": {
      "text/plain": [
       "int"
      ]
     },
     "execution_count": 2,
     "metadata": {},
     "output_type": "execute_result"
    }
   ],
   "source": [
    "type(11111117)"
   ]
  },
  {
   "cell_type": "code",
   "execution_count": 3,
   "id": "3f4c11f8-577a-4f6e-bf35-da1f163ac0cd",
   "metadata": {
    "jupyter": {
     "source_hidden": true
    },
    "tags": []
   },
   "outputs": [
    {
     "data": {
      "text/plain": [
       "float"
      ]
     },
     "execution_count": 3,
     "metadata": {},
     "output_type": "execute_result"
    }
   ],
   "source": [
    "type(0.30)"
   ]
  },
  {
   "cell_type": "code",
   "execution_count": 5,
   "id": "3434ad92-637c-4ea0-ba04-215a355d3896",
   "metadata": {
    "tags": []
   },
   "outputs": [
    {
     "data": {
      "text/plain": [
       "str"
      ]
     },
     "execution_count": 5,
     "metadata": {},
     "output_type": "execute_result"
    }
   ],
   "source": [
    "type(\"1.30\")"
   ]
  },
  {
   "cell_type": "code",
   "execution_count": 6,
   "id": "a1884eeb-cf15-4d9a-98ff-7405cb4fa691",
   "metadata": {
    "tags": []
   },
   "outputs": [
    {
     "name": "stdout",
     "output_type": "stream",
     "text": [
      "1 0 0\n"
     ]
    }
   ],
   "source": [
    "print(1,000,000)"
   ]
  },
  {
   "cell_type": "markdown",
   "id": "f8cda104-0201-4aa2-90f4-ae8823c51dee",
   "metadata": {},
   "source": [
    "first error hhh,py将其理解成三个单独数字"
   ]
  },
  {
   "cell_type": "code",
   "execution_count": 7,
   "id": "37880ab7-eb22-4e92-a958-14f001951610",
   "metadata": {
    "tags": []
   },
   "outputs": [],
   "source": [
    "name='huynbeen'"
   ]
  },
  {
   "cell_type": "code",
   "execution_count": 8,
   "id": "556a2e09-8c9a-42de-aab4-a5a2e2c35fbd",
   "metadata": {
    "tags": []
   },
   "outputs": [
    {
     "name": "stdout",
     "output_type": "stream",
     "text": [
      "huynbeen\n"
     ]
    }
   ],
   "source": [
    "print(name)"
   ]
  },
  {
   "cell_type": "code",
   "execution_count": 9,
   "id": "6f5d81d2-0b3c-45b4-b04a-7f8b7305be9c",
   "metadata": {
    "tags": []
   },
   "outputs": [
    {
     "data": {
      "text/plain": [
       "str"
      ]
     },
     "execution_count": 9,
     "metadata": {},
     "output_type": "execute_result"
    }
   ],
   "source": [
    "type(name)"
   ]
  },
  {
   "cell_type": "code",
   "execution_count": 10,
   "id": "9fb9f083-e0ac-4a2b-96b7-d767f15f7a30",
   "metadata": {
    "tags": []
   },
   "outputs": [],
   "source": [
    "m=1,000,000"
   ]
  },
  {
   "cell_type": "code",
   "execution_count": 12,
   "id": "afd06e57-aedb-445e-9922-b0d2988117f1",
   "metadata": {
    "tags": []
   },
   "outputs": [
    {
     "data": {
      "text/plain": [
       "str"
      ]
     },
     "execution_count": 12,
     "metadata": {},
     "output_type": "execute_result"
    }
   ],
   "source": [
    "type(name)"
   ]
  },
  {
   "cell_type": "markdown",
   "id": "93d38907-c904-4942-b83e-8687edef0ba8",
   "metadata": {},
   "source": [
    "??wow?leave it here now"
   ]
  },
  {
   "cell_type": "code",
   "execution_count": null,
   "id": "2b1e9a8f-d520-43ef-b1fa-fcf382abdc42",
   "metadata": {},
   "outputs": [],
   "source": [
    "变量名可以包含数字但开头必须是字母，最好小写"
   ]
  },
  {
   "cell_type": "code",
   "execution_count": 13,
   "id": "d3789709-3e9e-467a-b259-a7f74a524646",
   "metadata": {
    "tags": []
   },
   "outputs": [
    {
     "ename": "SyntaxError",
     "evalue": "invalid decimal literal (899692842.py, line 1)",
     "output_type": "error",
     "traceback": [
      "\u001b[1;36m  Cell \u001b[1;32mIn[13], line 1\u001b[1;36m\u001b[0m\n\u001b[1;33m    11street=111\u001b[0m\n\u001b[1;37m     ^\u001b[0m\n\u001b[1;31mSyntaxError\u001b[0m\u001b[1;31m:\u001b[0m invalid decimal literal\n"
     ]
    }
   ],
   "source": [
    "11street=111"
   ]
  },
  {
   "cell_type": "code",
   "execution_count": 14,
   "id": "24d8cbe1-480f-4cd1-b396-cc8051658c6d",
   "metadata": {
    "tags": []
   },
   "outputs": [
    {
     "ename": "SyntaxError",
     "evalue": "invalid syntax (3556455111.py, line 1)",
     "output_type": "error",
     "traceback": [
      "\u001b[1;36m  Cell \u001b[1;32mIn[14], line 1\u001b[1;36m\u001b[0m\n\u001b[1;33m    class=22\u001b[0m\n\u001b[1;37m         ^\u001b[0m\n\u001b[1;31mSyntaxError\u001b[0m\u001b[1;31m:\u001b[0m invalid syntax\n"
     ]
    }
   ],
   "source": [
    "class=22"
   ]
  },
  {
   "cell_type": "markdown",
   "id": "eb6ede72-bbbf-49ce-bc0d-ad3c617d161f",
   "metadata": {},
   "source": [
    "class是保留字，共33个保留字\n",
    "and as assert break class \n",
    "continue def del elif else\n",
    "except False finally for from \n",
    "global if import in is \n",
    "lambda None nonlocal  not or \n",
    "pass Raise return try True     这个Raise怎么回事儿没有变绿\n",
    "while with  yield    "
   ]
  },
  {
   "cell_type": "markdown",
   "id": "a8429d9f-3d1c-42bf-8bf6-8b9c4d37d88d",
   "metadata": {},
   "source": [
    "可以直接查找所有保留字"
   ]
  },
  {
   "cell_type": "code",
   "execution_count": 16,
   "id": "86ed79c6-aaca-4f7e-bf66-17a584cda24e",
   "metadata": {
    "tags": []
   },
   "outputs": [
    {
     "name": "stdout",
     "output_type": "stream",
     "text": [
      "\n",
      "Here is a list of the Python keywords.  Enter any keyword to get more help.\n",
      "\n",
      "False               class               from                or\n",
      "None                continue            global              pass\n",
      "True                def                 if                  raise\n",
      "and                 del                 import              return\n",
      "as                  elif                in                  try\n",
      "assert              else                is                  while\n",
      "async               except              lambda              with\n",
      "await               finally             nonlocal            yield\n",
      "break               for                 not                 \n",
      "\n"
     ]
    }
   ],
   "source": [
    "help('keywords')"
   ]
  },
  {
   "cell_type": "markdown",
   "id": "9e3a4f61-6282-4acf-aaaa-bc1c1410d9e1",
   "metadata": {},
   "source": [
    "运算符：+ - * / **(乘方） //舍余除法"
   ]
  },
  {
   "cell_type": "code",
   "execution_count": 17,
   "id": "e849473c-8971-4f46-acb0-40bdea68b55f",
   "metadata": {
    "tags": []
   },
   "outputs": [
    {
     "data": {
      "text/plain": [
       "4.285714285714286"
      ]
     },
     "execution_count": 17,
     "metadata": {},
     "output_type": "execute_result"
    }
   ],
   "source": [
    "30/7"
   ]
  },
  {
   "cell_type": "code",
   "execution_count": 21,
   "id": "479c8110-eff5-4a1e-830a-22773887675d",
   "metadata": {
    "tags": []
   },
   "outputs": [
    {
     "ename": "SyntaxError",
     "evalue": "invalid syntax. Maybe you meant '==' or ':=' instead of '='? (1081551523.py, line 1)",
     "output_type": "error",
     "traceback": [
      "\u001b[1;36m  Cell \u001b[1;32mIn[21], line 1\u001b[1;36m\u001b[0m\n\u001b[1;33m    a=30,b=7\u001b[0m\n\u001b[1;37m    ^\u001b[0m\n\u001b[1;31mSyntaxError\u001b[0m\u001b[1;31m:\u001b[0m invalid syntax. Maybe you meant '==' or ':=' instead of '='?\n"
     ]
    }
   ],
   "source": [
    "a=30,b=7"
   ]
  },
  {
   "cell_type": "code",
   "execution_count": 22,
   "id": "2d269461-cd33-4c59-851d-ff7bb2738ef7",
   "metadata": {
    "tags": []
   },
   "outputs": [],
   "source": [
    "a,b=30,7"
   ]
  },
  {
   "cell_type": "code",
   "execution_count": 23,
   "id": "71dd0837-cac4-4015-8de5-7258301663d7",
   "metadata": {
    "tags": []
   },
   "outputs": [
    {
     "data": {
      "text/plain": [
       "4.285714285714286"
      ]
     },
     "execution_count": 23,
     "metadata": {},
     "output_type": "execute_result"
    }
   ],
   "source": [
    "a/b"
   ]
  },
  {
   "cell_type": "code",
   "execution_count": 18,
   "id": "c0cbfd01-3ea5-40bc-8e36-57500a2d552f",
   "metadata": {
    "tags": []
   },
   "outputs": [
    {
     "data": {
      "text/plain": [
       "4"
      ]
     },
     "execution_count": 18,
     "metadata": {},
     "output_type": "execute_result"
    }
   ],
   "source": [
    "30//7"
   ]
  },
  {
   "cell_type": "code",
   "execution_count": 19,
   "id": "71f961ab-e395-48f1-93fd-c7d41daacf79",
   "metadata": {
    "tags": []
   },
   "outputs": [
    {
     "data": {
      "text/plain": [
       "4.0"
      ]
     },
     "execution_count": 19,
     "metadata": {},
     "output_type": "execute_result"
    }
   ],
   "source": [
    "30.0//7"
   ]
  },
  {
   "cell_type": "markdown",
   "id": "8197c2a2-129d-4bbd-8b93-5c6722347500",
   "metadata": {},
   "source": [
    "优先级：（）\n",
    "**\n",
    "*/\n",
    "+-"
   ]
  },
  {
   "cell_type": "code",
   "execution_count": 31,
   "id": "9402da58-c073-47d4-af52-bb2346d6154d",
   "metadata": {
    "tags": []
   },
   "outputs": [
    {
     "data": {
      "text/plain": [
       "6.0"
      ]
     },
     "execution_count": 31,
     "metadata": {},
     "output_type": "execute_result"
    }
   ],
   "source": [
    "degree=15\n",
    "degree/3*2-(3+1)"
   ]
  },
  {
   "cell_type": "code",
   "execution_count": 32,
   "id": "360cf10d-6722-4923-a6a1-24e8c7ddff34",
   "metadata": {
    "tags": []
   },
   "outputs": [
    {
     "name": "stdout",
     "output_type": "stream",
     "text": [
      "yslovehb\n"
     ]
    }
   ],
   "source": [
    "name1='ys'\n",
    "link='love'\n",
    "name2='hb'\n",
    "print(name1+link+name2)"
   ]
  },
  {
   "cell_type": "code",
   "execution_count": 33,
   "id": "c0c3889f-0b34-4230-8df1-94e60c907135",
   "metadata": {
    "tags": []
   },
   "outputs": [
    {
     "data": {
      "text/plain": [
       "'hbhbhb'"
      ]
     },
     "execution_count": 33,
     "metadata": {},
     "output_type": "execute_result"
    }
   ],
   "source": [
    "name2*3"
   ]
  },
  {
   "cell_type": "code",
   "execution_count": 34,
   "id": "6ebf3a84-65a3-4bd8-8135-eb9a411bd452",
   "metadata": {
    "tags": []
   },
   "outputs": [
    {
     "data": {
      "text/plain": [
       "'hbhbhb'"
      ]
     },
     "execution_count": 34,
     "metadata": {},
     "output_type": "execute_result"
    }
   ],
   "source": [
    "name2+name2+name2"
   ]
  },
  {
   "cell_type": "markdown",
   "id": "f80ef863-8787-4729-8af9-80f4b3a2d8cf",
   "metadata": {},
   "source": [
    "Q:字符串的连接和复制运算与整数的加法和乘法运算存在重要区别。是什么呢？请举例说明加法和字符串连接运算的区别？？？？"
   ]
  },
  {
   "cell_type": "code",
   "execution_count": 35,
   "id": "5a8b7230-8fea-4172-8155-6f33aa6f94d0",
   "metadata": {
    "tags": []
   },
   "outputs": [
    {
     "data": {
      "text/plain": [
       "'\\n听说\\n这样\\n就能\\n多行\\n注释也\\n'"
      ]
     },
     "execution_count": 35,
     "metadata": {},
     "output_type": "execute_result"
    }
   ],
   "source": [
    "#试验\n",
    "#实验一下多行注释\n",
    "'''\n",
    "听说\n",
    "这样\n",
    "就能\n",
    "多行\n",
    "注释也\n",
    "'''"
   ]
  },
  {
   "cell_type": "code",
   "execution_count": 36,
   "id": "851f89eb-74fc-43c1-9083-d01ae4b5168a",
   "metadata": {
    "tags": []
   },
   "outputs": [
    {
     "data": {
      "text/plain": [
       "'\\n听说\\n这样\\n就能\\n多行\\n注释也\\n'"
      ]
     },
     "execution_count": 36,
     "metadata": {},
     "output_type": "execute_result"
    }
   ],
   "source": [
    "\"\"\"\n",
    "听说\n",
    "这样\n",
    "就能\n",
    "多行\n",
    "注释也\n",
    "\"\"\""
   ]
  },
  {
   "cell_type": "markdown",
   "id": "23f61e8e-7ff3-40fa-b06e-8ef0964a3ca6",
   "metadata": {},
   "source": [
    "why??"
   ]
  },
  {
   "cell_type": "code",
   "execution_count": 37,
   "id": "877ce589-c393-43f1-ae83-d5454109e751",
   "metadata": {
    "tags": []
   },
   "outputs": [],
   "source": [
    "# ctrl+/可以注释或取消"
   ]
  },
  {
   "cell_type": "code",
   "execution_count": 38,
   "id": "91235468-595b-44b3-9498-0d7e5bbcbe19",
   "metadata": {
    "tags": []
   },
   "outputs": [
    {
     "ename": "NameError",
     "evalue": "name 'pi' is not defined",
     "output_type": "error",
     "traceback": [
      "\u001b[1;31m---------------------------------------------------------------------------\u001b[0m",
      "\u001b[1;31mNameError\u001b[0m                                 Traceback (most recent call last)",
      "Cell \u001b[1;32mIn[38], line 1\u001b[0m\n\u001b[1;32m----> 1\u001b[0m pi\n",
      "\u001b[1;31mNameError\u001b[0m: name 'pi' is not defined"
     ]
    }
   ],
   "source": [
    "pi"
   ]
  },
  {
   "cell_type": "code",
   "execution_count": 39,
   "id": "e0656f6d-d4b2-4012-b10f-7eb452851307",
   "metadata": {
    "tags": []
   },
   "outputs": [],
   "source": [
    "pi=3.1415926535897931"
   ]
  },
  {
   "cell_type": "code",
   "execution_count": 40,
   "id": "f5feb2d6-0e5f-40d5-b409-fec3c90ceb4d",
   "metadata": {
    "tags": []
   },
   "outputs": [
    {
     "data": {
      "text/plain": [
       "1.5707963267948966"
      ]
     },
     "execution_count": 40,
     "metadata": {},
     "output_type": "execute_result"
    }
   ],
   "source": [
    "1/2*pi"
   ]
  },
  {
   "cell_type": "code",
   "execution_count": 41,
   "id": "806ddfc0-ac07-4a71-8f90-27bd1dad2a15",
   "metadata": {
    "tags": []
   },
   "outputs": [
    {
     "data": {
      "text/plain": [
       "0.15915494309189535"
      ]
     },
     "execution_count": 41,
     "metadata": {},
     "output_type": "execute_result"
    }
   ],
   "source": [
    "1/(2*pi)"
   ]
  },
  {
   "cell_type": "code",
   "execution_count": 45,
   "id": "cf9933ef-9753-4d0e-9fc4-5b97ad2196c0",
   "metadata": {
    "tags": []
   },
   "outputs": [],
   "source": [
    "width=17\n",
    "heigth=12.0\n",
    "delimiter='.'"
   ]
  },
  {
   "cell_type": "code",
   "execution_count": 47,
   "id": "182a49c1-f775-4d31-9b2b-4bca6f1ed762",
   "metadata": {
    "tags": []
   },
   "outputs": [
    {
     "data": {
      "text/plain": [
       "8.5"
      ]
     },
     "execution_count": 47,
     "metadata": {},
     "output_type": "execute_result"
    }
   ],
   "source": [
    "width/2"
   ]
  },
  {
   "cell_type": "code",
   "execution_count": 49,
   "id": "4063a5c1-47c4-462f-8626-aeaedd8d1a1a",
   "metadata": {
    "tags": []
   },
   "outputs": [
    {
     "data": {
      "text/plain": [
       "8.5"
      ]
     },
     "execution_count": 49,
     "metadata": {},
     "output_type": "execute_result"
    }
   ],
   "source": [
    "width/2.0"
   ]
  },
  {
   "cell_type": "code",
   "execution_count": 51,
   "id": "6bdf83b8-de79-4712-9e71-f546fad36139",
   "metadata": {
    "tags": []
   },
   "outputs": [
    {
     "data": {
      "text/plain": [
       "4.0"
      ]
     },
     "execution_count": 51,
     "metadata": {},
     "output_type": "execute_result"
    }
   ],
   "source": [
    "heigth/3"
   ]
  },
  {
   "cell_type": "code",
   "execution_count": 52,
   "id": "fdf60959-4a2b-4ea7-ba29-d0e7d1d1cabe",
   "metadata": {
    "tags": []
   },
   "outputs": [
    {
     "data": {
      "text/plain": [
       "11"
      ]
     },
     "execution_count": 52,
     "metadata": {},
     "output_type": "execute_result"
    }
   ],
   "source": [
    "1+2*5"
   ]
  },
  {
   "cell_type": "code",
   "execution_count": 53,
   "id": "24865adc-d186-42be-a00c-c12255c0ecde",
   "metadata": {
    "tags": []
   },
   "outputs": [
    {
     "data": {
      "text/plain": [
       "'.....'"
      ]
     },
     "execution_count": 53,
     "metadata": {},
     "output_type": "execute_result"
    }
   ],
   "source": [
    "delimiter*5"
   ]
  },
  {
   "cell_type": "code",
   "execution_count": null,
   "id": "fd119c83-2d06-4ae2-b6cb-e41645c1d129",
   "metadata": {},
   "outputs": [],
   "source": []
  }
 ],
 "metadata": {
  "kernelspec": {
   "display_name": "Python 3 (ipykernel)",
   "language": "python",
   "name": "python3"
  },
  "language_info": {
   "codemirror_mode": {
    "name": "ipython",
    "version": 3
   },
   "file_extension": ".py",
   "mimetype": "text/x-python",
   "name": "python",
   "nbconvert_exporter": "python",
   "pygments_lexer": "ipython3",
   "version": "3.11.4"
  }
 },
 "nbformat": 4,
 "nbformat_minor": 5
}
