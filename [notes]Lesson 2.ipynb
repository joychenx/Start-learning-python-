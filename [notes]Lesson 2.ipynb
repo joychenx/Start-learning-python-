{
 "cells": [
  {
   "cell_type": "markdown",
   "id": "adb12f0f-9464-4430-ade6-cf0ea05b91f9",
   "metadata": {},
   "source": [
    "字符串"
   ]
  },
  {
   "cell_type": "markdown",
   "id": "d4c85344-6e6f-45ef-aab2-f7dadd92e3da",
   "metadata": {},
   "source": [
    "熟悉快捷键：要在没有选中某行的情况下"
   ]
  },
  {
   "cell_type": "code",
   "execution_count": 2,
   "id": "9b50893b-65fa-4179-93e8-97b3cb7a6f8e",
   "metadata": {
    "tags": []
   },
   "outputs": [],
   "source": [
    "s = 'hello'"
   ]
  },
  {
   "cell_type": "markdown",
   "id": "56551757-03dc-4e1a-8cef-1b39f25e4a4f",
   "metadata": {},
   "source": [
    "这是一个；例子"
   ]
  },
  {
   "cell_type": "code",
   "execution_count": 3,
   "id": "ca61963f-6d7b-4741-91ac-f551642acc6c",
   "metadata": {
    "tags": []
   },
   "outputs": [
    {
     "data": {
      "text/plain": [
       "'h'"
      ]
     },
     "execution_count": 3,
     "metadata": {},
     "output_type": "execute_result"
    }
   ],
   "source": [
    "s[0]"
   ]
  },
  {
   "cell_type": "code",
   "execution_count": 4,
   "id": "6f903df2-13aa-4620-91d9-5487cdd4f72b",
   "metadata": {
    "tags": []
   },
   "outputs": [
    {
     "ename": "TypeError",
     "evalue": "'str' object does not support item assignment",
     "output_type": "error",
     "traceback": [
      "\u001b[1;31m---------------------------------------------------------------------------\u001b[0m",
      "\u001b[1;31mTypeError\u001b[0m                                 Traceback (most recent call last)",
      "Cell \u001b[1;32mIn[4], line 1\u001b[0m\n\u001b[1;32m----> 1\u001b[0m s[\u001b[38;5;241m0\u001b[39m] \u001b[38;5;241m=\u001b[39m \u001b[38;5;124m'\u001b[39m\u001b[38;5;124mH\u001b[39m\u001b[38;5;124m'\u001b[39m\n",
      "\u001b[1;31mTypeError\u001b[0m: 'str' object does not support item assignment"
     ]
    }
   ],
   "source": [
    "s[0] = 'H'"
   ]
  },
  {
   "cell_type": "markdown",
   "id": "c30027e6-dde2-4e22-9dbc-1e4d5ee5eed0",
   "metadata": {},
   "source": [
    "不可改变字符串"
   ]
  },
  {
   "cell_type": "code",
   "execution_count": 5,
   "id": "32bb07b9-3a22-449c-a35e-0e3613ad257a",
   "metadata": {
    "tags": []
   },
   "outputs": [],
   "source": [
    "s = 'Hello'"
   ]
  },
  {
   "cell_type": "code",
   "execution_count": 6,
   "id": "8cdc5a34-0dbe-485b-aa0a-2f1581797e48",
   "metadata": {
    "tags": []
   },
   "outputs": [
    {
     "data": {
      "text/plain": [
       "'Hello'"
      ]
     },
     "execution_count": 6,
     "metadata": {},
     "output_type": "execute_result"
    }
   ],
   "source": [
    "s"
   ]
  },
  {
   "cell_type": "markdown",
   "id": "2fe1e74d-bf30-4945-b67b-bf2def359ebb",
   "metadata": {},
   "source": [
    "s为什么就可以直接改变？python的数据结构比较特殊，相当于s是个标签，贴在装着hello的盒子上面，但是字符串hello不可以直接改变\n",
    "而方法二相当于另外创建了一个对象Hello，再把s标签贴到第二个盒子上。\n",
    "第一个盒子没人用了没事，因为python有个垃圾清理器，会时不时清理"
   ]
  },
  {
   "cell_type": "code",
   "execution_count": 7,
   "id": "ede45681-78c9-419b-acef-ccb621659484",
   "metadata": {
    "tags": []
   },
   "outputs": [
    {
     "data": {
      "text/plain": [
       "'HELLO'"
      ]
     },
     "execution_count": 7,
     "metadata": {},
     "output_type": "execute_result"
    }
   ],
   "source": [
    "s.upper()"
   ]
  },
  {
   "cell_type": "code",
   "execution_count": 8,
   "id": "c4125c27-3500-440d-bcd7-ddfcdbe895ae",
   "metadata": {
    "tags": []
   },
   "outputs": [
    {
     "data": {
      "text/plain": [
       "'Hello'"
      ]
     },
     "execution_count": 8,
     "metadata": {},
     "output_type": "execute_result"
    }
   ],
   "source": [
    "s"
   ]
  },
  {
   "cell_type": "markdown",
   "id": "2c184f75-8978-4957-953a-cd46726b7ec7",
   "metadata": {},
   "source": [
    "其实没动s，标签还贴在那里，盒子里面的东西没变，字符串不可改变。upper相当于另外创建了有一块地方，放了转化后的，而且一段时间就被清理了"
   ]
  },
  {
   "cell_type": "code",
   "execution_count": 13,
   "id": "7206291c-eb98-47d7-aec9-26fd3da40f0f",
   "metadata": {
    "tags": []
   },
   "outputs": [],
   "source": [
    "long_string = '''hello\n",
    "hello again\n",
    "hello\n",
    "'''"
   ]
  },
  {
   "cell_type": "code",
   "execution_count": 14,
   "id": "0951958d-09db-4a87-9689-0a932d7e7539",
   "metadata": {
    "tags": []
   },
   "outputs": [
    {
     "data": {
      "text/plain": [
       "'hello\\nhello again\\nhello\\n'"
      ]
     },
     "execution_count": 14,
     "metadata": {},
     "output_type": "execute_result"
    }
   ],
   "source": [
    "long_string"
   ]
  },
  {
   "cell_type": "code",
   "execution_count": 15,
   "id": "4a812362-7295-4716-8d0f-a6ed137803ef",
   "metadata": {
    "tags": []
   },
   "outputs": [
    {
     "ename": "SyntaxError",
     "evalue": "unterminated string literal (detected at line 1) (836303535.py, line 1)",
     "output_type": "error",
     "traceback": [
      "\u001b[1;36m  Cell \u001b[1;32mIn[15], line 1\u001b[1;36m\u001b[0m\n\u001b[1;33m    s = 'hello\u001b[0m\n\u001b[1;37m        ^\u001b[0m\n\u001b[1;31mSyntaxError\u001b[0m\u001b[1;31m:\u001b[0m unterminated string literal (detected at line 1)\n"
     ]
    }
   ],
   "source": [
    "s = 'hello\n",
    "world'"
   ]
  },
  {
   "cell_type": "markdown",
   "id": "34e8a525-fdf0-4d0a-a0f2-715033a1d233",
   "metadata": {},
   "source": [
    "长字符串用三引号'''，普通引号不允许转行"
   ]
  },
  {
   "cell_type": "code",
   "execution_count": 16,
   "id": "42d66f06-9aca-4678-91d4-ad727daac334",
   "metadata": {
    "tags": []
   },
   "outputs": [
    {
     "data": {
      "text/plain": [
       "4"
      ]
     },
     "execution_count": 16,
     "metadata": {},
     "output_type": "execute_result"
    }
   ],
   "source": [
    "1 + 2 + 3\n",
    "+4"
   ]
  },
  {
   "cell_type": "markdown",
   "id": "10c4af30-d9f6-4f8d-b25e-590a6c99f53c",
   "metadata": {},
   "source": [
    "py语句一般不允许换行，可以用续行号"
   ]
  },
  {
   "cell_type": "code",
   "execution_count": 17,
   "id": "1eca0530-cae1-4d17-899f-f52bf780b2b0",
   "metadata": {
    "tags": []
   },
   "outputs": [
    {
     "data": {
      "text/plain": [
       "10"
      ]
     },
     "execution_count": 17,
     "metadata": {},
     "output_type": "execute_result"
    }
   ],
   "source": [
    "1+2+3\\\n",
    "+4"
   ]
  },
  {
   "cell_type": "markdown",
   "id": "84e3c4b3-e8ae-430b-b7d7-2dc2c67025b4",
   "metadata": {},
   "source": [
    "还有一种情况，可以用（），建议用括号不用续行号"
   ]
  },
  {
   "cell_type": "code",
   "execution_count": 18,
   "id": "1211be35-14d5-4a87-ad26-661de465a8cd",
   "metadata": {
    "tags": []
   },
   "outputs": [
    {
     "data": {
      "text/plain": [
       "10"
      ]
     },
     "execution_count": 18,
     "metadata": {},
     "output_type": "execute_result"
    }
   ],
   "source": [
    "(1+2+3\n",
    " +4)"
   ]
  },
  {
   "cell_type": "code",
   "execution_count": 21,
   "id": "9d46821f-68e7-4e8a-a40b-3af8c8ad8a58",
   "metadata": {
    "tags": []
   },
   "outputs": [
    {
     "name": "stdout",
     "output_type": "stream",
     "text": [
      "hello\n",
      "word.\n"
     ]
    }
   ],
   "source": [
    "print(\"hello\\nword.\")     #\\n换行符"
   ]
  },
  {
   "cell_type": "code",
   "execution_count": 22,
   "id": "2d547121-0684-4990-84ff-5ef9ce11425d",
   "metadata": {
    "tags": []
   },
   "outputs": [
    {
     "name": "stdout",
     "output_type": "stream",
     "text": [
      "path:c:\\documents\n"
     ]
    }
   ],
   "source": [
    "print(\"path:c:\\\\documents\") "
   ]
  },
  {
   "cell_type": "code",
   "execution_count": 23,
   "id": "cccbb3d2-bb30-43ad-8038-6dd89c222620",
   "metadata": {
    "tags": []
   },
   "outputs": [
    {
     "name": "stdout",
     "output_type": "stream",
     "text": [
      "you must input \"c:\\documents\" for \"c:\\documents\"\n"
     ]
    }
   ],
   "source": [
    "print('you must input \"c:\\\\documents\" for \"c:\\documents\"')"
   ]
  },
  {
   "cell_type": "code",
   "execution_count": 25,
   "id": "5ae1e6f1-e6db-4c72-8a68-0c3b82d7150e",
   "metadata": {
    "tags": []
   },
   "outputs": [
    {
     "name": "stdout",
     "output_type": "stream",
     "text": [
      "you must input \"c:\\\\documents\" for \"c:\\documents\"\n"
     ]
    }
   ],
   "source": [
    "print('you must input \"c:\\\\\\documents\" for \"c:\\documents\"')#巧合，恰好\\d不是转义字符"
   ]
  },
  {
   "cell_type": "code",
   "execution_count": 26,
   "id": "5538bc16-4f65-4c8b-8931-67d648541f23",
   "metadata": {
    "tags": []
   },
   "outputs": [
    {
     "name": "stdout",
     "output_type": "stream",
     "text": [
      "you must input \"c:\\\\documents\" for \"c:\\documents\"\n"
     ]
    }
   ],
   "source": [
    "print(r'you must input \"c:\\\\documents\" for \"c:\\documents\"')"
   ]
  },
  {
   "cell_type": "markdown",
   "id": "bc38191f-e98f-4021-8fe1-9647c5f0d980",
   "metadata": {},
   "source": [
    "raw，用r实现打啥样出来啥样！重要，回忆上节课格式化f"
   ]
  },
  {
   "cell_type": "markdown",
   "id": "27a1c1e7-eab9-4a9c-a0d8-8abeace16aa1",
   "metadata": {},
   "source": [
    "第二节：List"
   ]
  },
  {
   "cell_type": "code",
   "execution_count": 27,
   "id": "9b4a64d9-77d6-40c9-a17f-998ae4facd54",
   "metadata": {
    "tags": []
   },
   "outputs": [],
   "source": [
    "my_list = [0, 1, 2, 3, 4, 5]"
   ]
  },
  {
   "cell_type": "code",
   "execution_count": 28,
   "id": "b2a8ad75-b3f0-4d08-bdab-62a5db23b049",
   "metadata": {
    "tags": []
   },
   "outputs": [
    {
     "data": {
      "text/plain": [
       "[0, 1, 2, 3, 4, 5]"
      ]
     },
     "execution_count": 28,
     "metadata": {},
     "output_type": "execute_result"
    }
   ],
   "source": [
    "my_list"
   ]
  },
  {
   "cell_type": "code",
   "execution_count": 29,
   "id": "0b6d2d0b-70bd-4b28-b39a-37cd77ff09b5",
   "metadata": {
    "tags": []
   },
   "outputs": [
    {
     "data": {
      "text/plain": [
       "0"
      ]
     },
     "execution_count": 29,
     "metadata": {},
     "output_type": "execute_result"
    }
   ],
   "source": [
    "my_list[0]"
   ]
  },
  {
   "cell_type": "code",
   "execution_count": 30,
   "id": "7b37b2f3-570a-4738-8b51-2cf917073e19",
   "metadata": {
    "tags": []
   },
   "outputs": [
    {
     "data": {
      "text/plain": [
       "5"
      ]
     },
     "execution_count": 30,
     "metadata": {},
     "output_type": "execute_result"
    }
   ],
   "source": [
    "my_list[-1]"
   ]
  },
  {
   "cell_type": "markdown",
   "id": "51a83adf-e211-40bf-ba3c-f8c9f9dbd245",
   "metadata": {},
   "source": [
    "py里面list可以负数，-1，倒数第一，但埋下了陷阱"
   ]
  },
  {
   "cell_type": "code",
   "execution_count": 31,
   "id": "37dab2f6-fc6b-4061-899b-e4af900a3e0d",
   "metadata": {
    "tags": []
   },
   "outputs": [],
   "source": [
    "my_list[0] = 100"
   ]
  },
  {
   "cell_type": "code",
   "execution_count": 32,
   "id": "80211c15-126f-43d0-9efd-de25469dc858",
   "metadata": {
    "tags": []
   },
   "outputs": [
    {
     "data": {
      "text/plain": [
       "[100, 1, 2, 3, 4, 5]"
      ]
     },
     "execution_count": 32,
     "metadata": {},
     "output_type": "execute_result"
    }
   ],
   "source": [
    "my_list"
   ]
  },
  {
   "cell_type": "markdown",
   "id": "bdb08844-54cc-4402-a871-39f64200dd6f",
   "metadata": {},
   "source": [
    "list和string最大的不同：list可以改变，string不行"
   ]
  },
  {
   "cell_type": "code",
   "execution_count": 33,
   "id": "35f403f2-edf3-4082-8966-0222d3142ec2",
   "metadata": {
    "tags": []
   },
   "outputs": [
    {
     "ename": "IndexError",
     "evalue": "list index out of range",
     "output_type": "error",
     "traceback": [
      "\u001b[1;31m---------------------------------------------------------------------------\u001b[0m",
      "\u001b[1;31mIndexError\u001b[0m                                Traceback (most recent call last)",
      "Cell \u001b[1;32mIn[33], line 1\u001b[0m\n\u001b[1;32m----> 1\u001b[0m my_list[\u001b[38;5;241m6\u001b[39m]\n",
      "\u001b[1;31mIndexError\u001b[0m: list index out of range"
     ]
    }
   ],
   "source": [
    "my_list[6]"
   ]
  },
  {
   "cell_type": "code",
   "execution_count": 36,
   "id": "292de0a7-88bb-4acc-9644-d37ebf431f34",
   "metadata": {
    "tags": []
   },
   "outputs": [
    {
     "data": {
      "text/plain": [
       "[100, 1, 'hello', 3, 4, 5]"
      ]
     },
     "execution_count": 36,
     "metadata": {},
     "output_type": "execute_result"
    }
   ],
   "source": [
    "my_list[2] = 'hello'\n",
    "my_list"
   ]
  },
  {
   "cell_type": "markdown",
   "id": "8ba7bacf-37b5-459f-9231-be2570e0961e",
   "metadata": {},
   "source": [
    "list和数组不同，它可以是非均一的序列。但是确点，它没法像数组（均一）一样访问迅速。后来又为此设计了numpy"
   ]
  },
  {
   "cell_type": "code",
   "execution_count": 37,
   "id": "2ba21a13-dfc5-458f-9aa3-0d16d95975b6",
   "metadata": {
    "tags": []
   },
   "outputs": [],
   "source": [
    "my_list[2] = [7, 8, 9]"
   ]
  },
  {
   "cell_type": "code",
   "execution_count": 38,
   "id": "a5d2943c-8270-49d8-b5b1-be3e5ce99b6c",
   "metadata": {
    "tags": []
   },
   "outputs": [
    {
     "data": {
      "text/plain": [
       "[100, 1, [7, 8, 9], 3, 4, 5]"
      ]
     },
     "execution_count": 38,
     "metadata": {},
     "output_type": "execute_result"
    }
   ],
   "source": [
    "my_list"
   ]
  },
  {
   "cell_type": "markdown",
   "id": "450d7230-3f64-4deb-a8ee-039c8c7377aa",
   "metadata": {},
   "source": [
    "甚至可以用它模仿二维数组！"
   ]
  },
  {
   "cell_type": "code",
   "execution_count": 39,
   "id": "529e7e99-cf66-4cf5-b100-22abb1bb51e3",
   "metadata": {
    "tags": []
   },
   "outputs": [
    {
     "data": {
      "text/plain": [
       "8"
      ]
     },
     "execution_count": 39,
     "metadata": {},
     "output_type": "execute_result"
    }
   ],
   "source": [
    "my_list[2][1]"
   ]
  },
  {
   "cell_type": "markdown",
   "id": "2ae31637-8b41-4ea7-81f5-1657c694f0ca",
   "metadata": {},
   "source": [
    "嵌套-一层一层访问"
   ]
  },
  {
   "cell_type": "code",
   "execution_count": 41,
   "id": "b1d9b8e8-5bc8-4495-b394-5a7a5dd18deb",
   "metadata": {
    "tags": []
   },
   "outputs": [],
   "source": [
    "my_list = [0, 1, 2, 3, 4, 5]"
   ]
  },
  {
   "cell_type": "code",
   "execution_count": 44,
   "id": "d2db4d6f-f680-460b-a160-3e45ee8295e2",
   "metadata": {
    "tags": []
   },
   "outputs": [
    {
     "data": {
      "text/plain": [
       "[1, 2, 3, 4]"
      ]
     },
     "execution_count": 44,
     "metadata": {},
     "output_type": "execute_result"
    }
   ],
   "source": [
    "my_list[1:5]  #1-5"
   ]
  },
  {
   "cell_type": "markdown",
   "id": "c8ca00a3-9157-41ee-b412-30515b4ac661",
   "metadata": {
    "tags": []
   },
   "source": [
    "py的半开区间，一般区间指[a,b)"
   ]
  },
  {
   "cell_type": "code",
   "execution_count": 45,
   "id": "dd3fbbd0-3f95-400f-a581-995facc52c6c",
   "metadata": {
    "tags": []
   },
   "outputs": [
    {
     "data": {
      "text/plain": [
       "[1, 2, 3, 4, 5]"
      ]
     },
     "execution_count": 45,
     "metadata": {},
     "output_type": "execute_result"
    }
   ],
   "source": [
    "my_list[1:]"
   ]
  },
  {
   "cell_type": "code",
   "execution_count": 47,
   "id": "58b30c6b-ce6c-47bb-87fe-36bc5b0720f7",
   "metadata": {
    "tags": []
   },
   "outputs": [
    {
     "data": {
      "text/plain": [
       "[0, 1, 2, 3, 4, 5]"
      ]
     },
     "execution_count": 47,
     "metadata": {},
     "output_type": "execute_result"
    }
   ],
   "source": [
    "my_list[0:6]"
   ]
  },
  {
   "cell_type": "code",
   "execution_count": 48,
   "id": "54a50df5-2f47-4f65-8366-e1d5ed689b6c",
   "metadata": {
    "tags": []
   },
   "outputs": [
    {
     "data": {
      "text/plain": [
       "[0, 2, 4]"
      ]
     },
     "execution_count": 48,
     "metadata": {},
     "output_type": "execute_result"
    }
   ],
   "source": [
    "my_list[0:6:2]"
   ]
  },
  {
   "cell_type": "markdown",
   "id": "f8493159-e49c-447c-a1fb-176ea4ce9378",
   "metadata": {},
   "source": [
    "最后一个数字代表步长（间隔），甚至间隔还可以是负数"
   ]
  },
  {
   "cell_type": "code",
   "execution_count": 50,
   "id": "68268e33-8781-4a21-8af7-6aa89d43020b",
   "metadata": {
    "tags": []
   },
   "outputs": [
    {
     "data": {
      "text/plain": [
       "[3, 2, 1]"
      ]
     },
     "execution_count": 50,
     "metadata": {},
     "output_type": "execute_result"
    }
   ],
   "source": [
    "my_list[3:0:-1]"
   ]
  },
  {
   "cell_type": "code",
   "execution_count": 51,
   "id": "40ab004f-c17d-4b0e-af85-46249fcfe628",
   "metadata": {
    "tags": []
   },
   "outputs": [
    {
     "data": {
      "text/plain": [
       "[5, 4, 3, 2, 1]"
      ]
     },
     "execution_count": 51,
     "metadata": {},
     "output_type": "execute_result"
    }
   ],
   "source": [
    "my_list[5:0:-1]"
   ]
  },
  {
   "cell_type": "markdown",
   "id": "f3337a4a-b264-4ecb-9dcd-1366bffa7136",
   "metadata": {},
   "source": [
    "走不到最后，差点就完美了，完全转置"
   ]
  },
  {
   "cell_type": "code",
   "execution_count": 55,
   "id": "d12d7b76-e354-4714-bb93-b9b3aca8b3ee",
   "metadata": {
    "tags": []
   },
   "outputs": [
    {
     "data": {
      "text/plain": [
       "[]"
      ]
     },
     "execution_count": 55,
     "metadata": {},
     "output_type": "execute_result"
    }
   ],
   "source": [
    "my_list[5:-1:-1]#可不行，-1不是0前面"
   ]
  },
  {
   "cell_type": "code",
   "execution_count": 52,
   "id": "918192b4-4a59-46be-adaa-87a511607848",
   "metadata": {
    "tags": []
   },
   "outputs": [
    {
     "data": {
      "text/plain": [
       "[5, 4, 3, 2, 1, 0]"
      ]
     },
     "execution_count": 52,
     "metadata": {},
     "output_type": "execute_result"
    }
   ],
   "source": [
    "my_list[5::-1]"
   ]
  },
  {
   "cell_type": "markdown",
   "id": "cb716086-fe71-4af3-bf31-7c1409faefe5",
   "metadata": {},
   "source": [
    "但可以不写！直接完整"
   ]
  },
  {
   "cell_type": "code",
   "execution_count": 53,
   "id": "91346aa4-14ec-444e-8c56-8ede7def3489",
   "metadata": {
    "tags": []
   },
   "outputs": [
    {
     "data": {
      "text/plain": [
       "[]"
      ]
     },
     "execution_count": 53,
     "metadata": {},
     "output_type": "execute_result"
    }
   ],
   "source": [
    "my_list[5:-1]"
   ]
  },
  {
   "cell_type": "markdown",
   "id": "dd8c8263-a0c0-4521-b238-2691e6bcf152",
   "metadata": {},
   "source": [
    "不行，5和-1值的都是最后一个，还是开区间"
   ]
  },
  {
   "cell_type": "markdown",
   "id": "ec884717-097e-4dda-93b4-87ab3a58edb8",
   "metadata": {},
   "source": [
    "还能不能其他方法转置，以下方法更好，不需要数数|"
   ]
  },
  {
   "cell_type": "code",
   "execution_count": 54,
   "id": "77ec4ead-9258-4f4c-b33f-16a19350ff21",
   "metadata": {
    "tags": []
   },
   "outputs": [
    {
     "data": {
      "text/plain": [
       "[5, 4, 3, 2, 1, 0]"
      ]
     },
     "execution_count": 54,
     "metadata": {},
     "output_type": "execute_result"
    }
   ],
   "source": [
    "my_list[-1::-1]"
   ]
  },
  {
   "cell_type": "code",
   "execution_count": 56,
   "id": "f839a583-5ed8-43c4-ab0c-f00b51120b17",
   "metadata": {
    "tags": []
   },
   "outputs": [],
   "source": [
    "my_list = []"
   ]
  },
  {
   "cell_type": "code",
   "execution_count": 57,
   "id": "7bd718f6-9682-40f6-a0c3-d5be09190ea1",
   "metadata": {
    "tags": []
   },
   "outputs": [],
   "source": [
    "my_list = list()"
   ]
  },
  {
   "cell_type": "markdown",
   "id": "8f834225-97f2-4412-8fcf-4baa2fdd46ec",
   "metadata": {},
   "source": [
    "类&对象  （抽象概念&一个实例）"
   ]
  },
  {
   "cell_type": "code",
   "execution_count": 58,
   "id": "c11d2d3f-00b0-47d9-ad39-05362ac2fa3b",
   "metadata": {
    "tags": []
   },
   "outputs": [
    {
     "data": {
      "text/plain": [
       "[1, 2, 3, 4, 5, 6]"
      ]
     },
     "execution_count": 58,
     "metadata": {},
     "output_type": "execute_result"
    }
   ],
   "source": [
    "[1, 2, 3]+[4, 5, 6]"
   ]
  },
  {
   "cell_type": "code",
   "execution_count": 59,
   "id": "8057e325-5261-4eda-a161-1c6daa10a98b",
   "metadata": {
    "tags": []
   },
   "outputs": [
    {
     "data": {
      "text/plain": [
       "[1, 1, 1, 1, 1]"
      ]
     },
     "execution_count": 59,
     "metadata": {},
     "output_type": "execute_result"
    }
   ],
   "source": [
    "[1]*5"
   ]
  },
  {
   "cell_type": "code",
   "execution_count": 62,
   "id": "8512f5b6-b5e8-4766-8c21-2165e1134b33",
   "metadata": {
    "tags": []
   },
   "outputs": [],
   "source": [
    "alist = list()#空的\n",
    "x = 0\n",
    "while x< 10:\n",
    "    alist.append(x)\n",
    "    x = x + 1"
   ]
  },
  {
   "cell_type": "code",
   "execution_count": 63,
   "id": "71bb7fe0-0e4f-4517-a0ea-01b19cfa29a3",
   "metadata": {
    "tags": []
   },
   "outputs": [
    {
     "data": {
      "text/plain": [
       "[0, 1, 2, 3, 4, 5, 6, 7, 8, 9]"
      ]
     },
     "execution_count": 63,
     "metadata": {},
     "output_type": "execute_result"
    }
   ],
   "source": [
    "alist"
   ]
  },
  {
   "cell_type": "markdown",
   "id": "4b9c2ddd-fae8-48a9-aa83-bb546f9929a6",
   "metadata": {},
   "source": [
    "养成习惯，循环n次，那就从0开始到<n即可，符合py的半开区间习惯，不用≤"
   ]
  },
  {
   "cell_type": "code",
   "execution_count": 64,
   "id": "67cb9349-d92a-456a-b1f1-7620fb3e659a",
   "metadata": {
    "tags": []
   },
   "outputs": [],
   "source": [
    "alist = list('hello')"
   ]
  },
  {
   "cell_type": "code",
   "execution_count": 66,
   "id": "37d9fce9-161a-44e6-8f7b-756c84da4e62",
   "metadata": {
    "tags": []
   },
   "outputs": [
    {
     "data": {
      "text/plain": [
       "['h', 'e', 'l', 'l', 'o']"
      ]
     },
     "execution_count": 66,
     "metadata": {},
     "output_type": "execute_result"
    }
   ],
   "source": [
    "alist#思考？里面有几个元素？1个or5个？"
   ]
  },
  {
   "cell_type": "markdown",
   "id": "39164f4b-e6f8-4c1b-a4fd-40e42a21dff3",
   "metadata": {},
   "source": [
    "用一种sequence去构造另一个sequence，和原来的元素一样"
   ]
  },
  {
   "cell_type": "code",
   "execution_count": 68,
   "id": "ba252423-3be9-40c6-ab2f-02e4555b81a4",
   "metadata": {
    "tags": []
   },
   "outputs": [
    {
     "data": {
      "text/plain": [
       "'h*e*l*l*o'"
      ]
     },
     "execution_count": 68,
     "metadata": {},
     "output_type": "execute_result"
    }
   ],
   "source": [
    "'*'.join(alist)"
   ]
  },
  {
   "cell_type": "markdown",
   "id": "d4d7ae00-e97c-42c4-ae37-f742ce9d6331",
   "metadata": {},
   "source": [
    "'*'.join拼在一起，用*把alist里面每个元素链接起来"
   ]
  },
  {
   "cell_type": "markdown",
   "id": "3c7d9692-0318-496c-b194-e08a59f35495",
   "metadata": {},
   "source": [
    "''.join直接拼在一起（用空字符串）"
   ]
  },
  {
   "cell_type": "code",
   "execution_count": 69,
   "id": "72f6a079-2cc6-4a76-a1da-868917c3d6de",
   "metadata": {
    "tags": []
   },
   "outputs": [
    {
     "data": {
      "text/plain": [
       "'hello'"
      ]
     },
     "execution_count": 69,
     "metadata": {},
     "output_type": "execute_result"
    }
   ],
   "source": [
    "''.join(alist)"
   ]
  },
  {
   "cell_type": "markdown",
   "id": "2d738672-53be-4d2c-a7ea-7ce5f2876773",
   "metadata": {},
   "source": [
    "推荐方法"
   ]
  },
  {
   "cell_type": "code",
   "execution_count": 70,
   "id": "66ef8e26-7104-4f54-ba71-76489c0c4438",
   "metadata": {
    "tags": []
   },
   "outputs": [
    {
     "data": {
      "text/plain": [
       "[0, 1, 2, 3, 4, 5, 6, 7, 8, 9]"
      ]
     },
     "execution_count": 70,
     "metadata": {},
     "output_type": "execute_result"
    }
   ],
   "source": [
    "alist = list(range(0, 10))\n",
    "alist"
   ]
  },
  {
   "cell_type": "markdown",
   "id": "7eeb9973-709f-4cab-8190-a7692ecb1fca",
   "metadata": {},
   "source": [
    "range不是函数，功能是将在范围[a,b)的数字（对象）一个一个地给"
   ]
  },
  {
   "cell_type": "code",
   "execution_count": 71,
   "id": "c01b7cf0-d541-47e3-941a-3722191a5dc0",
   "metadata": {
    "tags": []
   },
   "outputs": [
    {
     "name": "stdout",
     "output_type": "stream",
     "text": [
      "hello\n",
      "hello\n",
      "hello\n",
      "hello\n",
      "hello\n",
      "hello\n",
      "hello\n",
      "hello\n",
      "hello\n",
      "hello\n"
     ]
    }
   ],
   "source": [
    "for number in range(0, 10):\n",
    "    print('hello')#为什么不用写换行？因为print缺省默认换行，如果不换行，最后要“  ，end='...')\n",
    "#    print(f'{number}^3 = {number ** 3}')"
   ]
  },
  {
   "cell_type": "markdown",
   "id": "6f3d6bca-fe82-4d02-b7d6-0181eb516df9",
   "metadata": {},
   "source": [
    "for number in range(0, n):\n",
    "想重复n次，就写(0, n);\n",
    "range每次给你一个数字，且会帮你+1；"
   ]
  },
  {
   "cell_type": "code",
   "execution_count": 72,
   "id": "549b2d9f-f668-437a-a03f-85ae586d7bb2",
   "metadata": {
    "tags": []
   },
   "outputs": [
    {
     "name": "stdout",
     "output_type": "stream",
     "text": [
      "0^3 = 0\n",
      "1^3 = 1\n",
      "2^3 = 8\n",
      "3^3 = 27\n",
      "4^3 = 64\n",
      "5^3 = 125\n",
      "6^3 = 216\n",
      "7^3 = 343\n",
      "8^3 = 512\n",
      "9^3 = 729\n"
     ]
    }
   ],
   "source": [
    "for number in range(0, 10):\n",
    "    print(f'{number}^3 = {number ** 3}')#为什么不用写换行？"
   ]
  },
  {
   "cell_type": "markdown",
   "id": "9aac4938-1ca9-498a-a5c9-a59cb65df004",
   "metadata": {},
   "source": [
    "打印*十行"
   ]
  },
  {
   "cell_type": "code",
   "execution_count": 74,
   "id": "43316c71-cec7-409d-82e8-8ff9f0e9447d",
   "metadata": {
    "tags": []
   },
   "outputs": [
    {
     "name": "stdout",
     "output_type": "stream",
     "text": [
      "          *\n",
      "         ***\n",
      "        *****\n",
      "       *******\n",
      "      *********\n",
      "     ***********\n",
      "    *************\n",
      "   ***************\n",
      "  *****************\n",
      " *******************\n"
     ]
    }
   ],
   "source": [
    "for index in range(0,10):\n",
    "    print(' ' * (10 - index - 1), (2 * index + 1) * '*')"
   ]
  },
  {
   "cell_type": "markdown",
   "id": "90c67223-1c07-4893-a510-cc61e601d5cb",
   "metadata": {},
   "source": [
    "py不必二重循环"
   ]
  },
  {
   "cell_type": "markdown",
   "id": "d01c391e-852f-48a9-8c71-d4c889b6e255",
   "metadata": {},
   "source": [
    "打印乘法表（上三角）：\n",
    "1.先简单点，全部填满（正方形），要做循环9*9=8次"
   ]
  },
  {
   "cell_type": "code",
   "execution_count": 78,
   "id": "6575ab03-9c07-4a40-987d-2fe0e22de5af",
   "metadata": {
    "tags": []
   },
   "outputs": [
    {
     "name": "stdout",
     "output_type": "stream",
     "text": [
      "1x1=1\n",
      "1x2=2\n",
      "1x3=3\n",
      "1x4=4\n",
      "1x5=5\n",
      "1x6=6\n",
      "1x7=7\n",
      "1x8=8\n",
      "1x9=9\n",
      "2x1=2\n",
      "2x2=4\n",
      "2x3=6\n",
      "2x4=8\n",
      "2x5=10\n",
      "2x6=12\n",
      "2x7=14\n",
      "2x8=16\n",
      "2x9=18\n",
      "3x1=3\n",
      "3x2=6\n",
      "3x3=9\n",
      "3x4=12\n",
      "3x5=15\n",
      "3x6=18\n",
      "3x7=21\n",
      "3x8=24\n",
      "3x9=27\n",
      "4x1=4\n",
      "4x2=8\n",
      "4x3=12\n",
      "4x4=16\n",
      "4x5=20\n",
      "4x6=24\n",
      "4x7=28\n",
      "4x8=32\n",
      "4x9=36\n",
      "5x1=5\n",
      "5x2=10\n",
      "5x3=15\n",
      "5x4=20\n",
      "5x5=25\n",
      "5x6=30\n",
      "5x7=35\n",
      "5x8=40\n",
      "5x9=45\n",
      "6x1=6\n",
      "6x2=12\n",
      "6x3=18\n",
      "6x4=24\n",
      "6x5=30\n",
      "6x6=36\n",
      "6x7=42\n",
      "6x8=48\n",
      "6x9=54\n",
      "7x1=7\n",
      "7x2=14\n",
      "7x3=21\n",
      "7x4=28\n",
      "7x5=35\n",
      "7x6=42\n",
      "7x7=49\n",
      "7x8=56\n",
      "7x9=63\n",
      "8x1=8\n",
      "8x2=16\n",
      "8x3=24\n",
      "8x4=32\n",
      "8x5=40\n",
      "8x6=48\n",
      "8x7=56\n",
      "8x8=64\n",
      "8x9=72\n",
      "9x1=9\n",
      "9x2=18\n",
      "9x3=27\n",
      "9x4=36\n",
      "9x5=45\n",
      "9x6=54\n",
      "9x7=63\n",
      "9x8=72\n",
      "9x9=81\n"
     ]
    }
   ],
   "source": [
    "for x in range(1, 10):\n",
    "    for y in range(1, 10):\n",
    "        print(f'{x}x{y}={x*y}')#缺省直接换行"
   ]
  },
  {
   "cell_type": "code",
   "execution_count": 79,
   "id": "a6c41154-3dee-441e-95a9-20aaaaabc2fb",
   "metadata": {
    "tags": []
   },
   "outputs": [
    {
     "name": "stdout",
     "output_type": "stream",
     "text": [
      "1x1=1\t1x2=2\t1x3=3\t1x4=4\t1x5=5\t1x6=6\t1x7=7\t1x8=8\t1x9=9\t2x1=2\t2x2=4\t2x3=6\t2x4=8\t2x5=10\t2x6=12\t2x7=14\t2x8=16\t2x9=18\t3x1=3\t3x2=6\t3x3=9\t3x4=12\t3x5=15\t3x6=18\t3x7=21\t3x8=24\t3x9=27\t4x1=4\t4x2=8\t4x3=12\t4x4=16\t4x5=20\t4x6=24\t4x7=28\t4x8=32\t4x9=36\t5x1=5\t5x2=10\t5x3=15\t5x4=20\t5x5=25\t5x6=30\t5x7=35\t5x8=40\t5x9=45\t6x1=6\t6x2=12\t6x3=18\t6x4=24\t6x5=30\t6x6=36\t6x7=42\t6x8=48\t6x9=54\t7x1=7\t7x2=14\t7x3=21\t7x4=28\t7x5=35\t7x6=42\t7x7=49\t7x8=56\t7x9=63\t8x1=8\t8x2=16\t8x3=24\t8x4=32\t8x5=40\t8x6=48\t8x7=56\t8x8=64\t8x9=72\t9x1=9\t9x2=18\t9x3=27\t9x4=36\t9x5=45\t9x6=54\t9x7=63\t9x8=72\t9x9=81\t"
     ]
    }
   ],
   "source": [
    "for x in range(1, 10):\n",
    "    for y in range(1, 10):\n",
    "        print(f'{x}x{y}={x*y}',end='\\t')#改进1"
   ]
  },
  {
   "cell_type": "code",
   "execution_count": 80,
   "id": "21d28e10-ba10-4520-a859-edd0ba9e2e61",
   "metadata": {
    "tags": []
   },
   "outputs": [
    {
     "name": "stdout",
     "output_type": "stream",
     "text": [
      "1x1=1\t1x2=2\t1x3=3\t1x4=4\t1x5=5\t1x6=6\t1x7=7\t1x8=8\t1x9=9\t\n",
      "2x1=2\t2x2=4\t2x3=6\t2x4=8\t2x5=10\t2x6=12\t2x7=14\t2x8=16\t2x9=18\t\n",
      "3x1=3\t3x2=6\t3x3=9\t3x4=12\t3x5=15\t3x6=18\t3x7=21\t3x8=24\t3x9=27\t\n",
      "4x1=4\t4x2=8\t4x3=12\t4x4=16\t4x5=20\t4x6=24\t4x7=28\t4x8=32\t4x9=36\t\n",
      "5x1=5\t5x2=10\t5x3=15\t5x4=20\t5x5=25\t5x6=30\t5x7=35\t5x8=40\t5x9=45\t\n",
      "6x1=6\t6x2=12\t6x3=18\t6x4=24\t6x5=30\t6x6=36\t6x7=42\t6x8=48\t6x9=54\t\n",
      "7x1=7\t7x2=14\t7x3=21\t7x4=28\t7x5=35\t7x6=42\t7x7=49\t7x8=56\t7x9=63\t\n",
      "8x1=8\t8x2=16\t8x3=24\t8x4=32\t8x5=40\t8x6=48\t8x7=56\t8x8=64\t8x9=72\t\n",
      "9x1=9\t9x2=18\t9x3=27\t9x4=36\t9x5=45\t9x6=54\t9x7=63\t9x8=72\t9x9=81\t\n"
     ]
    }
   ],
   "source": [
    "for x in range(1, 10):\n",
    "    for y in range(1, 10):\n",
    "        print(f'{x}x{y}={x*y}',end='\\t')\n",
    "    print('')#换行？为啥不用换行符？"
   ]
  },
  {
   "cell_type": "code",
   "execution_count": 83,
   "id": "71cd8d0e-4c57-4ebb-9805-6e039d44cd52",
   "metadata": {
    "tags": []
   },
   "outputs": [
    {
     "name": "stdout",
     "output_type": "stream",
     "text": [
      "1x1=1\t1x2=2\t1x3=3\t1x4=4\t1x5=5\t1x6=6\t1x7=7\t1x8=8\t1x9=9\t\n",
      "\t\n",
      "2x2=4\t2x3=6\t2x4=8\t2x5=10\t2x6=12\t2x7=14\t2x8=16\t2x9=18\t\n",
      "\t\n",
      "\t\n",
      "3x3=9\t3x4=12\t3x5=15\t3x6=18\t3x7=21\t3x8=24\t3x9=27\t\n",
      "\t\n",
      "\t\n",
      "\t\n",
      "4x4=16\t4x5=20\t4x6=24\t4x7=28\t4x8=32\t4x9=36\t\n",
      "\t\n",
      "\t\n",
      "\t\n",
      "\t\n",
      "5x5=25\t5x6=30\t5x7=35\t5x8=40\t5x9=45\t\n",
      "\t\n",
      "\t\n",
      "\t\n",
      "\t\n",
      "\t\n",
      "6x6=36\t6x7=42\t6x8=48\t6x9=54\t\n",
      "\t\n",
      "\t\n",
      "\t\n",
      "\t\n",
      "\t\n",
      "\t\n",
      "7x7=49\t7x8=56\t7x9=63\t\n",
      "\t\n",
      "\t\n",
      "\t\n",
      "\t\n",
      "\t\n",
      "\t\n",
      "\t\n",
      "8x8=64\t8x9=72\t\n",
      "\t\n",
      "\t\n",
      "\t\n",
      "\t\n",
      "\t\n",
      "\t\n",
      "\t\n",
      "\t\n",
      "9x9=81\t\n"
     ]
    }
   ],
   "source": [
    "for x in range(1, 10):\n",
    "    for y in range(1, 10):\n",
    "        if x<=y:#改进：左下不输出\n",
    "            print(f'{x}x{y}={x*y}',end='\\t')\n",
    "        else:\n",
    "            print('\\t')#没有写全\n",
    "    print('')"
   ]
  },
  {
   "cell_type": "markdown",
   "id": "4e39dbf2-0a64-4298-8e1c-5efd3067ab3e",
   "metadata": {
    "tags": []
   },
   "source": [
    "###### for x in range(1, 10):\n",
    "    for y in range(1, 10):\n",
    "        if x<=y:#改进：左下不输出\n",
    "            print(f'{x}x{y}={x*y}',end='\\t')\n",
    "        else:\n",
    "            print('\\t',end='\\t')#又错了。。\n",
    "    print('')"
   ]
  },
  {
   "cell_type": "code",
   "execution_count": 85,
   "id": "ec35e6bd-6293-41ce-b933-028f065fe6c1",
   "metadata": {
    "tags": []
   },
   "outputs": [
    {
     "name": "stdout",
     "output_type": "stream",
     "text": [
      "1x1=1\t1x2=2\t1x3=3\t1x4=4\t1x5=5\t1x6=6\t1x7=7\t1x8=8\t1x9=9\t\n",
      "\t2x2=4\t2x3=6\t2x4=8\t2x5=10\t2x6=12\t2x7=14\t2x8=16\t2x9=18\t\n",
      "\t\t3x3=9\t3x4=12\t3x5=15\t3x6=18\t3x7=21\t3x8=24\t3x9=27\t\n",
      "\t\t\t4x4=16\t4x5=20\t4x6=24\t4x7=28\t4x8=32\t4x9=36\t\n",
      "\t\t\t\t5x5=25\t5x6=30\t5x7=35\t5x8=40\t5x9=45\t\n",
      "\t\t\t\t\t6x6=36\t6x7=42\t6x8=48\t6x9=54\t\n",
      "\t\t\t\t\t\t7x7=49\t7x8=56\t7x9=63\t\n",
      "\t\t\t\t\t\t\t8x8=64\t8x9=72\t\n",
      "\t\t\t\t\t\t\t\t9x9=81\t\n"
     ]
    }
   ],
   "source": [
    "for x in range(1, 10):\n",
    "    for y in range(1, 10):\n",
    "        if x<=y:#改进：左下不输出\n",
    "            print(f'{x}x{y}={x*y}',end='\\t')\n",
    "        else:\n",
    "            print('',end='\\t')#又错了。。\n",
    "    print('') "
   ]
  },
  {
   "cell_type": "markdown",
   "id": "434a7988-dbf2-4390-b580-35ca83bf62b9",
   "metadata": {},
   "source": [
    "list可以用一个操作符in来判断某元素在不在其中"
   ]
  },
  {
   "cell_type": "code",
   "execution_count": 87,
   "id": "e83be3ea-7002-4637-8e03-8ff8e23567ca",
   "metadata": {
    "tags": []
   },
   "outputs": [
    {
     "data": {
      "text/plain": [
       "False"
      ]
     },
     "execution_count": 87,
     "metadata": {},
     "output_type": "execute_result"
    }
   ],
   "source": [
    "4 in [1, 2, 3]"
   ]
  },
  {
   "cell_type": "markdown",
   "id": "7f568dea-3048-4eca-97db-92e17ac559b2",
   "metadata": {},
   "source": [
    "False是py内置的"
   ]
  },
  {
   "cell_type": "code",
   "execution_count": 90,
   "id": "e3953c70-bd7a-48e9-847f-db5776253d6e",
   "metadata": {
    "tags": []
   },
   "outputs": [
    {
     "name": "stdin",
     "output_type": "stream",
     "text": [
      "please input an alphabet:  A\n"
     ]
    },
    {
     "name": "stdout",
     "output_type": "stream",
     "text": [
      "not vowel\n"
     ]
    }
   ],
   "source": [
    "ch = input('please input an alphabet: ')\n",
    "if ch =='a' or ch =='e' or ch =='i' or ch =='o' or ch =='u':\n",
    "    print('vowel')\n",
    "else:\n",
    "    print('not vowel')"
   ]
  },
  {
   "cell_type": "markdown",
   "id": "def08909-3fda-4862-88a9-b91eeee6c853",
   "metadata": {},
   "source": [
    "哈哈哈，不智能。漂亮的写法如下："
   ]
  },
  {
   "cell_type": "code",
   "execution_count": 91,
   "id": "ee5a04a4-bb9f-4e85-ab44-985f928e8b34",
   "metadata": {
    "tags": []
   },
   "outputs": [
    {
     "name": "stdin",
     "output_type": "stream",
     "text": [
      "please input an alphabet:  A\n"
     ]
    },
    {
     "name": "stdout",
     "output_type": "stream",
     "text": [
      "vowel\n"
     ]
    }
   ],
   "source": [
    "ch = input('please input an alphabet: ')\n",
    "if ch in 'aeiouAEIOU':\n",
    "    print('vowel')\n",
    "else:\n",
    "    print('not vowel')"
   ]
  },
  {
   "cell_type": "code",
   "execution_count": 92,
   "id": "420ee595-b678-4aae-b285-cba7cb3b997a",
   "metadata": {
    "tags": []
   },
   "outputs": [
    {
     "data": {
      "text/plain": [
       "[0, 1, 2, 3, 4, 5, 6, 7, 8, 9]"
      ]
     },
     "execution_count": 92,
     "metadata": {},
     "output_type": "execute_result"
    }
   ],
   "source": [
    "a = list(range(0, 10))\n",
    "a"
   ]
  },
  {
   "cell_type": "markdown",
   "id": "40a7017e-b606-4497-a1a3-8f4191271836",
   "metadata": {},
   "source": [
    "清除：clear和del，但注意能修改的东西"
   ]
  },
  {
   "cell_type": "code",
   "execution_count": 93,
   "id": "9c94a55d-87f1-4d02-9d91-214c7abd7004",
   "metadata": {
    "tags": []
   },
   "outputs": [],
   "source": [
    "a.clear()"
   ]
  },
  {
   "cell_type": "code",
   "execution_count": 94,
   "id": "b3064b28-3a4f-4827-bbdb-f20ab1b99876",
   "metadata": {
    "tags": []
   },
   "outputs": [
    {
     "data": {
      "text/plain": [
       "[]"
      ]
     },
     "execution_count": 94,
     "metadata": {},
     "output_type": "execute_result"
    }
   ],
   "source": [
    "a"
   ]
  },
  {
   "cell_type": "code",
   "execution_count": 96,
   "id": "4739b1f1-8d55-42cd-b3b6-5611747e9865",
   "metadata": {
    "tags": []
   },
   "outputs": [
    {
     "data": {
      "text/plain": [
       "[0, 1, 2, 3, 4, 5, 6, 7, 8, 9]"
      ]
     },
     "execution_count": 96,
     "metadata": {},
     "output_type": "execute_result"
    }
   ],
   "source": [
    "a = list(range(0, 10))\n",
    "a"
   ]
  },
  {
   "cell_type": "code",
   "execution_count": 98,
   "id": "2690f8b1-e701-4626-b295-47ab7f625625",
   "metadata": {
    "tags": []
   },
   "outputs": [],
   "source": [
    "del a[0]"
   ]
  },
  {
   "cell_type": "code",
   "execution_count": 99,
   "id": "6318d8cc-ac7f-46d3-a737-0ba8e016e9f1",
   "metadata": {
    "tags": []
   },
   "outputs": [
    {
     "data": {
      "text/plain": [
       "[1, 2, 3, 4, 5, 6, 7, 8, 9]"
      ]
     },
     "execution_count": 99,
     "metadata": {},
     "output_type": "execute_result"
    }
   ],
   "source": [
    "a"
   ]
  },
  {
   "cell_type": "code",
   "execution_count": 101,
   "id": "fc6fd6d7-c2cf-4d9a-9d18-136e6efc2c45",
   "metadata": {
    "tags": []
   },
   "outputs": [],
   "source": [
    "a = [1, 2, 3]\n",
    "b = a"
   ]
  },
  {
   "cell_type": "code",
   "execution_count": 102,
   "id": "32056817-6794-4612-824e-3a63782eb30f",
   "metadata": {
    "tags": []
   },
   "outputs": [
    {
     "data": {
      "text/plain": [
       "[1, 2, 3]"
      ]
     },
     "execution_count": 102,
     "metadata": {},
     "output_type": "execute_result"
    }
   ],
   "source": [
    "a"
   ]
  },
  {
   "cell_type": "code",
   "execution_count": 103,
   "id": "88246ca8-cc57-4a11-b472-8e2e712a9290",
   "metadata": {
    "tags": []
   },
   "outputs": [
    {
     "data": {
      "text/plain": [
       "[1, 2, 3]"
      ]
     },
     "execution_count": 103,
     "metadata": {},
     "output_type": "execute_result"
    }
   ],
   "source": [
    "b"
   ]
  },
  {
   "cell_type": "code",
   "execution_count": 104,
   "id": "0898194c-91f0-450a-981d-e94fd9f87882",
   "metadata": {
    "tags": []
   },
   "outputs": [],
   "source": [
    "b[0] = 100"
   ]
  },
  {
   "cell_type": "code",
   "execution_count": 105,
   "id": "bb6f97b8-f75a-4ac7-9802-24d1adb22490",
   "metadata": {
    "tags": []
   },
   "outputs": [
    {
     "data": {
      "text/plain": [
       "[100, 2, 3]"
      ]
     },
     "execution_count": 105,
     "metadata": {},
     "output_type": "execute_result"
    }
   ],
   "source": [
    "b"
   ]
  },
  {
   "cell_type": "code",
   "execution_count": 106,
   "id": "1b580752-6d02-46f6-afdb-66541e3a0afc",
   "metadata": {
    "tags": []
   },
   "outputs": [
    {
     "data": {
      "text/plain": [
       "[100, 2, 3]"
      ]
     },
     "execution_count": 106,
     "metadata": {},
     "output_type": "execute_result"
    }
   ],
   "source": [
    "a"
   ]
  },
  {
   "cell_type": "markdown",
   "id": "d48a6967-4e5f-46ec-908a-a0e5ba595307",
   "metadata": {},
   "source": [
    "a,b都是标签，贴在同一个盒子上"
   ]
  },
  {
   "cell_type": "code",
   "execution_count": 107,
   "id": "e9e8481d-322c-4fa0-96d0-11125e25401f",
   "metadata": {
    "tags": []
   },
   "outputs": [],
   "source": [
    "x = 3\n",
    "x = 'hello'"
   ]
  },
  {
   "cell_type": "code",
   "execution_count": 108,
   "id": "3ee5fa0b-7775-40b7-8bf3-4d2538dbf2ac",
   "metadata": {
    "tags": []
   },
   "outputs": [
    {
     "data": {
      "text/plain": [
       "'hello'"
      ]
     },
     "execution_count": 108,
     "metadata": {},
     "output_type": "execute_result"
    }
   ],
   "source": [
    "x"
   ]
  },
  {
   "cell_type": "markdown",
   "id": "10239f7e-1de7-4751-b688-a965ddb8a01c",
   "metadata": {},
   "source": [
    "x没有类型，只是标签"
   ]
  },
  {
   "cell_type": "markdown",
   "id": "335a9314-72b9-43a1-a279-03fa6874f4c5",
   "metadata": {},
   "source": [
    "如果想让a,b有所区别，贴在不同的盒子,用copy函数"
   ]
  },
  {
   "cell_type": "code",
   "execution_count": 110,
   "id": "9a52abf5-81ba-48c7-bdbe-3111c5204044",
   "metadata": {
    "tags": []
   },
   "outputs": [],
   "source": [
    "a = [1, 2, 3]\n",
    "b = a.copy()\n",
    "b.append(4)"
   ]
  },
  {
   "cell_type": "code",
   "execution_count": 111,
   "id": "595603ed-949b-471f-80f2-dbc8f7e0ad81",
   "metadata": {
    "tags": []
   },
   "outputs": [
    {
     "data": {
      "text/plain": [
       "[1, 2, 3]"
      ]
     },
     "execution_count": 111,
     "metadata": {},
     "output_type": "execute_result"
    }
   ],
   "source": [
    "a"
   ]
  },
  {
   "cell_type": "code",
   "execution_count": 112,
   "id": "8a4dcb40-8389-4c4f-a974-97955925cdb5",
   "metadata": {
    "tags": []
   },
   "outputs": [
    {
     "data": {
      "text/plain": [
       "[1, 2, 3, 4]"
      ]
     },
     "execution_count": 112,
     "metadata": {},
     "output_type": "execute_result"
    }
   ],
   "source": [
    "b"
   ]
  },
  {
   "cell_type": "markdown",
   "id": "f7841304-d610-4d9e-9378-311b945515d5",
   "metadata": {},
   "source": [
    "然而问题还没结束..."
   ]
  },
  {
   "cell_type": "code",
   "execution_count": 114,
   "id": "8ab31159-d17a-4694-a276-58d709ee9120",
   "metadata": {
    "tags": []
   },
   "outputs": [
    {
     "name": "stdout",
     "output_type": "stream",
     "text": [
      "[1, 2, [0, 4]]\n",
      "[1, 2, [0, 4]]\n"
     ]
    }
   ],
   "source": [
    "a = [1, 2, [3, 4]]\n",
    "b = a.copy()\n",
    "b[2][0] = 0\n",
    "print(a)\n",
    "print(b)"
   ]
  },
  {
   "cell_type": "markdown",
   "id": "6a1fafe8-dbda-4580-9e73-44f4082266fd",
   "metadata": {
    "tags": []
   },
   "source": [
    "[3,4]其实在另一个盒子里面，标签写的是item[2];b复制a的时候，只是复制一层，\n",
    "把a[0]（即1）,a[1]（即2）,a[2]（即item[2]复制过来了）；\n",
    "所以b[2]也是item[2]，两个标签都贴在同一个盒子上"
   ]
  },
  {
   "cell_type": "markdown",
   "id": "a1a24fac-16b7-4964-b5e4-73c9cc1109e6",
   "metadata": {},
   "source": [
    "所以要深度复制deepcopy"
   ]
  },
  {
   "cell_type": "code",
   "execution_count": 168,
   "id": "2afadb9f-a222-4ad5-b10e-00334ba78382",
   "metadata": {
    "tags": []
   },
   "outputs": [],
   "source": [
    "from copy import deepcopy  #写法有两种，另一种import copy 然后b = copy.deepcopy(a)"
   ]
  },
  {
   "cell_type": "code",
   "execution_count": 169,
   "id": "c662d4b0-bf59-499f-9816-50f3d3eeb725",
   "metadata": {
    "tags": []
   },
   "outputs": [
    {
     "name": "stdout",
     "output_type": "stream",
     "text": [
      "[1, 2, [3, 4]]\n",
      "[1, 2, [0, 4]]\n"
     ]
    }
   ],
   "source": [
    "a = [1, 2, [3, 4]]\n",
    "b = deepcopy(a)    #???\n",
    "b[2][0] = 0\n",
    "print(a)\n",
    "print(b)"
   ]
  },
  {
   "cell_type": "code",
   "execution_count": 118,
   "id": "15397215-7ecd-4109-8c99-cd7f8da5e97b",
   "metadata": {
    "tags": []
   },
   "outputs": [
    {
     "data": {
      "text/plain": [
       "3"
      ]
     },
     "execution_count": 118,
     "metadata": {},
     "output_type": "execute_result"
    }
   ],
   "source": [
    "a = [1, 2, 3]\n",
    "len(a)"
   ]
  },
  {
   "cell_type": "markdown",
   "id": "63a3f025-3a67-4e4e-a313-9b3e227ed12b",
   "metadata": {},
   "source": [
    "extend和append不同"
   ]
  },
  {
   "cell_type": "code",
   "execution_count": 119,
   "id": "f45764e7-566d-4b2e-9350-3442a75aa911",
   "metadata": {
    "tags": []
   },
   "outputs": [],
   "source": [
    "a.extend([4, 5, 6])"
   ]
  },
  {
   "cell_type": "code",
   "execution_count": 120,
   "id": "00d0e1ee-2591-4386-88d4-48b36a97cb18",
   "metadata": {
    "tags": []
   },
   "outputs": [
    {
     "data": {
      "text/plain": [
       "[1, 2, 3, 4, 5, 6]"
      ]
     },
     "execution_count": 120,
     "metadata": {},
     "output_type": "execute_result"
    }
   ],
   "source": [
    "a"
   ]
  },
  {
   "cell_type": "code",
   "execution_count": 121,
   "id": "d648c099-4d10-439e-a398-a50c6408e9b9",
   "metadata": {
    "tags": []
   },
   "outputs": [],
   "source": [
    "a.append([4, 5, 6])"
   ]
  },
  {
   "cell_type": "code",
   "execution_count": 122,
   "id": "5663b7e0-694f-4196-b684-708640076424",
   "metadata": {
    "tags": []
   },
   "outputs": [
    {
     "data": {
      "text/plain": [
       "[1, 2, 3, 4, 5, 6, [4, 5, 6]]"
      ]
     },
     "execution_count": 122,
     "metadata": {},
     "output_type": "execute_result"
    }
   ],
   "source": [
    "a"
   ]
  },
  {
   "cell_type": "code",
   "execution_count": 124,
   "id": "0f31fa07-b8de-4ce6-a71e-ef5889d25fb1",
   "metadata": {
    "tags": []
   },
   "outputs": [
    {
     "data": {
      "text/plain": [
       "1"
      ]
     },
     "execution_count": 124,
     "metadata": {},
     "output_type": "execute_result"
    }
   ],
   "source": [
    "a.count(4)#数4"
   ]
  },
  {
   "cell_type": "code",
   "execution_count": 125,
   "id": "bd221084-cbc6-48d3-859b-e11fa5b67b71",
   "metadata": {
    "tags": []
   },
   "outputs": [
    {
     "ename": "ValueError",
     "evalue": "8 is not in list",
     "output_type": "error",
     "traceback": [
      "\u001b[1;31m---------------------------------------------------------------------------\u001b[0m",
      "\u001b[1;31mValueError\u001b[0m                                Traceback (most recent call last)",
      "Cell \u001b[1;32mIn[125], line 1\u001b[0m\n\u001b[1;32m----> 1\u001b[0m a\u001b[38;5;241m.\u001b[39mindex(\u001b[38;5;241m8\u001b[39m)\n",
      "\u001b[1;31mValueError\u001b[0m: 8 is not in list"
     ]
    }
   ],
   "source": [
    "a.index(8)"
   ]
  },
  {
   "cell_type": "code",
   "execution_count": 126,
   "id": "bbb4e39e-306b-4bbb-82b2-6a1daa412384",
   "metadata": {
    "tags": []
   },
   "outputs": [],
   "source": [
    "a = list(range(0, 10))"
   ]
  },
  {
   "cell_type": "code",
   "execution_count": 127,
   "id": "39921785-b7fe-44b7-a136-8e71cfd8704c",
   "metadata": {
    "tags": []
   },
   "outputs": [
    {
     "data": {
      "text/plain": [
       "[0, 1, 2, 3, 4, 5, 6, 7, 8, 9]"
      ]
     },
     "execution_count": 127,
     "metadata": {},
     "output_type": "execute_result"
    }
   ],
   "source": [
    "a"
   ]
  },
  {
   "cell_type": "code",
   "execution_count": 128,
   "id": "cbdf375b-322e-4c47-b951-109f9baeb244",
   "metadata": {
    "tags": []
   },
   "outputs": [],
   "source": [
    "a.reverse()#转置"
   ]
  },
  {
   "cell_type": "code",
   "execution_count": 129,
   "id": "15558488-e240-4f29-b92d-e1d7894e7b7f",
   "metadata": {
    "tags": []
   },
   "outputs": [
    {
     "data": {
      "text/plain": [
       "[9, 8, 7, 6, 5, 4, 3, 2, 1, 0]"
      ]
     },
     "execution_count": 129,
     "metadata": {},
     "output_type": "execute_result"
    }
   ],
   "source": [
    "a"
   ]
  },
  {
   "cell_type": "markdown",
   "id": "4ecd6330-df50-4f79-bc0c-a90783c6b89f",
   "metadata": {},
   "source": [
    "list可变转置成功，string不可变，之前upper'Hello'没成功"
   ]
  },
  {
   "cell_type": "markdown",
   "id": "1829ca5a-b1d5-4cd6-871e-d1017a982702",
   "metadata": {},
   "source": [
    "sort和sorted:a.sort改变a;sorted不改变a，只返回排序后的值；而会改变的sort函数一定不返回值"
   ]
  },
  {
   "cell_type": "code",
   "execution_count": 131,
   "id": "c8367385-b32e-49cc-be18-53df9c836e30",
   "metadata": {
    "tags": []
   },
   "outputs": [
    {
     "data": {
      "text/plain": [
       "[53, 29, 27, 80, 99, 62, 40, 51, 70, 56]"
      ]
     },
     "execution_count": 131,
     "metadata": {},
     "output_type": "execute_result"
    }
   ],
   "source": [
    "import random\n",
    "a = list()\n",
    "for x in range(0,10):\n",
    "    a.append(random.randint(0,100))#random.randint随机取值？\n",
    "a"
   ]
  },
  {
   "cell_type": "code",
   "execution_count": 134,
   "id": "e3d3d96a-a466-4f14-b2f6-f15ba0e92c24",
   "metadata": {
    "tags": []
   },
   "outputs": [],
   "source": [
    "a.sort()#排序"
   ]
  },
  {
   "cell_type": "code",
   "execution_count": 133,
   "id": "ee7a121b-129f-450c-b948-7180b50715f9",
   "metadata": {
    "tags": []
   },
   "outputs": [
    {
     "data": {
      "text/plain": [
       "[27, 29, 40, 51, 53, 56, 62, 70, 80, 99]"
      ]
     },
     "execution_count": 133,
     "metadata": {},
     "output_type": "execute_result"
    }
   ],
   "source": [
    "a"
   ]
  },
  {
   "cell_type": "code",
   "execution_count": 137,
   "id": "41845310-a9a9-47b3-9ce8-78bc323bcf81",
   "metadata": {
    "tags": []
   },
   "outputs": [
    {
     "data": {
      "text/plain": [
       "[76, 27, 84, 53, 87, 22, 84, 48, 74, 81]"
      ]
     },
     "execution_count": 137,
     "metadata": {},
     "output_type": "execute_result"
    }
   ],
   "source": [
    "import random\n",
    "a = list()\n",
    "for x in range(0,10):\n",
    "    a.append(random.randint(0,100))#random.randint随机取值？\n",
    "a"
   ]
  },
  {
   "cell_type": "code",
   "execution_count": 138,
   "id": "e21e8b0d-7779-49ac-a5f4-0ea3d3dd0c36",
   "metadata": {
    "tags": []
   },
   "outputs": [
    {
     "data": {
      "text/plain": [
       "[22, 27, 48, 53, 74, 76, 81, 84, 84, 87]"
      ]
     },
     "execution_count": 138,
     "metadata": {},
     "output_type": "execute_result"
    }
   ],
   "source": [
    "sorted(a)"
   ]
  },
  {
   "cell_type": "code",
   "execution_count": 139,
   "id": "2bdf6ec2-e109-4d89-852f-061c83e8a135",
   "metadata": {
    "tags": []
   },
   "outputs": [
    {
     "data": {
      "text/plain": [
       "[76, 27, 84, 53, 87, 22, 84, 48, 74, 81]"
      ]
     },
     "execution_count": 139,
     "metadata": {},
     "output_type": "execute_result"
    }
   ],
   "source": [
    "a"
   ]
  },
  {
   "cell_type": "markdown",
   "id": "f93f0dd5-0121-40ee-9fb8-0199a6935caf",
   "metadata": {},
   "source": [
    "会改变的sort函数一定不返回值"
   ]
  },
  {
   "cell_type": "code",
   "execution_count": 142,
   "id": "eb1ec165-644b-4a73-be5d-3048bb39652a",
   "metadata": {
    "tags": []
   },
   "outputs": [],
   "source": [
    "b = a.sort()"
   ]
  },
  {
   "cell_type": "code",
   "execution_count": 143,
   "id": "f05fb3ac-06a2-41a0-bc5d-429378774658",
   "metadata": {
    "tags": []
   },
   "outputs": [
    {
     "data": {
      "text/plain": [
       "NoneType"
      ]
     },
     "execution_count": 143,
     "metadata": {},
     "output_type": "execute_result"
    }
   ],
   "source": [
    "type(b)"
   ]
  },
  {
   "cell_type": "markdown",
   "id": "ddb38079-9eea-46e2-8153-739a957e4db2",
   "metadata": {},
   "source": [
    "前面这个例子有缺陷，\n",
    "import random\n",
    "a = list()\n",
    "for x in range(0,10):\n",
    "    a.append(random.randint(0,100))\n",
    "可能后面list空间会不够，更好的做法：先定好空间大小"
   ]
  },
  {
   "cell_type": "code",
   "execution_count": 144,
   "id": "3feffbca-48b6-472a-aebb-56c140a8becf",
   "metadata": {
    "tags": []
   },
   "outputs": [],
   "source": [
    "a = [None]*100\n",
    "for i in range(0, 100):\n",
    "    a[i] = random.randint(0,100)"
   ]
  },
  {
   "cell_type": "code",
   "execution_count": 145,
   "id": "68e4178e-6443-4050-ae94-9534c4ee33be",
   "metadata": {
    "tags": []
   },
   "outputs": [
    {
     "data": {
      "text/plain": [
       "[13,\n",
       " 0,\n",
       " 75,\n",
       " 80,\n",
       " 62,\n",
       " 85,\n",
       " 26,\n",
       " 50,\n",
       " 16,\n",
       " 93,\n",
       " 90,\n",
       " 41,\n",
       " 32,\n",
       " 43,\n",
       " 4,\n",
       " 6,\n",
       " 93,\n",
       " 80,\n",
       " 76,\n",
       " 18,\n",
       " 20,\n",
       " 3,\n",
       " 83,\n",
       " 43,\n",
       " 27,\n",
       " 78,\n",
       " 35,\n",
       " 0,\n",
       " 1,\n",
       " 97,\n",
       " 51,\n",
       " 67,\n",
       " 29,\n",
       " 17,\n",
       " 90,\n",
       " 25,\n",
       " 47,\n",
       " 86,\n",
       " 0,\n",
       " 3,\n",
       " 1,\n",
       " 97,\n",
       " 3,\n",
       " 54,\n",
       " 68,\n",
       " 11,\n",
       " 5,\n",
       " 98,\n",
       " 30,\n",
       " 18,\n",
       " 38,\n",
       " 100,\n",
       " 4,\n",
       " 32,\n",
       " 50,\n",
       " 91,\n",
       " 32,\n",
       " 5,\n",
       " 2,\n",
       " 79,\n",
       " 79,\n",
       " 16,\n",
       " 65,\n",
       " 64,\n",
       " 40,\n",
       " 43,\n",
       " 16,\n",
       " 7,\n",
       " 22,\n",
       " 80,\n",
       " 70,\n",
       " 88,\n",
       " 31,\n",
       " 16,\n",
       " 94,\n",
       " 49,\n",
       " 33,\n",
       " 34,\n",
       " 41,\n",
       " 30,\n",
       " 39,\n",
       " 47,\n",
       " 94,\n",
       " 38,\n",
       " 37,\n",
       " 21,\n",
       " 50,\n",
       " 48,\n",
       " 82,\n",
       " 13,\n",
       " 80,\n",
       " 46,\n",
       " 67,\n",
       " 16,\n",
       " 48,\n",
       " 28,\n",
       " 89,\n",
       " 68,\n",
       " 25,\n",
       " 90]"
      ]
     },
     "execution_count": 145,
     "metadata": {},
     "output_type": "execute_result"
    }
   ],
   "source": [
    "a"
   ]
  },
  {
   "cell_type": "markdown",
   "id": "c5371b6e-fc4d-4358-b8ee-bc0117e4b775",
   "metadata": {},
   "source": [
    "你可能会怀疑这种做法有什么好处吗？可以用%%timeit检验运行时间"
   ]
  },
  {
   "cell_type": "code",
   "execution_count": 149,
   "id": "cde174a9-e5fe-4181-a154-1e35f00fba52",
   "metadata": {
    "tags": []
   },
   "outputs": [
    {
     "name": "stdout",
     "output_type": "stream",
     "text": [
      "842 µs ± 81.1 µs per loop (mean ± std. dev. of 7 runs, 1,000 loops each)\n"
     ]
    }
   ],
   "source": [
    "%%timeit\n",
    "\n",
    "a = list()\n",
    "for x in range(0,1000):\n",
    "    a.append(random.randint(0,100))"
   ]
  },
  {
   "cell_type": "code",
   "execution_count": 151,
   "id": "d3a7d960-0990-4f7f-b153-34749e7e2de1",
   "metadata": {
    "tags": []
   },
   "outputs": [
    {
     "name": "stdout",
     "output_type": "stream",
     "text": [
      "852 µs ± 150 µs per loop (mean ± std. dev. of 7 runs, 1,000 loops each)\n"
     ]
    }
   ],
   "source": [
    "%%timeit\n",
    "\n",
    "a = [None]*1000\n",
    "for i in range(0, 1000):\n",
    "    a[i] = random.randint(0,100)"
   ]
  },
  {
   "cell_type": "markdown",
   "id": "2946c86f-2143-4df3-bf91-78b6a5e062e1",
   "metadata": {},
   "source": [
    "介绍表格编程"
   ]
  },
  {
   "cell_type": "markdown",
   "id": "d5059c6a-b336-493b-956a-027e0b0b1d5c",
   "metadata": {},
   "source": [
    "比如问8月15日是第几天"
   ]
  },
  {
   "cell_type": "markdown",
   "id": "af186f65-c101-41bb-a0e3-1e3f9fe39eec",
   "metadata": {
    "tags": []
   },
   "source": [
    "month = int(input('Please input month:'))\n",
    "day = int(input('Please input day:'))\n",
    "\n",
    "count = day\n",
    "\n",
    "if month > a:\n",
    "    count+=31   #麻烦"
   ]
  },
  {
   "cell_type": "code",
   "execution_count": 153,
   "id": "6b6f4732-2ad2-4f2b-9c8c-1d25b0722d76",
   "metadata": {
    "tags": []
   },
   "outputs": [
    {
     "data": {
      "text/plain": [
       "6"
      ]
     },
     "execution_count": 153,
     "metadata": {},
     "output_type": "execute_result"
    }
   ],
   "source": [
    "a=[1, 2, 3]\n",
    "sum(a)"
   ]
  },
  {
   "cell_type": "code",
   "execution_count": 165,
   "id": "b65e16ba-16d8-48eb-a48c-32efbf92570e",
   "metadata": {
    "tags": []
   },
   "outputs": [
    {
     "data": {
      "text/plain": [
       "6"
      ]
     },
     "execution_count": 165,
     "metadata": {},
     "output_type": "execute_result"
    }
   ],
   "source": [
    "sum(a[0:])"
   ]
  },
  {
   "cell_type": "code",
   "execution_count": 4,
   "id": "fd68008a-ae54-4edc-9b9c-f1880353770b",
   "metadata": {
    "tags": []
   },
   "outputs": [
    {
     "name": "stdin",
     "output_type": "stream",
     "text": [
      "Please input month:  12\n",
      "Please input day:  31\n"
     ]
    },
    {
     "name": "stdout",
     "output_type": "stream",
     "text": [
      "This is the 365th day of the year.\n"
     ]
    }
   ],
   "source": [
    "month = int(input('Please input month: '))\n",
    "day = int(input('Please input day: '))\n",
    "\n",
    "days_in_month = [31, 28, 31, 30 ,31, 30, 31, 31, 30, 31, 30, 31]\n",
    "print(f'This is the {sum(days_in_month[0:month-1]) + day}th day of the year.') "
   ]
  },
  {
   "cell_type": "code",
   "execution_count": 10,
   "id": "3fd8c60f-3ea1-4173-92a0-1a895f4f8cb9",
   "metadata": {},
   "outputs": [
    {
     "name": "stdin",
     "output_type": "stream",
     "text": [
      "Please input your score: 99\n"
     ]
    },
    {
     "name": "stdout",
     "output_type": "stream",
     "text": [
      "your garde is A.\n"
     ]
    }
   ],
   "source": [
    "grades = 'E' * 40 + 'D' * 20 + 'C' * 15 + 'B' * 15 + 'A' * 11\n",
    "# print(grade)\n",
    "score = int(input('Please input your score:'))\n",
    "if score > 100 or score < 0:\n",
    "    print('error.')\n",
    "else:\n",
    "    print(f\"your garde is {grades[score]}.\")"
   ]
  },
  {
   "cell_type": "code",
   "execution_count": null,
   "id": "cfe79f06-c092-4885-ba15-ef07849c8906",
   "metadata": {},
   "outputs": [],
   "source": []
  }
 ],
 "metadata": {
  "kernelspec": {
   "display_name": "Python 3 (ipykernel)",
   "language": "python",
   "name": "python3"
  },
  "language_info": {
   "codemirror_mode": {
    "name": "ipython",
    "version": 3
   },
   "file_extension": ".py",
   "mimetype": "text/x-python",
   "name": "python",
   "nbconvert_exporter": "python",
   "pygments_lexer": "ipython3",
   "version": "3.11.4"
  }
 },
 "nbformat": 4,
 "nbformat_minor": 5
}
