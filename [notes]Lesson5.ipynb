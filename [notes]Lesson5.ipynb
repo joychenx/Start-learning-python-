{
 "cells": [
  {
   "cell_type": "code",
   "execution_count": 1,
   "id": "9e350696-0d7b-44bc-a1db-0d5715c8122e",
   "metadata": {
    "tags": []
   },
   "outputs": [
    {
     "name": "stdin",
     "output_type": "stream",
     "text": [
      "your name please:  \n"
     ]
    },
    {
     "name": "stdout",
     "output_type": "stream",
     "text": [
      "you forgot your name?\n"
     ]
    }
   ],
   "source": [
    "name = input('your name please: ')\n",
    "if name:\n",
    "    print ('Hello, ' + name)\n",
    "else:\n",
    "    print ('you forgot your name?')"
   ]
  },
  {
   "cell_type": "markdown",
   "id": "661e2882-a044-4703-8216-88251f531f17",
   "metadata": {},
   "source": [
    "甚至可以这样写："
   ]
  },
  {
   "cell_type": "code",
   "execution_count": 2,
   "id": "2bd2546e-13b2-4372-8086-21431f6a726e",
   "metadata": {
    "tags": []
   },
   "outputs": [
    {
     "name": "stdin",
     "output_type": "stream",
     "text": [
      "your name please:  \n"
     ]
    },
    {
     "name": "stdout",
     "output_type": "stream",
     "text": [
      "you forgot your name?\n"
     ]
    }
   ],
   "source": [
    "name = input('your name please: ')\n",
    "print('Hello. ' + name if name else 'you forgot your name?')"
   ]
  },
  {
   "cell_type": "code",
   "execution_count": 16,
   "id": "4073a514-7975-4b7f-aa6b-c177a9a34625",
   "metadata": {
    "tags": []
   },
   "outputs": [
    {
     "data": {
      "text/plain": [
       "5"
      ]
     },
     "execution_count": 16,
     "metadata": {},
     "output_type": "execute_result"
    }
   ],
   "source": [
    "#绝对值函数\n",
    "def abs(a):\n",
    "    return a if a >= 0 else -a\n",
    "abs(-5)"
   ]
  },
  {
   "cell_type": "code",
   "execution_count": 28,
   "id": "374975b1-deb0-4e6c-a049-48f2eca4542d",
   "metadata": {
    "tags": []
   },
   "outputs": [
    {
     "name": "stdout",
     "output_type": "stream",
     "text": [
      "3 3 0\n"
     ]
    }
   ],
   "source": [
    "print(abs(-3), abs(3), abs(0))"
   ]
  },
  {
   "cell_type": "markdown",
   "id": "9b277c0e-a07e-483c-8e62-26d2d5844fce",
   "metadata": {},
   "source": [
    "elif和条件的嵌套"
   ]
  },
  {
   "cell_type": "code",
   "execution_count": 30,
   "id": "17522f0c-0726-497b-9063-73a967de0515",
   "metadata": {
    "tags": []
   },
   "outputs": [
    {
     "name": "stdin",
     "output_type": "stream",
     "text": [
      "Your name please:  j\n"
     ]
    },
    {
     "name": "stdout",
     "output_type": "stream",
     "text": [
      "Hello,j\n"
     ]
    }
   ],
   "source": [
    "name = input('Your name please: ')\n",
    "if name:\n",
    "    if name == \"May\":\n",
    "        print('Hello, my creator. ')\n",
    "    else:\n",
    "        print('Hello,' + name)\n",
    "else:\n",
    "    print('Forgot your name?')"
   ]
  },
  {
   "cell_type": "code",
   "execution_count": 18,
   "id": "1d9c0a05-c9a3-4f11-ad14-503fd7b6d91a",
   "metadata": {
    "tags": []
   },
   "outputs": [
    {
     "name": "stdout",
     "output_type": "stream",
     "text": [
      "abs() test ok.\n"
     ]
    }
   ],
   "source": [
    "#用于保证函数的前件precondition\n",
    "#用于测试abs()\n",
    "\n",
    "def test_abs():\n",
    "    assert(abs(-3) == 3)\n",
    "    assert(abs(3) == 3)\n",
    "    assert(abs(0) == 0)\n",
    "    print('abs() test ok.')\n",
    "\n",
    "test_abs()"
   ]
  },
  {
   "cell_type": "code",
   "execution_count": 4,
   "id": "2e2e4e3b-55bb-428e-a68b-da18543bd3e4",
   "metadata": {
    "tags": []
   },
   "outputs": [
    {
     "data": {
      "text/plain": [
       "True"
      ]
     },
     "execution_count": 4,
     "metadata": {},
     "output_type": "execute_result"
    }
   ],
   "source": [
    "a = 4\n",
    "3 < a < 5   ###讲义是False???????"
   ]
  },
  {
   "cell_type": "code",
   "execution_count": 5,
   "id": "bd8435fa-d7df-41b4-8f51-8c1e2a7e8007",
   "metadata": {
    "tags": []
   },
   "outputs": [
    {
     "name": "stdin",
     "output_type": "stream",
     "text": [
      "Please input the year:  2100\n"
     ]
    },
    {
     "name": "stdout",
     "output_type": "stream",
     "text": [
      "not a leap year\n"
     ]
    }
   ],
   "source": [
    "#闰年的判断\n",
    "year = int(input('Please input the year: '))\n",
    "if year % 400 == 0:\n",
    "    print('leap year')\n",
    "elif year % 100 == 0:\n",
    "    print('not a leap year')#1/2/3的顺序很重要；\n",
    "elif year % 4 == 0:\n",
    "    print('leap year')\n",
    "else:\n",
    "    print('not a leap year')#别漏最后一个判断"
   ]
  },
  {
   "cell_type": "code",
   "execution_count": 6,
   "id": "182249a9-7ab1-4f9f-a827-0831369547e0",
   "metadata": {
    "tags": []
   },
   "outputs": [
    {
     "name": "stdin",
     "output_type": "stream",
     "text": [
      "please input the year:  2110\n"
     ]
    },
    {
     "name": "stdout",
     "output_type": "stream",
     "text": [
      "not a leap year\n"
     ]
    }
   ],
   "source": [
    "#整合成函数\n",
    "def is_leap_year(year):\n",
    "    assert(year >= 0) #添加确保year为正数的语句\n",
    "    if year % 400 == 0:\n",
    "        return True\n",
    "    elif year % 100 == 0:\n",
    "        return False\n",
    "    elif year % 4 == 0:\n",
    "        return True\n",
    "    else:\n",
    "        return False\n",
    "        \n",
    "year = int(input('please input the year: '))\n",
    "print('leap year' if is_leap_year(year) else 'not a leap year')"
   ]
  },
  {
   "cell_type": "code",
   "execution_count": 11,
   "id": "97f259da-0142-4e35-9bd7-97215cad79b0",
   "metadata": {
    "tags": []
   },
   "outputs": [],
   "source": [
    "#测试判断闰年函数的正确性的函数\n",
    "def test_is_leap_year():\n",
    "    assert(is_leap_year(2000))\n",
    "    assert(is_leap_year(1900) == False)\n",
    "    assert(is_leap_year(1984))\n",
    "    assert(is_leap_year(3) == False)\n",
    "    #assert(is_leap_year(1980) == False)故意写错会报错\n",
    "    \n",
    "    \n",
    "test_is_leap_year()        "
   ]
  },
  {
   "cell_type": "code",
   "execution_count": 19,
   "id": "026722af-f802-4e16-bb68-93176dc257af",
   "metadata": {
    "tags": []
   },
   "outputs": [
    {
     "name": "stdin",
     "output_type": "stream",
     "text": [
      "please input the year:  -20\n"
     ]
    },
    {
     "name": "stdout",
     "output_type": "stream",
     "text": [
      "invalid year\n"
     ]
    },
    {
     "ename": "AssertionError",
     "evalue": "",
     "output_type": "error",
     "traceback": [
      "\u001b[1;31m---------------------------------------------------------------------------\u001b[0m",
      "\u001b[1;31mAssertionError\u001b[0m                            Traceback (most recent call last)",
      "Cell \u001b[1;32mIn[19], line 17\u001b[0m\n\u001b[0;32m     15\u001b[0m \u001b[38;5;28;01melse\u001b[39;00m:\n\u001b[0;32m     16\u001b[0m     \u001b[38;5;28mprint\u001b[39m(\u001b[38;5;124m'\u001b[39m\u001b[38;5;124mleap year\u001b[39m\u001b[38;5;124m'\u001b[39m \u001b[38;5;28;01mif\u001b[39;00m is_leap_year(year) \u001b[38;5;28;01melse\u001b[39;00m \u001b[38;5;124m\"\u001b[39m\u001b[38;5;124mnot a leap year\u001b[39m\u001b[38;5;124m\"\u001b[39m)\n\u001b[1;32m---> 17\u001b[0m \u001b[38;5;28mprint\u001b[39m(\u001b[38;5;124m'\u001b[39m\u001b[38;5;124mleap year\u001b[39m\u001b[38;5;124m'\u001b[39m \u001b[38;5;28;01mif\u001b[39;00m is_leap_year(year) \u001b[38;5;28;01melse\u001b[39;00m \u001b[38;5;124m'\u001b[39m\u001b[38;5;124mnot a leap year\u001b[39m\u001b[38;5;124m'\u001b[39m)\n",
      "Cell \u001b[1;32mIn[19], line 2\u001b[0m, in \u001b[0;36mis_leap_year\u001b[1;34m(year)\u001b[0m\n\u001b[0;32m      1\u001b[0m \u001b[38;5;28;01mdef\u001b[39;00m \u001b[38;5;21mis_leap_year\u001b[39m(year):\n\u001b[1;32m----> 2\u001b[0m     \u001b[38;5;28;01massert\u001b[39;00m(year \u001b[38;5;241m>\u001b[39m\u001b[38;5;241m=\u001b[39m \u001b[38;5;241m0\u001b[39m) \n\u001b[0;32m      3\u001b[0m     \u001b[38;5;28;01mif\u001b[39;00m year \u001b[38;5;241m%\u001b[39m \u001b[38;5;241m400\u001b[39m \u001b[38;5;241m==\u001b[39m \u001b[38;5;241m0\u001b[39m:\n\u001b[0;32m      4\u001b[0m         \u001b[38;5;28;01mreturn\u001b[39;00m \u001b[38;5;28;01mTrue\u001b[39;00m\n",
      "\u001b[1;31mAssertionError\u001b[0m: "
     ]
    }
   ],
   "source": [
    "def is_leap_year(year):\n",
    "    assert(year >= 0) \n",
    "    if year % 400 == 0:\n",
    "        return True\n",
    "    elif year % 100 == 0:\n",
    "        return False\n",
    "    elif year % 4 == 0:\n",
    "        return True\n",
    "    else:\n",
    "        return False\n",
    "        \n",
    "year = int(input('please input the year: '))\n",
    "if year < 0:\n",
    "    print('invalid year')#输入的年份不合理时输出一个语句\n",
    "else:\n",
    "    print('leap year' if is_leap_year(year) else \"not a leap year\")\n",
    "print('leap year' if is_leap_year(year) else 'not a leap year')"
   ]
  },
  {
   "cell_type": "code",
   "execution_count": null,
   "id": "ad3f98df-4e5b-4690-bc49-0c34cde03290",
   "metadata": {},
   "outputs": [],
   "source": [
    "#但是还是会报错？优势是什么\n",
    "#有了assert()之后，就必须做下面的year有效性的检查，否则程序有崩溃的风险??\n",
    "#使用assert()函数后必须再用if语句进行有效性检测的原因是：assert()函数主要用于调试和开发阶段，而if语句用于确保程序在生产环境中正常运行。"
   ]
  },
  {
   "cell_type": "code",
   "execution_count": 27,
   "id": "1900e7ca-9ecd-4a74-9475-f699c3df4671",
   "metadata": {
    "tags": []
   },
   "outputs": [
    {
     "name": "stdout",
     "output_type": "stream",
     "text": [
      "leap_year() test Ok.\n"
     ]
    }
   ],
   "source": [
    "#再精简该函数\n",
    "def leap_year(year):\n",
    "    assert(year >= 0)\n",
    "    return (year % 400 == 0) or (year % 4 == 0 and year % 100 != 0)#巧妙\n",
    "\n",
    "def test_leap_year():\n",
    "    assert(leap_year(2000))\n",
    "    assert(leap_year(1980))\n",
    "    assert(leap_year(1000) == False)\n",
    "    assert(not leap_year(1987))\n",
    "    print('leap_year() test Ok.')\n",
    "\n",
    "test_leap_year()"
   ]
  },
  {
   "cell_type": "markdown",
   "id": "bcd801f6-5aed-41ae-b43d-4ad56fdc862b",
   "metadata": {},
   "source": [
    "循环语句"
   ]
  },
  {
   "cell_type": "code",
   "execution_count": 31,
   "id": "5d07b508-7dde-4543-8f98-15386abfcf5d",
   "metadata": {
    "tags": []
   },
   "outputs": [
    {
     "name": "stdout",
     "output_type": "stream",
     "text": [
      "1 3 5 7 9 11 13 15 17 19 21 23 25 27 29 31 33 35 37 39 41 43 45 47 49 51 53 55 57 59 61 63 65 67 69 71 73 75 77 79 81 83 85 87 89 91 93 95 97 99 "
     ]
    }
   ],
   "source": [
    "x = 1\n",
    "while x <= 100:\n",
    "    print(x, end = ' ')\n",
    "    x += 2"
   ]
  },
  {
   "cell_type": "code",
   "execution_count": 33,
   "id": "88262f83-0515-4378-831f-e64b1239d4e2",
   "metadata": {
    "tags": []
   },
   "outputs": [
    {
     "name": "stdout",
     "output_type": "stream",
     "text": [
      "1 2 4 5 7 8 10 11 14 16 17 19 20 22 25 26 28 29 40 41 44 46 47 49 50 52 55 56 58 59 61 62 64 65 67 68 70 71 74 76 77 79 80 82 85 86 88 89 91 92 94 95 97 98 100 "
     ]
    }
   ],
   "source": [
    "x = 1\n",
    "while x <= 100:\n",
    "    if x % 3 == 0 or '3' in repr(x):\n",
    "        pass\n",
    "    else:\n",
    "        print(x, end = ' ')\n",
    "    x += 1"
   ]
  },
  {
   "cell_type": "markdown",
   "id": "8fd6f214-ddbc-4232-899f-9db9be00ef2b",
   "metadata": {},
   "source": [
    "repr()函数用于获取对象的字符串表示形式\n",
    "pass占位"
   ]
  },
  {
   "cell_type": "code",
   "execution_count": 34,
   "id": "d06b716f-24a4-4343-bcbe-f5ee1eba33ea",
   "metadata": {
    "tags": []
   },
   "outputs": [
    {
     "name": "stdout",
     "output_type": "stream",
     "text": [
      "**********\n",
      "**********\n",
      "**********\n",
      "**********\n",
      "**********\n"
     ]
    }
   ],
   "source": [
    "for _ in range(0, 5):\n",
    "    print(\"*\" * 10)"
   ]
  },
  {
   "cell_type": "code",
   "execution_count": 10,
   "id": "2de96db7-0ded-4327-b075-1d87d314e4b0",
   "metadata": {
    "tags": []
   },
   "outputs": [
    {
     "name": "stdout",
     "output_type": "stream",
     "text": [
      "\b                                                           *"
     ]
    }
   ],
   "source": [
    "import math\n",
    "\n",
    "def wait():\n",
    "    y = 0\n",
    "    while y < 500000:\n",
    "        z = math.sin(2.0) * math .exp(0.1)\n",
    "        y += 1\n",
    "\n",
    "bar_length = 60\n",
    "x = 1\n",
    "while x < bar_length:\n",
    "    print('\\b *', sep='', end = '', flush = True)#???\n",
    "    x += 1\n",
    "    wait()"
   ]
  },
  {
   "cell_type": "markdown",
   "id": "9eb01ecb-4b2e-4e43-9eda-b8af3d4ec91b",
   "metadata": {},
   "source": [
    "'\\b' 是一个特殊的字符，表示退格符。当它被插入到字符串中时，它会将光标移动到上一个位置。\n",
    "* 是要打印的星号字符。\n",
    "sep='' 表示分隔符为空字符串，即不使用任何分隔符来分隔多个参数。\n",
    "end=\"\" 表示结束符为空字符串，即不使用任何字符来结束输出。\n",
    "flush=True 表示立即刷新输出缓冲区，确保输出立即显示在控制台上。"
   ]
  },
  {
   "cell_type": "markdown",
   "id": "052eec81-d703-44c8-b275-4cc1467b5a0f",
   "metadata": {},
   "source": [
    "蚂蚁爬木棍的演示"
   ]
  },
  {
   "cell_type": "code",
   "execution_count": 43,
   "id": "1ff99826-ad86-48f2-9717-a98cb7bf4824",
   "metadata": {
    "tags": []
   },
   "outputs": [
    {
     "name": "stdout",
     "output_type": "stream",
     "text": [
      "#                                                          *\r"
     ]
    }
   ],
   "source": [
    "import math\n",
    "\n",
    "def wait():\n",
    "    y = 0\n",
    "    while y < 500000:\n",
    "        z = math.sin(2.0) * math .exp(0.1)\n",
    "        y += 1\n",
    "\n",
    "bar_length = 60\n",
    "x = 0\n",
    "y = bar_length - 1\n",
    "\n",
    "bar = list(' ' * bar_length)\n",
    "\n",
    "for i in range(bar_length):\n",
    "    bar[x] = '*'\n",
    "    bar[y] = '#'\n",
    "    print(''.join(bar), end= '',flush=True)#show the bar\n",
    "    wait()\n",
    "    bar[x] = ' '\n",
    "    bar[y] = ' '\n",
    "    x += 1    \n",
    "    y -= 1 \n",
    "    print('\\r', end='',flush=True)#'\\r'：回车符，将光标移动到当前行的开头。\n",
    "                                  #end=''：不换行，保持在同一行继续输出。"
   ]
  },
  {
   "cell_type": "markdown",
   "id": "9dcbfa13-8118-4de1-8d91-3391cf6754a1",
   "metadata": {},
   "source": [
    "用函数让更清晰\n",
    "init_bar() init_ants()\n",
    "\n",
    "update_bar() show_bar()\n",
    "\n",
    "while not is_bar_empty(): update_bar() show_bar() wait() update_ants_position()"
   ]
  },
  {
   "cell_type": "code",
   "execution_count": 46,
   "id": "e0c47da8-e276-4eb2-88c3-6ec6b235f335",
   "metadata": {
    "tags": []
   },
   "outputs": [
    {
     "name": "stdout",
     "output_type": "stream",
     "text": [
      "                                                            \r"
     ]
    }
   ],
   "source": [
    "from time import sleep\n",
    "\n",
    "def init_bar(bar_length):\n",
    "    bar = list(' ' * bar_length)\n",
    "    return bar\n",
    "\n",
    "def init_ants(bar_length):\n",
    "    ants = list()\n",
    "    ants.append({'position': 0, 'direction': 1})#用字典模仿蚂蚁，位置分别是0和最右，方向1/-1\n",
    "    ants.append({'position': bar_length -1 , 'direction': -1})\n",
    "    return ants\n",
    "\n",
    "def update_bar(bar, ants):\n",
    "    for i in range(len(bar)):#先把bar置空\n",
    "        bar[i]= ' '\n",
    "        \n",
    "    for ant in ants:#自己添上的\n",
    "        if 0 <= ant['position'] < len(bar):\n",
    "            bar[ant['position']] = '*'     #如果蚂蚁还在bar上，就把bar上位置变成*\n",
    "    \n",
    "def is_bar_empty(bar):\n",
    "    for item in bar:\n",
    "        if not item == ' ':\n",
    "            return False\n",
    "        # return True#注意缩进！！\n",
    "    return True\n",
    "\n",
    "def show_bar(bar):\n",
    "    print(''.join(bar), end='\\r', flush=True)#强迫输出到屏幕？？？\n",
    "    \n",
    "def update_ants_position(ants):\n",
    "    for ant in ants:\n",
    "        ant['position'] += ant['direction']\n",
    "        \n",
    "\n",
    "BAR_LENGTH = 60  #习惯用大写表示常数\n",
    "\n",
    "bar = init_bar(BAR_LENGTH)\n",
    "ants = init_ants(BAR_LENGTH)\n",
    "\n",
    "update_bar(bar, ants)\n",
    "show_bar(bar)\n",
    "\n",
    "while not is_bar_empty(bar):\n",
    "    update_bar(bar, ants)\n",
    "    show_bar(bar)\n",
    "    sleep(0.2)#秒数\n",
    "    update_ants_position(ants)"
   ]
  },
  {
   "cell_type": "markdown",
   "id": "668c7bfb-51ee-4319-bb0f-126815805058",
   "metadata": {},
   "source": [
    "# 如果要改蚂蚁符号，改变两个地方\n",
    "#如果要改成三只蚂蚁，改哪里"
   ]
  },
  {
   "cell_type": "code",
   "execution_count": 47,
   "id": "04f3e302-500b-4fc2-907e-4884063037d4",
   "metadata": {
    "tags": []
   },
   "outputs": [
    {
     "name": "stdout",
     "output_type": "stream",
     "text": [
      "                                                            \r"
     ]
    }
   ],
   "source": [
    "from time import sleep\n",
    "\n",
    "def init_bar(bar_length):\n",
    "    bar = list(' ' * bar_length)\n",
    "    return bar\n",
    "\n",
    "def init_ants(bar_length):\n",
    "    ants = list()\n",
    "    ants.append({'position': 0, 'direction': 1, 'symbol': '*'})#用字典模仿蚂蚁，位置分别是0和最右，方向1/-1\n",
    "    ants.append({'position': bar_length -1 , 'direction': -1, 'symbol': '@'})\n",
    "    return ants\n",
    "\n",
    "def update_bar(bar, ants):\n",
    "    for i in range(len(bar)):#先把bar置空\n",
    "        bar[i]= ' '\n",
    "        \n",
    "    for ant in ants:#自己添上的\n",
    "        if 0 <= ant['position'] < len(bar):\n",
    "            bar[ant['position']] = ant['symbol']     #如果蚂蚁还在bar上，就把bar上位置变成*\n",
    "    \n",
    "def is_bar_empty(bar):\n",
    "    for item in bar:\n",
    "        if not item == ' ':\n",
    "            return False\n",
    "        # return True#注意缩进！！\n",
    "    return True\n",
    "\n",
    "def show_bar(bar):\n",
    "    print(''.join(bar), end='\\r', flush=True)#强迫输出到屏幕？？？\n",
    "    \n",
    "def update_ants_position(ants):\n",
    "    for ant in ants:\n",
    "        ant['position'] += ant['direction']\n",
    "        \n",
    "\n",
    "BAR_LENGTH = 60  #习惯用大写表示常数\n",
    "\n",
    "bar = init_bar(BAR_LENGTH)\n",
    "ants = init_ants(BAR_LENGTH)\n",
    "\n",
    "update_bar(bar, ants)\n",
    "show_bar(bar)\n",
    "\n",
    "while not is_bar_empty(bar):\n",
    "    update_bar(bar, ants)\n",
    "    show_bar(bar)\n",
    "    sleep(0.2)#秒数\n",
    "    update_ants_position(ants)"
   ]
  },
  {
   "cell_type": "code",
   "execution_count": 16,
   "id": "286f4059-bf30-4519-b09c-9e5873dcc2b7",
   "metadata": {
    "tags": []
   },
   "outputs": [
    {
     "name": "stdin",
     "output_type": "stream",
     "text": [
      "Please input a sentence: how are you today\n"
     ]
    },
    {
     "name": "stdout",
     "output_type": "stream",
     "text": [
      "how 3\n",
      "are 3\n",
      "you 3\n",
      "today 5\n"
     ]
    }
   ],
   "source": [
    "str1 = ''\n",
    "while not str1:\n",
    "    str1 = input('Please input a sentence:')\n",
    "    \n",
    "for word in str1.split():\n",
    "    print(word, len(word))"
   ]
  },
  {
   "cell_type": "code",
   "execution_count": 17,
   "id": "778cb6db-2497-430c-9aac-23a07cfdc4cf",
   "metadata": {},
   "outputs": [
    {
     "name": "stdout",
     "output_type": "stream",
     "text": [
      "a 10\n",
      "b 20\n",
      "c 30\n"
     ]
    }
   ],
   "source": [
    "names = ['a', 'b', 'c']\n",
    "age = [10, 20, 30]\n",
    "\n",
    "for i in range(3):\n",
    "    print(names[i], age[i])"
   ]
  },
  {
   "cell_type": "code",
   "execution_count": 18,
   "id": "a91091aa-ec91-4f3f-9347-59faac8a9b65",
   "metadata": {
    "tags": []
   },
   "outputs": [
    {
     "name": "stdout",
     "output_type": "stream",
     "text": [
      "a 10\n",
      "b 20\n",
      "c 30\n"
     ]
    }
   ],
   "source": [
    "names = ['a', 'b', 'c']\n",
    "age = [10, 20, 30]\n",
    "\n",
    "for name, age in zip(names, age):#zip相当于把它俩打包成了二元组，并行遍历（同时遍历两个list）\n",
    "    print(name, age)"
   ]
  },
  {
   "cell_type": "code",
   "execution_count": 19,
   "id": "f0e0443b-d078-4cb8-8ba0-17830e752db5",
   "metadata": {
    "tags": []
   },
   "outputs": [
    {
     "name": "stdout",
     "output_type": "stream",
     "text": [
      "1 a\n",
      "2 b\n",
      "3 c\n"
     ]
    }
   ],
   "source": [
    "names = ['a', 'b', 'c']\n",
    "for i in range(len(names)):#强行引入索引\n",
    "    print(i + 1, names[i])"
   ]
  },
  {
   "cell_type": "code",
   "execution_count": 20,
   "id": "dbba1109-76dc-42f5-81fd-731402c8c175",
   "metadata": {
    "tags": []
   },
   "outputs": [
    {
     "name": "stdout",
     "output_type": "stream",
     "text": [
      "0 a\n",
      "1 b\n",
      "2 c\n"
     ]
    }
   ],
   "source": [
    "# 但其实py不喜欢上面这样，习惯下面这样：\n",
    "for i, name in enumerate(names):#枚举\n",
    "    print(i, name)"
   ]
  },
  {
   "cell_type": "code",
   "execution_count": 21,
   "id": "b9466578-7de9-4f20-926d-ed5c2c6798f1",
   "metadata": {
    "tags": []
   },
   "outputs": [
    {
     "data": {
      "text/plain": [
       "[1,\n",
       " 2,\n",
       " 4,\n",
       " 5,\n",
       " 7,\n",
       " 8,\n",
       " 10,\n",
       " 11,\n",
       " 14,\n",
       " 16,\n",
       " 17,\n",
       " 19,\n",
       " 20,\n",
       " 22,\n",
       " 25,\n",
       " 26,\n",
       " 28,\n",
       " 29,\n",
       " 40,\n",
       " 41,\n",
       " 44,\n",
       " 46,\n",
       " 47,\n",
       " 49,\n",
       " 50,\n",
       " 52,\n",
       " 55,\n",
       " 56,\n",
       " 58,\n",
       " 59,\n",
       " 61,\n",
       " 62,\n",
       " 64,\n",
       " 65,\n",
       " 67,\n",
       " 68,\n",
       " 70,\n",
       " 71,\n",
       " 74,\n",
       " 76,\n",
       " 77,\n",
       " 79,\n",
       " 80,\n",
       " 82,\n",
       " 85,\n",
       " 86,\n",
       " 88,\n",
       " 89,\n",
       " 91,\n",
       " 92,\n",
       " 94,\n",
       " 95,\n",
       " 97,\n",
       " 98]"
      ]
     },
     "execution_count": 21,
     "metadata": {},
     "output_type": "execute_result"
    }
   ],
   "source": [
    "[ x for x in range(100) if x % 3 and not '3' in str(x)]"
   ]
  },
  {
   "cell_type": "code",
   "execution_count": 22,
   "id": "fd2b1380-7de4-4156-93e9-3f0d6effed26",
   "metadata": {
    "tags": []
   },
   "outputs": [
    {
     "data": {
      "text/plain": [
       "[('arnold', 'alice'),\n",
       " ('bob', 'bernice'),\n",
       " ('chiris', 'clarice'),\n",
       " ('bob', 'beatrice')]"
      ]
     },
     "execution_count": 22,
     "metadata": {},
     "output_type": "execute_result"
    }
   ],
   "source": [
    "# 把名字首字母相同的男生和女生配对，输出所有组合\n",
    "girls = ['alice', 'bernice', 'clarice', 'beatrice']\n",
    "boys = ['chiris', 'arnold', 'bob']\n",
    "\n",
    "[(boy, girl) for girl in girls for boy in boys if boy[0] == girl[0]]"
   ]
  },
  {
   "cell_type": "code",
   "execution_count": 23,
   "id": "bcf7d8c6-95a7-46ee-8846-3b4e5a95c8d3",
   "metadata": {
    "tags": []
   },
   "outputs": [],
   "source": [
    "t = (i * 3 for i in range(10))"
   ]
  },
  {
   "cell_type": "markdown",
   "id": "4599a6a2-1fb3-4bea-a055-9ebaa8fd9e26",
   "metadata": {},
   "source": [
    "range可以想象成一个被反复调用的函数，每次给一个数字，它不占内存\n",
    "如果你加个括号在外面，它就会给你变成一个生成器\n",
    "然后你可以用list再把生成器生成的序列全部变成一个list"
   ]
  },
  {
   "cell_type": "code",
   "execution_count": 24,
   "id": "bd0d4d55-9913-405c-8c9b-8f2795b2b713",
   "metadata": {
    "tags": []
   },
   "outputs": [
    {
     "data": {
      "text/plain": [
       "<generator object <genexpr> at 0x0000020FA236B370>"
      ]
     },
     "execution_count": 24,
     "metadata": {},
     "output_type": "execute_result"
    }
   ],
   "source": [
    "t"
   ]
  },
  {
   "cell_type": "code",
   "execution_count": null,
   "id": "f65a5c35-a205-4795-9598-0ec000a0e0ff",
   "metadata": {},
   "outputs": [],
   "source": [
    "# t实际上不是list，它是一个生成器"
   ]
  },
  {
   "cell_type": "code",
   "execution_count": 25,
   "id": "f88748a0-48ef-444a-bed0-8f3f3236550d",
   "metadata": {
    "tags": []
   },
   "outputs": [
    {
     "data": {
      "text/plain": [
       "[0, 1, 2, 3, 4, 5, 6, 7, 8, 9]"
      ]
     },
     "execution_count": 25,
     "metadata": {},
     "output_type": "execute_result"
    }
   ],
   "source": [
    "list(range(10))"
   ]
  },
  {
   "cell_type": "code",
   "execution_count": 26,
   "id": "bd3ed93c-b37f-410f-9670-f09d880f84a4",
   "metadata": {
    "tags": []
   },
   "outputs": [
    {
     "data": {
      "text/plain": [
       "[0, 3, 6, 9, 12, 15, 18, 21, 24, 27]"
      ]
     },
     "execution_count": 26,
     "metadata": {},
     "output_type": "execute_result"
    }
   ],
   "source": [
    "list(t)"
   ]
  },
  {
   "cell_type": "code",
   "execution_count": 27,
   "id": "de840502-2e80-416b-9563-a76f5798da6a",
   "metadata": {
    "tags": []
   },
   "outputs": [
    {
     "name": "stdout",
     "output_type": "stream",
     "text": [
      "abc abc\n"
     ]
    }
   ],
   "source": [
    "x = y = 'abc'\n",
    "print(x, y)"
   ]
  },
  {
   "cell_type": "code",
   "execution_count": 28,
   "id": "5d2daf44-7649-4266-a171-88cf03fb713d",
   "metadata": {
    "tags": []
   },
   "outputs": [
    {
     "data": {
      "text/plain": [
       "True"
      ]
     },
     "execution_count": 28,
     "metadata": {},
     "output_type": "execute_result"
    }
   ],
   "source": [
    "x is y#标签贴在一处"
   ]
  },
  {
   "cell_type": "code",
   "execution_count": 29,
   "id": "7e1c32d9-77c3-41a0-beda-066c26cf0b3c",
   "metadata": {
    "tags": []
   },
   "outputs": [],
   "source": [
    "del x  #只是del掉了标签，没有delete掉对象；"
   ]
  },
  {
   "cell_type": "code",
   "execution_count": 30,
   "id": "449d7157-d807-45f7-badb-e6df7df6b841",
   "metadata": {
    "tags": []
   },
   "outputs": [
    {
     "ename": "NameError",
     "evalue": "name 'x' is not defined",
     "output_type": "error",
     "traceback": [
      "\u001b[1;31m---------------------------------------------------------------------------\u001b[0m",
      "\u001b[1;31mNameError\u001b[0m                                 Traceback (most recent call last)",
      "Cell \u001b[1;32mIn[30], line 1\u001b[0m\n\u001b[1;32m----> 1\u001b[0m x\n",
      "\u001b[1;31mNameError\u001b[0m: name 'x' is not defined"
     ]
    }
   ],
   "source": [
    "x"
   ]
  },
  {
   "cell_type": "code",
   "execution_count": 31,
   "id": "2bb3b278-a985-405c-b275-a76b86be98d0",
   "metadata": {
    "tags": []
   },
   "outputs": [
    {
     "data": {
      "text/plain": [
       "'abc'"
      ]
     },
     "execution_count": 31,
     "metadata": {},
     "output_type": "execute_result"
    }
   ],
   "source": [
    "y#只有当所有标签都没了，对象又可能随时被定期清理器清理"
   ]
  },
  {
   "cell_type": "code",
   "execution_count": 32,
   "id": "01f940ad-d65b-4217-90f9-0401a5de0c1d",
   "metadata": {
    "tags": []
   },
   "outputs": [
    {
     "name": "stdout",
     "output_type": "stream",
     "text": [
      "hello\n"
     ]
    }
   ],
   "source": [
    "#execute执行\n",
    "exec('print(\"hello\")')#为啥不直接输入print：用途，可以由用户输入某些语句，然后帮用户执行"
   ]
  },
  {
   "cell_type": "code",
   "execution_count": 33,
   "id": "76364991-fe07-489f-a539-e76e06253b37",
   "metadata": {
    "tags": []
   },
   "outputs": [
    {
     "name": "stdin",
     "output_type": "stream",
     "text": [
      "Please input an expression:  2 + 3 + 5\n"
     ]
    },
    {
     "name": "stdout",
     "output_type": "stream",
     "text": [
      "10\n"
     ]
    }
   ],
   "source": [
    "expression = input('Please input an expression: ')\n",
    "exec(f'print({expression})')#功能很强大，可以把py暴露在用户面前，让他去使用，不过会有很大风险需要慎重使用"
   ]
  },
  {
   "cell_type": "code",
   "execution_count": 34,
   "id": "a7eb7ceb-956b-4d94-abfe-ad3800e75255",
   "metadata": {
    "tags": []
   },
   "outputs": [
    {
     "data": {
      "text/plain": [
       "5"
      ]
     },
     "execution_count": 34,
     "metadata": {},
     "output_type": "execute_result"
    }
   ],
   "source": [
    "eval('2+3')  #和exec类似但有一些差别？？"
   ]
  },
  {
   "cell_type": "code",
   "execution_count": 35,
   "id": "306ca3dc-59f2-4ee4-a931-a6cb160c4791",
   "metadata": {
    "tags": []
   },
   "outputs": [
    {
     "data": {
      "text/plain": [
       "1.4142135623730951"
      ]
     },
     "execution_count": 35,
     "metadata": {},
     "output_type": "execute_result"
    }
   ],
   "source": [
    "# 如果想要使用这个功能，又想保护一点\n",
    "from math import sqrt\n",
    "sqrt(2)"
   ]
  },
  {
   "cell_type": "code",
   "execution_count": 36,
   "id": "def4af33-0860-446b-bc1e-4681cf3d939c",
   "metadata": {
    "tags": []
   },
   "outputs": [],
   "source": [
    "sqrt = 1  #sqrt又被贴到一个数字上了，不小心命名重了的情况"
   ]
  },
  {
   "cell_type": "code",
   "execution_count": 37,
   "id": "d9a69cc5-5b19-4b1a-9d87-9dc8cd63b3b2",
   "metadata": {
    "tags": []
   },
   "outputs": [
    {
     "ename": "TypeError",
     "evalue": "'int' object is not callable",
     "output_type": "error",
     "traceback": [
      "\u001b[1;31m---------------------------------------------------------------------------\u001b[0m",
      "\u001b[1;31mTypeError\u001b[0m                                 Traceback (most recent call last)",
      "Cell \u001b[1;32mIn[37], line 1\u001b[0m\n\u001b[1;32m----> 1\u001b[0m sqrt(\u001b[38;5;241m3\u001b[39m)\n",
      "\u001b[1;31mTypeError\u001b[0m: 'int' object is not callable"
     ]
    }
   ],
   "source": [
    "sqrt(3)"
   ]
  },
  {
   "cell_type": "code",
   "execution_count": 38,
   "id": "7d5fb250-f3d6-4139-a838-2c25724f7886",
   "metadata": {
    "tags": []
   },
   "outputs": [
    {
     "ename": "SyntaxError",
     "evalue": "invalid syntax (58023103.py, line 1)",
     "output_type": "error",
     "traceback": [
      "\u001b[1;36m  Cell \u001b[1;32mIn[38], line 1\u001b[1;36m\u001b[0m\n\u001b[1;33m    global()#老师忘了，后面再说\u001b[0m\n\u001b[1;37m          ^\u001b[0m\n\u001b[1;31mSyntaxError\u001b[0m\u001b[1;31m:\u001b[0m invalid syntax\n"
     ]
    }
   ],
   "source": [
    "global()#老师忘了，后面再说"
   ]
  },
  {
   "cell_type": "code",
   "execution_count": 39,
   "id": "c2a4d8b4-b226-4477-b143-fe994bbdf70b",
   "metadata": {
    "tags": []
   },
   "outputs": [
    {
     "data": {
      "text/plain": [
       "['In',\n",
       " 'Out',\n",
       " '_',\n",
       " '_21',\n",
       " '_22',\n",
       " '_24',\n",
       " '_25',\n",
       " '_26',\n",
       " '_28',\n",
       " '_31',\n",
       " '_34',\n",
       " '_35',\n",
       " '__',\n",
       " '___',\n",
       " '__builtin__',\n",
       " '__builtins__',\n",
       " '__doc__',\n",
       " '__loader__',\n",
       " '__name__',\n",
       " '__package__',\n",
       " '__spec__',\n",
       " '_dh',\n",
       " '_i',\n",
       " '_i1',\n",
       " '_i10',\n",
       " '_i11',\n",
       " '_i12',\n",
       " '_i13',\n",
       " '_i14',\n",
       " '_i15',\n",
       " '_i16',\n",
       " '_i17',\n",
       " '_i18',\n",
       " '_i19',\n",
       " '_i2',\n",
       " '_i20',\n",
       " '_i21',\n",
       " '_i22',\n",
       " '_i23',\n",
       " '_i24',\n",
       " '_i25',\n",
       " '_i26',\n",
       " '_i27',\n",
       " '_i28',\n",
       " '_i29',\n",
       " '_i3',\n",
       " '_i30',\n",
       " '_i31',\n",
       " '_i32',\n",
       " '_i33',\n",
       " '_i34',\n",
       " '_i35',\n",
       " '_i36',\n",
       " '_i37',\n",
       " '_i38',\n",
       " '_i39',\n",
       " '_i4',\n",
       " '_i5',\n",
       " '_i6',\n",
       " '_i7',\n",
       " '_i8',\n",
       " '_i9',\n",
       " '_ih',\n",
       " '_ii',\n",
       " '_iii',\n",
       " '_oh',\n",
       " 'age',\n",
       " 'bar_length',\n",
       " 'boys',\n",
       " 'exit',\n",
       " 'expression',\n",
       " 'get_ipython',\n",
       " 'girls',\n",
       " 'i',\n",
       " 'math',\n",
       " 'name',\n",
       " 'names',\n",
       " 'open',\n",
       " 'quit',\n",
       " 'sqrt',\n",
       " 'str1',\n",
       " 't',\n",
       " 'wait',\n",
       " 'word',\n",
       " 'y']"
      ]
     },
     "execution_count": 39,
     "metadata": {},
     "output_type": "execute_result"
    }
   ],
   "source": [
    "dir()#列出当前作用域定义的所有标签"
   ]
  },
  {
   "cell_type": "code",
   "execution_count": 40,
   "id": "465e8760-aeb4-4358-a070-7f00a472cec8",
   "metadata": {
    "tags": []
   },
   "outputs": [
    {
     "data": {
      "text/plain": [
       "2.0"
      ]
     },
     "execution_count": 40,
     "metadata": {},
     "output_type": "execute_result"
    }
   ],
   "source": [
    "# 如果想要使用这个功能，又想保护一点\n",
    "from math import sqrt\n",
    "\n",
    "scope = {}#定义了一个作用域(实际上是一个字典)，就是告诉exec在这个作用域scope里面去执行，但是并没有放在外面\n",
    "exec('sqrt = 1',scope)\n",
    "sqrt(4)"
   ]
  },
  {
   "cell_type": "code",
   "execution_count": 41,
   "id": "b556d40f-70c8-4549-b3fa-4db3954b72ff",
   "metadata": {
    "tags": []
   },
   "outputs": [
    {
     "name": "stdout",
     "output_type": "stream",
     "text": [
      "Variable     Type                          Data/Info\n",
      "----------------------------------------------------\n",
      "age          int                           30\n",
      "bar_length   int                           60\n",
      "boys         list                          n=3\n",
      "expression   str                           2 + 3 + 5\n",
      "girls        list                          n=4\n",
      "i            int                           2\n",
      "math         module                        <module 'math' (built-in)>\n",
      "name         str                           c\n",
      "names        list                          n=3\n",
      "scope        dict                          n=2\n",
      "sqrt         builtin_function_or_method    <built-in function sqrt>\n",
      "str1         str                           how are you today\n",
      "t            generator                     <generator object <genexp<...>r> at 0x0000020FA236B370>\n",
      "wait         function                      <function wait at 0x0000020FA23F0E00>\n",
      "word         str                           today\n",
      "y            str                           abc\n"
     ]
    }
   ],
   "source": [
    "%whos"
   ]
  },
  {
   "cell_type": "markdown",
   "id": "c2485757-b355-4272-ac7d-3d9d98a5e7d2",
   "metadata": {},
   "source": [
    "函数是一种抽象，只暴露一个名字，需要哪些参数。细节藏起"
   ]
  },
  {
   "cell_type": "code",
   "execution_count": 46,
   "id": "7a220751-96ea-4a5d-9dba-2fe426a34595",
   "metadata": {
    "tags": []
   },
   "outputs": [],
   "source": [
    "#上台阶，有多少种上法\n",
    "#递归 F(n) = F(n-1) + F(n-2)"
   ]
  },
  {
   "cell_type": "code",
   "execution_count": 43,
   "id": "418be2ed-74ad-4cd1-9fdb-b3444692a3ce",
   "metadata": {
    "tags": []
   },
   "outputs": [
    {
     "name": "stdout",
     "output_type": "stream",
     "text": [
      "5\n",
      "4\n",
      "3\n",
      "2\n",
      "1\n",
      "0\n"
     ]
    }
   ],
   "source": [
    "#不用循环打印1~n\n",
    "\n",
    "def print_numbers(n):\n",
    "    print(n)\n",
    "    if n > 0:\n",
    "        print_numbers(n-1)#死循环————递归一定要有终止条件\n",
    "        \n",
    "print_numbers(5)"
   ]
  },
  {
   "cell_type": "code",
   "execution_count": 44,
   "id": "38155811-234c-465a-8f9a-9fc0ab162881",
   "metadata": {
    "tags": []
   },
   "outputs": [
    {
     "name": "stdout",
     "output_type": "stream",
     "text": [
      "0\n",
      "1\n",
      "2\n",
      "3\n",
      "4\n",
      "5\n"
     ]
    }
   ],
   "source": [
    "#调整顺序：这个函数只做一件事就是打印n。重点：拒绝诱惑！不要去想下一次递归它会干什么，只专注想我这个函数做什么;相信别人能做好这个事情。\n",
    "def print_numbers(n):\n",
    "    if n > 0:\n",
    "        print_numbers(n-1)#死循环————递归一定要有终止条件\n",
    "    print(n)\n",
    "        \n",
    "print_numbers(5)"
   ]
  },
  {
   "cell_type": "code",
   "execution_count": 45,
   "id": "ea3d2260-49c1-489f-8486-9befb475bd8c",
   "metadata": {
    "tags": []
   },
   "outputs": [
    {
     "name": "stdout",
     "output_type": "stream",
     "text": [
      "a -> c\n",
      "a -> b\n",
      "c -> b\n",
      "a -> c\n",
      "b -> a\n",
      "b -> c\n",
      "a -> c\n"
     ]
    }
   ],
   "source": [
    "#汉诺塔\n",
    "def hanoi(n, source, target, temp):  #不要固定A,B,C塔，因为会变化\n",
    "    if n == 1:\n",
    "        print(f'{source} -> {target}')\n",
    "    else:\n",
    "        hanoi(n - 1,source, temp, target)\n",
    "        # hanoi(1,source, target, temp)#搬一个盘子我们会，可以直接改写\n",
    "        print(f'{source} -> {target}')\n",
    "        hanoi(n -1 ,temp, target, source)\n",
    "\n",
    "hanoi(3, 'a', 'c', 'b')\n",
    "#盘中全部搬完需要多少步，2^(n)-1"
   ]
  },
  {
   "cell_type": "code",
   "execution_count": 47,
   "id": "4ffee064-479e-4d28-96b8-2855d495b752",
   "metadata": {
    "tags": []
   },
   "outputs": [
    {
     "data": {
      "text/plain": [
       "[1, 1, 2, 3, 5, 8, 13, 21, 34, 55]"
      ]
     },
     "execution_count": 47,
     "metadata": {},
     "output_type": "execute_result"
    }
   ],
   "source": [
    "#斐波那契数列--用循环解决\n",
    "def fib(n):\n",
    "    result = [1, 1]\n",
    "    for i in range(n - 2):\n",
    "        result.append(result[-2] + result[-1])\n",
    "    return result\n",
    "\n",
    "fib(10)"
   ]
  },
  {
   "cell_type": "code",
   "execution_count": 48,
   "id": "bc700eb7-ff7f-4793-bf77-a6318b5c9683",
   "metadata": {
    "tags": []
   },
   "outputs": [
    {
     "name": "stdout",
     "output_type": "stream",
     "text": [
      "55\n"
     ]
    }
   ],
   "source": [
    "def fib(n):\n",
    "    item_before_last, last =1, 1  #至少每次要保留两个数字\n",
    "    for i in range(n - 2):\n",
    "        item_before_last, last = last, item_before_last + last  #更新最后两个数字\n",
    "    return last\n",
    "\n",
    "print(fib(10))\n"
   ]
  },
  {
   "cell_type": "markdown",
   "id": "7ef89511-3a59-4fd2-bcfc-2e21dc65627c",
   "metadata": {},
   "source": [
    "递归函数很多时候可以用非递归来解决，可以的时候用非递归，因为递归会有很多问题"
   ]
  }
 ],
 "metadata": {
  "kernelspec": {
   "display_name": "Python 3 (ipykernel)",
   "language": "python",
   "name": "python3"
  },
  "language_info": {
   "codemirror_mode": {
    "name": "ipython",
    "version": 3
   },
   "file_extension": ".py",
   "mimetype": "text/x-python",
   "name": "python",
   "nbconvert_exporter": "python",
   "pygments_lexer": "ipython3",
   "version": "3.11.4"
  }
 },
 "nbformat": 4,
 "nbformat_minor": 5
}
