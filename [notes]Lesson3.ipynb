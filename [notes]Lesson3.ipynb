{
 "cells": [
  {
   "cell_type": "code",
   "execution_count": 49,
   "id": "9eb568aa-8a0a-4744-a4ed-7e36015a6fd3",
   "metadata": {
    "tags": []
   },
   "outputs": [
    {
     "data": {
      "text/plain": [
       "5050"
      ]
     },
     "execution_count": 49,
     "metadata": {},
     "output_type": "execute_result"
    }
   ],
   "source": [
    "sum(range(1,101))"
   ]
  },
  {
   "cell_type": "code",
   "execution_count": 50,
   "id": "a4bb892d-d72b-4b7d-8cc5-beb1d2314626",
   "metadata": {
    "tags": []
   },
   "outputs": [],
   "source": [
    "alist=list(range(1,101))"
   ]
  },
  {
   "cell_type": "code",
   "execution_count": 51,
   "id": "cc4b87fb-cbc2-424a-b700-9b175993e15b",
   "metadata": {
    "tags": []
   },
   "outputs": [
    {
     "data": {
      "text/plain": [
       "[1,\n",
       " 2,\n",
       " 3,\n",
       " 4,\n",
       " 5,\n",
       " 6,\n",
       " 7,\n",
       " 8,\n",
       " 9,\n",
       " 10,\n",
       " 11,\n",
       " 12,\n",
       " 13,\n",
       " 14,\n",
       " 15,\n",
       " 16,\n",
       " 17,\n",
       " 18,\n",
       " 19,\n",
       " 20,\n",
       " 21,\n",
       " 22,\n",
       " 23,\n",
       " 24,\n",
       " 25,\n",
       " 26,\n",
       " 27,\n",
       " 28,\n",
       " 29,\n",
       " 30,\n",
       " 31,\n",
       " 32,\n",
       " 33,\n",
       " 34,\n",
       " 35,\n",
       " 36,\n",
       " 37,\n",
       " 38,\n",
       " 39,\n",
       " 40,\n",
       " 41,\n",
       " 42,\n",
       " 43,\n",
       " 44,\n",
       " 45,\n",
       " 46,\n",
       " 47,\n",
       " 48,\n",
       " 49,\n",
       " 50,\n",
       " 51,\n",
       " 52,\n",
       " 53,\n",
       " 54,\n",
       " 55,\n",
       " 56,\n",
       " 57,\n",
       " 58,\n",
       " 59,\n",
       " 60,\n",
       " 61,\n",
       " 62,\n",
       " 63,\n",
       " 64,\n",
       " 65,\n",
       " 66,\n",
       " 67,\n",
       " 68,\n",
       " 69,\n",
       " 70,\n",
       " 71,\n",
       " 72,\n",
       " 73,\n",
       " 74,\n",
       " 75,\n",
       " 76,\n",
       " 77,\n",
       " 78,\n",
       " 79,\n",
       " 80,\n",
       " 81,\n",
       " 82,\n",
       " 83,\n",
       " 84,\n",
       " 85,\n",
       " 86,\n",
       " 87,\n",
       " 88,\n",
       " 89,\n",
       " 90,\n",
       " 91,\n",
       " 92,\n",
       " 93,\n",
       " 94,\n",
       " 95,\n",
       " 96,\n",
       " 97,\n",
       " 98,\n",
       " 99,\n",
       " 100]"
      ]
     },
     "execution_count": 51,
     "metadata": {},
     "output_type": "execute_result"
    }
   ],
   "source": [
    "alist"
   ]
  },
  {
   "cell_type": "code",
   "execution_count": 52,
   "id": "9da2c514-2028-42b8-94d9-ebe10222ec53",
   "metadata": {
    "tags": []
   },
   "outputs": [
    {
     "data": {
      "text/plain": [
       "5050"
      ]
     },
     "execution_count": 52,
     "metadata": {},
     "output_type": "execute_result"
    }
   ],
   "source": [
    "sum(alist)"
   ]
  },
  {
   "cell_type": "markdown",
   "id": "b4301447-878e-4dc8-841f-f397b824c7cd",
   "metadata": {},
   "source": [
    "1&2区别：实际生成了100个数和只是计算"
   ]
  },
  {
   "cell_type": "code",
   "execution_count": 53,
   "id": "06552ad9-e93b-448c-b4bf-d3ef2a610fa7",
   "metadata": {
    "tags": []
   },
   "outputs": [
    {
     "name": "stdout",
     "output_type": "stream",
     "text": [
      "[29, 38, 24, 26, 86, 100, 5, 70, 62, 32, 30, 88, 54, 77, 98, 0, 75, 12, 72, 54, 86, 69, 98, 93, 60, 35, 0, 36, 17, 60, 35, 5, 42, 5, 78, 23, 65, 71, 25, 36, 51, 69, 54, 33, 84, 18, 76, 59, 66, 38, 88, 3, 1, 48, 20, 22, 47, 94, 18, 54, 19, 11, 96, 88, 85, 32, 76, 48, 13, 69, 19, 48, 30, 92, 14, 88, 9, 17, 44, 58, 92, 6, 19, 59, 59, 0, 29, 100, 29, 24, 78, 87, 27, 28, 40, 3, 12, 100, 88]\n"
     ]
    }
   ],
   "source": [
    "import random\n",
    "a = list()\n",
    "for x in range(1,100):\n",
    "    a.append(random.randint(0,100))\n",
    "print(a)"
   ]
  },
  {
   "cell_type": "code",
   "execution_count": 54,
   "id": "661e85e3-5a5c-494e-9329-b9a3ec051870",
   "metadata": {
    "tags": []
   },
   "outputs": [
    {
     "data": {
      "text/plain": [
       "100"
      ]
     },
     "execution_count": 54,
     "metadata": {},
     "output_type": "execute_result"
    }
   ],
   "source": [
    "max(a)"
   ]
  },
  {
   "cell_type": "code",
   "execution_count": 55,
   "id": "5510911c-8332-42e4-9fec-d374d774a525",
   "metadata": {
    "tags": []
   },
   "outputs": [
    {
     "data": {
      "text/plain": [
       "0"
      ]
     },
     "execution_count": 55,
     "metadata": {},
     "output_type": "execute_result"
    }
   ],
   "source": [
    "min(a)"
   ]
  },
  {
   "cell_type": "code",
   "execution_count": 56,
   "id": "170afff7-5b4e-4bb4-bd24-7a761fc4bbdf",
   "metadata": {
    "tags": []
   },
   "outputs": [
    {
     "data": {
      "text/plain": [
       "99"
      ]
     },
     "execution_count": 56,
     "metadata": {},
     "output_type": "execute_result"
    }
   ],
   "source": [
    "len(a)"
   ]
  },
  {
   "cell_type": "markdown",
   "id": "28f9f25f-dd7f-4345-ba71-b2362f7215e9",
   "metadata": {},
   "source": [
    "可以用py来模拟几种数据结构：stack和queue\n",
    "FILO-stack\n",
    "FIFO-queue"
   ]
  },
  {
   "cell_type": "markdown",
   "id": "20d2db78-3325-41f4-826a-a6087805394e",
   "metadata": {},
   "source": [
    "模拟式子括号是否书写正确"
   ]
  },
  {
   "cell_type": "code",
   "execution_count": 57,
   "id": "1d6ea820-57cb-41a7-9e69-4e6062df9815",
   "metadata": {
    "tags": []
   },
   "outputs": [
    {
     "name": "stdin",
     "output_type": "stream",
     "text": [
      "Please input an expression: [(2+3)*5)+3\n"
     ]
    },
    {
     "name": "stdout",
     "output_type": "stream",
     "text": [
      "Not match.\n"
     ]
    }
   ],
   "source": [
    "expression = input('Please input an expression:')\n",
    "my_stack = list()\n",
    "left_quotes = ['[','(','{']\n",
    "right_quotes = [']',')','}']\n",
    "\n",
    "no_match = False\n",
    "for ch in expression:\n",
    "    if ch in left_quotes:\n",
    "         my_stack.append(ch)\n",
    "    elif ch in right_quotes:\n",
    "        if not my_stack:\n",
    "            no_match = True\n",
    "            break\n",
    "        else:\n",
    "            left_ch = my_stack.pop()#返回左边最上\n",
    "            if left_quotes.index(left_ch) != right_quotes.index(ch):#寻找左右括号索引看是否相同\n",
    "                no_match = True\n",
    "                break\n",
    "if no_match or my_stack != []:#my_stack != []是my_stack非空的另一种写法\n",
    "    print('Not match.')\n",
    "else:\n",
    "    print('Match')\n",
    "#[(2+3)*5)+3"
   ]
  },
  {
   "cell_type": "markdown",
   "id": "3cb61d14-0a24-407b-927e-60f4c5928c00",
   "metadata": {},
   "source": [
    "模拟掷色子-怎么才算好色子？马尔夫链"
   ]
  },
  {
   "cell_type": "code",
   "execution_count": 58,
   "id": "40601920-699e-49c3-9e55-2cce516f4a02",
   "metadata": {},
   "outputs": [
    {
     "ename": "SyntaxError",
     "evalue": "expected ':' (3455696096.py, line 6)",
     "output_type": "error",
     "traceback": [
      "\u001b[1;36m  Cell \u001b[1;32mIn[58], line 6\u001b[1;36m\u001b[0m\n\u001b[1;33m    else if value == 2: c2 += 1\u001b[0m\n\u001b[1;37m         ^\u001b[0m\n\u001b[1;31mSyntaxError\u001b[0m\u001b[1;31m:\u001b[0m expected ':'\n"
     ]
    }
   ],
   "source": [
    "import random\n",
    "c1 = c2 = c3 = c4 = c5 = c6 = 0\n",
    "for i in range(0, 100000):\n",
    "    value = random.randint(1,6)\n",
    "    if value == 1: c1 += 1\n",
    "    else if value == 2: c2 += 1\n",
    "    ..."
   ]
  },
  {
   "cell_type": "markdown",
   "id": "1c90ce22-b414-4d0e-b34a-0fe642b771fb",
   "metadata": {},
   "source": [
    "用list比较好"
   ]
  },
  {
   "cell_type": "code",
   "execution_count": null,
   "id": "af988cdf-793b-4ce0-8149-d7e4368d290d",
   "metadata": {},
   "outputs": [],
   "source": [
    "import random\n",
    "count = [0] * 6\n",
    "for i in range (0, 100000):\n",
    "    count[random.randint(1,6) - 1] += 1 #统计100000次里面每个数字掷出的次数\n",
    "print(count)"
   ]
  },
  {
   "cell_type": "markdown",
   "id": "dce13bbb-5f16-4140-9c16-df8a66dbff2b",
   "metadata": {},
   "source": [
    "画图"
   ]
  },
  {
   "cell_type": "code",
   "execution_count": null,
   "id": "cc3a86b8-6c32-4771-bccb-4b8459156e79",
   "metadata": {
    "tags": []
   },
   "outputs": [],
   "source": [
    "import matplotlib.pyplot as plt#导入matplotlib.pyplot并简称成plt\n",
    "\n",
    "plt.bar(range(1,7),count)#两个参数：x和y轴，bar条？柱状图\n",
    "plt.show()"
   ]
  },
  {
   "cell_type": "code",
   "execution_count": null,
   "id": "0bfe6960-8bc0-4ec3-b0f9-9d1183eeb296",
   "metadata": {
    "tags": []
   },
   "outputs": [],
   "source": [
    "import random\n",
    "\n",
    "count = [0] * 6\n",
    "portions = ([], [], [], [], [], [], [])#portions可以看出是二维的list\n",
    "for j in range(0, 1000):\n",
    "    for i in range (0,50):\n",
    "        count[random.randint(1,6) - 1] += 1\n",
    "    for i in range(0,6):\n",
    "        portions[i].append(count[i] / sum(count))#计算每50里次掷出i+1概率放入对应的portions的第i项的末尾\n",
    "    \n",
    "print(count)"
   ]
  },
  {
   "cell_type": "code",
   "execution_count": null,
   "id": "6765d9e4-f93b-49b4-93e0-1aca3ad0c5c1",
   "metadata": {
    "tags": []
   },
   "outputs": [],
   "source": [
    "import random\n",
    "\n",
    "count = [0] * 6\n",
    "portions = ([], [], [], [], [], [], [])#portions可以看出是二维的list\n",
    "for j in range(0, 3):#改成3先试试看list\n",
    "    for i in range (0,50):\n",
    "        count[random.randint(1,6) - 1] += 1\n",
    "    for i in range(0,6):\n",
    "        portions[i].append(count[i] / sum(count))#计算每50里次掷出i+1概率放入对应的portions的第i项的末尾\n",
    "    \n",
    "print(count)\n",
    "portions"
   ]
  },
  {
   "cell_type": "code",
   "execution_count": null,
   "id": "dbeb7252-02af-46f8-bd34-8f3b0d5deb16",
   "metadata": {
    "tags": []
   },
   "outputs": [],
   "source": [
    "import random\n",
    "\n",
    "count = [0] * 6\n",
    "portions = ([], [], [], [], [], [], [])#portions可以看出是二维的list\n",
    "for j in range(0, 1000):#画图\n",
    "    for i in range (0,50):\n",
    "        count[random.randint(1,6) - 1] += 1\n",
    "    for i in range(0,6):\n",
    "        portions[i].append(count[i] / sum(count))#计算每50里次掷出i+1概率放入对应的portions的第i项的末尾\n",
    "    \n",
    "print(count)"
   ]
  },
  {
   "cell_type": "code",
   "execution_count": null,
   "id": "a205bc23-6062-4d21-b930-a1411be61f01",
   "metadata": {
    "tags": []
   },
   "outputs": [],
   "source": [
    "import matplotlib.pyplot as plt\n",
    "fig, ax = plt.subplots()\n",
    "\n",
    "x = list(range(1000))#x和y必须同样的长度，y是portions，1000\n",
    "#六个数字写6对x,y\n",
    "plt.plot(x ,portions[0], 'r', x, portions[1], 'b', x, portions[2],'g', x, portions[3],'', x, portions[4],'', x, portions[5])#'r'red不打就缺省，你帮我想个颜色\n",
    "plt.show"
   ]
  },
  {
   "cell_type": "markdown",
   "id": "985a7111-2ee9-4334-a143-4505a9b7a08c",
   "metadata": {},
   "source": [
    "为了不用画图的时候输入很多次y，可以用另外的写法，直接把y从‘二维列表’portions写成元素是向量的形式-改用history（里面用percentage）如下"
   ]
  },
  {
   "cell_type": "code",
   "execution_count": null,
   "id": "f2a4d656-6056-4fc6-bca4-aab975daf64b",
   "metadata": {
    "tags": []
   },
   "outputs": [],
   "source": [
    "count = [0]*6\n",
    "history = []#向量，之后用于存储1000个percentage概率向量\n",
    "for j in range(0,1000):\n",
    "    for i in range(0,50):\n",
    "        count[random.randint(1,6) - 1] += 1\n",
    "    percentage = []\n",
    "    for i in range (0,6):\n",
    "        percentage.append(count[i] / sum(count))\n",
    "    history.append(percentage)\n",
    "    \n",
    "import matplotlib.pyplot as plt\n",
    "fig, ax = plt.subplots()\n",
    "\n",
    "x = list(range(1000))\n",
    "plt.plot(x ,history)\n",
    "plt.show"
   ]
  },
  {
   "cell_type": "markdown",
   "id": "30e18e70-cc0c-4f8c-a32d-9fb247790af9",
   "metadata": {},
   "source": [
    "思考：如何统计10000次里面，出现666的次数-模拟队列"
   ]
  },
  {
   "cell_type": "code",
   "execution_count": null,
   "id": "04fe3f84-8184-4fe7-a574-751e6638f84a",
   "metadata": {
    "tags": []
   },
   "outputs": [],
   "source": [
    "a = [1, 2, 3]\n",
    "a.append(4)"
   ]
  },
  {
   "cell_type": "code",
   "execution_count": null,
   "id": "3611ebfe-666e-42d5-8aa4-b75e61b0bbad",
   "metadata": {
    "tags": []
   },
   "outputs": [],
   "source": [
    "a"
   ]
  },
  {
   "cell_type": "code",
   "execution_count": null,
   "id": "efa075ea-e143-42f6-ab7f-c8f83217a629",
   "metadata": {
    "tags": []
   },
   "outputs": [],
   "source": [
    "a.pop(0)#从前面出来，pop(0)"
   ]
  },
  {
   "cell_type": "code",
   "execution_count": null,
   "id": "acd310c1-83f2-43ae-a279-569866eb4fd6",
   "metadata": {
    "tags": []
   },
   "outputs": [],
   "source": [
    "a"
   ]
  },
  {
   "cell_type": "code",
   "execution_count": null,
   "id": "0a599b34-4e67-49f0-ad5f-af1a3972b38c",
   "metadata": {
    "tags": []
   },
   "outputs": [],
   "source": [
    "import random\n",
    "\n",
    "count = 0\n",
    "last_three = [0, 0, 0]\n",
    "for i in range (0,10000):\n",
    "    value = random.randint(1,6)\n",
    "    last_three.pop(0)\n",
    "    last_three.append(random.randint(1,6))\n",
    "    if last_three == [6, 6, 6]:\n",
    "        count += 1\n",
    "        \n",
    "print(count)"
   ]
  },
  {
   "cell_type": "markdown",
   "id": "0df57529-4439-4cbc-aed1-b1a41e224b7f",
   "metadata": {},
   "source": [
    "最有py特色的功能 List comprehension:从一个序列生成另一个序列"
   ]
  },
  {
   "cell_type": "markdown",
   "id": "c64af0a5-a587-4943-99fc-b791fc42488a",
   "metadata": {},
   "source": [
    "比如生成一个平方项的序列"
   ]
  },
  {
   "cell_type": "code",
   "execution_count": null,
   "id": "cb1b244e-3f43-4c83-87b6-d1d9e25994f9",
   "metadata": {
    "tags": []
   },
   "outputs": [],
   "source": [
    "a = []\n",
    "for x in range(10):\n",
    "    a.append(x * x)\n",
    "a\n",
    "#不够好"
   ]
  },
  {
   "cell_type": "code",
   "execution_count": null,
   "id": "f1c822d9-3a1d-4dd3-9134-a8404bf9362f",
   "metadata": {
    "tags": []
   },
   "outputs": [],
   "source": [
    "#更好-list comprehension\n",
    "a = [x * x for x in range(0,10)] \n",
    "#x in range(0,10)是一个序列，然后消化吸收这个序列，然后生成一个x*x的序列\n",
    "#好处是很好理解"
   ]
  },
  {
   "cell_type": "code",
   "execution_count": null,
   "id": "9931025c-720c-480e-bbe0-d32b5550463c",
   "metadata": {
    "tags": []
   },
   "outputs": [],
   "source": [
    "a"
   ]
  },
  {
   "cell_type": "code",
   "execution_count": null,
   "id": "13a6f36b-6ba9-4cd9-a834-742cc17d162c",
   "metadata": {
    "tags": []
   },
   "outputs": [],
   "source": [
    "#还可以加条件\n",
    "a = [x * x for x in range(0,10) if x%3 != 0] #去掉3的倍数\n",
    "a"
   ]
  },
  {
   "cell_type": "code",
   "execution_count": null,
   "id": "073a3641-386a-47a0-a112-a5b80e9481c1",
   "metadata": {
    "tags": []
   },
   "outputs": [],
   "source": [
    "#还可以是双重循环\n",
    "x = [x for x in range(10) for y in range(10)]\n",
    "y = [y for x in range(10) for y in range(10)]\n",
    "x"
   ]
  },
  {
   "cell_type": "code",
   "execution_count": null,
   "id": "955c7a3d-aa24-4d4d-8938-9d4b0f815b8c",
   "metadata": {
    "tags": []
   },
   "outputs": [],
   "source": [
    "import matplotlib.pyplot as plt\n",
    "\n",
    "plt.scatter(x , y)#散点图scatter\n",
    "plt.show"
   ]
  },
  {
   "cell_type": "code",
   "execution_count": null,
   "id": "18d1c519-9938-4204-bd97-f0933322cc89",
   "metadata": {
    "tags": []
   },
   "outputs": [],
   "source": [
    "import numpy as np#标准缩写\n",
    "x = [[x for x in range(10)]for y in range(10)]#与前面不同，不是散点而是向量\n",
    "y = [[y for x in range(10)]for y in range(10)]\n",
    "z = [[x * x + y * y for x in range(10)] for y in range(10)]"
   ]
  },
  {
   "cell_type": "code",
   "execution_count": null,
   "id": "e6ac2eff-39c4-4c50-bbda-1aa57112c0dd",
   "metadata": {
    "tags": []
   },
   "outputs": [],
   "source": [
    "x"
   ]
  },
  {
   "cell_type": "code",
   "execution_count": null,
   "id": "dc086e0b-8861-4b74-b61a-043c3b78ab35",
   "metadata": {
    "tags": []
   },
   "outputs": [],
   "source": [
    "y"
   ]
  },
  {
   "cell_type": "code",
   "execution_count": null,
   "id": "314a21a5-bc41-485a-9060-407bf6f6c58d",
   "metadata": {
    "tags": []
   },
   "outputs": [],
   "source": [
    "Z = np.array(z)#初始化，三维不能用list，要用numpy来画"
   ]
  },
  {
   "cell_type": "markdown",
   "id": "f8d6ec77-d21c-4c2b-b226-9a6c800b8832",
   "metadata": {},
   "source": [
    "numpy为了在使用传统数组时替代list(元素一致均匀)"
   ]
  },
  {
   "cell_type": "code",
   "execution_count": null,
   "id": "c0e8a5ab-fcff-42b4-93b7-4ebc397b340a",
   "metadata": {
    "tags": []
   },
   "outputs": [],
   "source": [
    "import matplotlib.pyplot as plt\n",
    "\n",
    "fig = plt.figure(figsize = (10,8))#在10*8范围内画图\n",
    "ax = fig.subplots(subplot_kw={\"projection\":\"3d\"})#建立三维坐标系\n",
    "surf = ax.plot_surface(x,y,Z,cmap='plasma')#cmap  color map把数字翻译成颜色"
   ]
  },
  {
   "cell_type": "code",
   "execution_count": null,
   "id": "dd544b13-d5c1-4a64-97e6-3aba79c78d14",
   "metadata": {
    "tags": []
   },
   "outputs": [],
   "source": [
    "#用np.meshgrid画图更好\n",
    "X, Y = np.meshgrid(np.linspace(-2,2,25), np.linspace(-2,2,25))\n",
    "#linspace线性空间，从-2到2产生25个点，x、y都是，产生25个向量？？织成网\n",
    "Z = X * X + Y * Y\n",
    "\n",
    "fig = plt.figure(figsize = (10,8))#在10*8范围内画图\n",
    "ax = fig.subplots(subplot_kw={\"projection\":\"3d\"})#建立三维坐标系\n",
    "surf = ax.plot_surface(X,Y,Z,cmap='plasma')#cmap  color map把数字翻译成颜色"
   ]
  },
  {
   "cell_type": "markdown",
   "id": "1226136d-6ce5-4720-8ded-88d20aca6cec",
   "metadata": {},
   "source": [
    "tuple元组：不可变"
   ]
  },
  {
   "cell_type": "code",
   "execution_count": null,
   "id": "b4a8de76-0845-4cd6-9fde-44816e7ddce2",
   "metadata": {
    "tags": []
   },
   "outputs": [],
   "source": [
    "mt = (1,2,3)\n",
    "mt"
   ]
  },
  {
   "cell_type": "code",
   "execution_count": null,
   "id": "a60546a7-929c-4e1e-a003-e0f736c95201",
   "metadata": {
    "tags": []
   },
   "outputs": [],
   "source": [
    "mt[0] = 10#不可变"
   ]
  },
  {
   "cell_type": "code",
   "execution_count": null,
   "id": "cc4a4f54-3434-4b7e-9d83-2fd8055e407e",
   "metadata": {
    "tags": []
   },
   "outputs": [],
   "source": [
    "x = 1\n",
    "y = 2\n",
    "x,y = y,x #实际上过程并没有如此简单，实际是生成了元组（2，1），然后元组解包x=2,y=1"
   ]
  },
  {
   "cell_type": "code",
   "execution_count": null,
   "id": "3af2a1aa-7874-403b-9e14-1df2f4347126",
   "metadata": {
    "tags": []
   },
   "outputs": [],
   "source": [
    "x"
   ]
  },
  {
   "cell_type": "code",
   "execution_count": null,
   "id": "92a91a1c-b12d-44a4-a2e6-746f94b72659",
   "metadata": {
    "tags": []
   },
   "outputs": [],
   "source": [
    "y"
   ]
  },
  {
   "cell_type": "code",
   "execution_count": null,
   "id": "fa3bcf82-128b-49b5-9337-9b873646bfac",
   "metadata": {
    "tags": []
   },
   "outputs": [],
   "source": [
    "def add(a,b):\n",
    "    print(a + b)\n",
    "    \n",
    "add(1, 2)"
   ]
  },
  {
   "cell_type": "code",
   "execution_count": null,
   "id": "47f93fe2-c079-4f0b-8505-9e21a0f733d1",
   "metadata": {
    "tags": []
   },
   "outputs": [],
   "source": [
    "a = (1, 2) #能调用add吗？\n",
    "a[0]#可以访问，只要不改"
   ]
  },
  {
   "cell_type": "code",
   "execution_count": null,
   "id": "8f312672-74a8-4896-b138-14c8afec6970",
   "metadata": {
    "tags": []
   },
   "outputs": [],
   "source": [
    "add(a[0],a[1])"
   ]
  },
  {
   "cell_type": "code",
   "execution_count": null,
   "id": "cb9467a8-cc78-4b98-95f7-9ee24d43d3d1",
   "metadata": {
    "tags": []
   },
   "outputs": [],
   "source": [
    "add(*a)#实际上是用*把元组解包，变成一串参数"
   ]
  },
  {
   "cell_type": "code",
   "execution_count": null,
   "id": "04361489-be06-4114-bd5b-e628062ec17c",
   "metadata": {
    "tags": []
   },
   "outputs": [],
   "source": [
    "a = ()#空的元组"
   ]
  },
  {
   "cell_type": "code",
   "execution_count": null,
   "id": "be3c3ac0-8eef-4f26-a099-22e181b3763f",
   "metadata": {
    "tags": []
   },
   "outputs": [],
   "source": [
    "a"
   ]
  },
  {
   "cell_type": "code",
   "execution_count": null,
   "id": "e1f7f72c-e330-449b-8ce8-98b23e6f9b57",
   "metadata": {
    "tags": []
   },
   "outputs": [],
   "source": [
    "a = (3)#如果想创建一个含3 的元组？结果并没有产生一个元组，因为算术表达式（3）=3"
   ]
  },
  {
   "cell_type": "code",
   "execution_count": null,
   "id": "60288265-2d35-4fab-adcb-c958327e5d52",
   "metadata": {
    "tags": []
   },
   "outputs": [],
   "source": [
    "a"
   ]
  },
  {
   "cell_type": "code",
   "execution_count": null,
   "id": "fcdebb82-5402-4594-8675-ec0926b6257a",
   "metadata": {
    "tags": []
   },
   "outputs": [],
   "source": [
    "a = (3,)#加上一个，就可以成为元组哦"
   ]
  },
  {
   "cell_type": "code",
   "execution_count": null,
   "id": "130e2e33-a3ec-4737-a013-ff4eb98fcaae",
   "metadata": {
    "tags": []
   },
   "outputs": [],
   "source": [
    "a"
   ]
  },
  {
   "cell_type": "markdown",
   "id": "46c88907-04b0-482a-8975-00ce80e21b18",
   "metadata": {},
   "source": [
    "补充字符串的内容：回忆（f格式化字符串，raw不转义字符串，长字符串）"
   ]
  },
  {
   "cell_type": "code",
   "execution_count": null,
   "id": "05f49bf4-c776-4505-a08a-c3cf9fe56806",
   "metadata": {},
   "outputs": [],
   "source": [
    "long_string = '''hello\n",
    "hello\n",
    "hello'''\n",
    "long_string"
   ]
  },
  {
   "cell_type": "code",
   "execution_count": null,
   "id": "48b04cb3-752d-4bff-940e-5ce53357681c",
   "metadata": {
    "tags": []
   },
   "outputs": [],
   "source": [
    "str = 'hello world'"
   ]
  },
  {
   "cell_type": "code",
   "execution_count": null,
   "id": "00d66dd0-6523-45fa-9078-c9ae5ac7fa6f",
   "metadata": {
    "tags": []
   },
   "outputs": [],
   "source": [
    "str.upper()"
   ]
  },
  {
   "cell_type": "code",
   "execution_count": null,
   "id": "e62249c3-63be-44ca-ba75-fbd53806f872",
   "metadata": {
    "tags": []
   },
   "outputs": [],
   "source": [
    "str = str.upper()#实际不可改变，相当于重新贴标签"
   ]
  },
  {
   "cell_type": "code",
   "execution_count": null,
   "id": "693762ab-1ca3-4b0c-b627-9c52c7bd7638",
   "metadata": {
    "tags": []
   },
   "outputs": [],
   "source": [
    "str"
   ]
  },
  {
   "cell_type": "code",
   "execution_count": null,
   "id": "4b72b908-392e-4806-8a4b-969cc6ff5ab2",
   "metadata": {
    "tags": []
   },
   "outputs": [],
   "source": [
    "str.lower()"
   ]
  },
  {
   "cell_type": "code",
   "execution_count": null,
   "id": "1ab388d9-d5b1-494a-ac7f-cf08b61ccfe6",
   "metadata": {
    "tags": []
   },
   "outputs": [],
   "source": [
    "str.title()"
   ]
  },
  {
   "cell_type": "code",
   "execution_count": null,
   "id": "271eab1a-a4ca-453e-9f59-8390ccee8d6f",
   "metadata": {
    "tags": []
   },
   "outputs": [],
   "source": [
    "len(str)"
   ]
  },
  {
   "cell_type": "code",
   "execution_count": null,
   "id": "1d323f64-2817-4381-ba79-600ac253b008",
   "metadata": {
    "tags": []
   },
   "outputs": [],
   "source": [
    "max(str)"
   ]
  },
  {
   "cell_type": "code",
   "execution_count": null,
   "id": "3cb1f45a-d1d9-48eb-870b-4227450557f5",
   "metadata": {
    "tags": []
   },
   "outputs": [],
   "source": [
    "min(str)"
   ]
  },
  {
   "cell_type": "code",
   "execution_count": null,
   "id": "9c338d81-428d-4791-9234-472aae1dc029",
   "metadata": {
    "tags": []
   },
   "outputs": [],
   "source": [
    "a = 3\n",
    "b = 4\n",
    "print(f'{a} + {b} = {a + b}')"
   ]
  },
  {
   "cell_type": "code",
   "execution_count": null,
   "id": "f40e7b70-b069-4fc6-9090-db710032e1f6",
   "metadata": {},
   "outputs": [],
   "source": [
    "a"
   ]
  },
  {
   "cell_type": "code",
   "execution_count": null,
   "id": "9444f7b4-4be1-4a6e-bfb1-efa996612ed0",
   "metadata": {
    "tags": []
   },
   "outputs": [],
   "source": [
    "'hello'.center(11)#长度拉伸为11，hello放中间，默认用空格填充"
   ]
  },
  {
   "cell_type": "code",
   "execution_count": null,
   "id": "177cffe2-24d7-42c1-af92-2bb111ae86a6",
   "metadata": {
    "tags": []
   },
   "outputs": [],
   "source": [
    "print('*' * 40)\n",
    "print('hello'.center(38).center(40,'*'))#用*填充\n",
    "print('world'.center(38).center(40,'*'))\n",
    "print('*' * 40)\n",
    "\n"
   ]
  },
  {
   "cell_type": "code",
   "execution_count": null,
   "id": "217b1330-5618-4d4e-9d77-8d55f6560aed",
   "metadata": {
    "tags": []
   },
   "outputs": [],
   "source": [
    "#路径path\n",
    "file_path = r'd:\\pythonprojects\\notebooks\\strings.ipynb'\n",
    "#怎么提取拓展名？最右开始找rfind，找到点\n",
    "index = file_path.rfind('.')"
   ]
  },
  {
   "cell_type": "code",
   "execution_count": null,
   "id": "752de2e9-c726-4285-bf45-56b5a440be0f",
   "metadata": {
    "tags": []
   },
   "outputs": [],
   "source": [
    "index"
   ]
  },
  {
   "cell_type": "code",
   "execution_count": null,
   "id": "aecd2c11-5598-4688-8fb4-4a7206846865",
   "metadata": {
    "tags": []
   },
   "outputs": [],
   "source": [
    "#拓展名，从index下一位开始到结束\n",
    "file_path[index + 1:]"
   ]
  },
  {
   "cell_type": "code",
   "execution_count": null,
   "id": "5e193c13-1f6b-4748-a5f6-e0185173e02a",
   "metadata": {
    "tags": []
   },
   "outputs": [],
   "source": [
    "#找文件名,最右开始找rfind，找到\\\n",
    "start = file_path.rfind('\\\\')#转义字符再转义，也可以用(r'\\')"
   ]
  },
  {
   "cell_type": "code",
   "execution_count": null,
   "id": "44a61a01-13cf-4a66-9e1f-2814baf4a5c6",
   "metadata": {
    "tags": []
   },
   "outputs": [],
   "source": [
    "start"
   ]
  },
  {
   "cell_type": "code",
   "execution_count": null,
   "id": "797b063d-2e30-4b38-9c06-ac56ef871ebb",
   "metadata": {
    "tags": []
   },
   "outputs": [],
   "source": [
    "file_path[start+1 : index]"
   ]
  },
  {
   "cell_type": "code",
   "execution_count": null,
   "id": "c40b71d2-b926-4eb8-827d-a43ede84279c",
   "metadata": {
    "tags": []
   },
   "outputs": [],
   "source": [
    "#找文件夹\n",
    "file_path[:start]"
   ]
  },
  {
   "cell_type": "markdown",
   "id": "028caf64-df76-457d-9a6b-5cf2995ee111",
   "metadata": {},
   "source": [
    "统一输入：比如yes有多种写法Yes...，都先转化成YES，再比较"
   ]
  },
  {
   "cell_type": "markdown",
   "id": "03aabe4c-8cf2-4b24-ad82-b09c47388656",
   "metadata": {},
   "source": [
    "split"
   ]
  },
  {
   "cell_type": "code",
   "execution_count": null,
   "id": "4cbdda30-95e7-4b90-9a26-1cbca83a89a7",
   "metadata": {
    "tags": []
   },
   "outputs": [],
   "source": [
    "#split\n",
    "file_path.split('\\\\')#用\\分开来"
   ]
  },
  {
   "cell_type": "code",
   "execution_count": null,
   "id": "9acb82a3-eeb2-444f-b127-c53b5fed4ab0",
   "metadata": {
    "tags": []
   },
   "outputs": [],
   "source": [
    "#前面有\n",
    "list('hello')#list初始化，分开"
   ]
  },
  {
   "cell_type": "markdown",
   "id": "793515b1-26c6-491e-90de-4ed2ae77592b",
   "metadata": {},
   "source": [
    "replace替换"
   ]
  },
  {
   "cell_type": "code",
   "execution_count": null,
   "id": "8c06c9e9-ea5d-4951-b933-4fb990ee23f1",
   "metadata": {
    "tags": []
   },
   "outputs": [],
   "source": [
    "'hello,##NAME##'.replace('##NAME##','yang')"
   ]
  },
  {
   "cell_type": "markdown",
   "id": "fe90f880-6491-408d-89b3-f28d51d3ade2",
   "metadata": {
    "tags": []
   },
   "source": [
    "bytearray字节字符串？，本质上也可以表示字符串\n",
    "但是它是可变的。用于“文本编码”。Unicode??"
   ]
  },
  {
   "cell_type": "code",
   "execution_count": null,
   "id": "4d8045c5-5c10-4611-8e22-cc58b1bbf3f8",
   "metadata": {
    "tags": []
   },
   "outputs": [],
   "source": [
    "'hello'.encode('ASCII')"
   ]
  },
  {
   "cell_type": "markdown",
   "id": "5db089c4-c624-413a-b726-709c2cedee66",
   "metadata": {},
   "source": [
    "#前面的b代表它不是标准字符串，而是bytearray"
   ]
  },
  {
   "cell_type": "code",
   "execution_count": null,
   "id": "83c007fe-fe19-42da-909f-ab591087b235",
   "metadata": {
    "tags": []
   },
   "outputs": [],
   "source": [
    "\"你好\".encode('ASCII')#ASCII码不能编码中文。coeco=code+ecode编解码"
   ]
  },
  {
   "cell_type": "code",
   "execution_count": null,
   "id": "b98b7993-a149-4c0c-8d1c-05372d9bd1c4",
   "metadata": {
    "tags": []
   },
   "outputs": [],
   "source": [
    "\"你好\".encode('MBCS')#MBCS可以对中文编码"
   ]
  },
  {
   "cell_type": "markdown",
   "id": "4d63bb90-bfef-4ef2-a214-1bd40a3ba7f4",
   "metadata": {},
   "source": [
    "MBCS把每个中文字翻译成两个字节"
   ]
  },
  {
   "cell_type": "code",
   "execution_count": null,
   "id": "6458d9a7-c9fd-4113-a88c-d52135d6e0c9",
   "metadata": {
    "tags": []
   },
   "outputs": [],
   "source": [
    "\"你好\".encode('UTF-8')"
   ]
  },
  {
   "cell_type": "code",
   "execution_count": 45,
   "id": "51545828-7819-44cf-b190-0c92d8d4ecf1",
   "metadata": {
    "tags": []
   },
   "outputs": [
    {
     "data": {
      "text/plain": [
       "b'hello'"
      ]
     },
     "execution_count": 45,
     "metadata": {},
     "output_type": "execute_result"
    }
   ],
   "source": [
    "\"hello\".encode('UTF-8')#UTF-8每表达一个字符至少用8位（1个字节），而汉字不够"
   ]
  },
  {
   "cell_type": "code",
   "execution_count": 43,
   "id": "35a5ab6d-9a0c-4195-8705-d83c94095111",
   "metadata": {
    "tags": []
   },
   "outputs": [
    {
     "data": {
      "text/plain": [
       "b'\\xff\\xfe`O}Y'"
      ]
     },
     "execution_count": 43,
     "metadata": {},
     "output_type": "execute_result"
    }
   ],
   "source": [
    "\"你好\".encode('UTF-16')#'UTF-16'每表达一个字符至少两个字节\n",
    "#表示“你好”还是6个字节，只不过后面四个小于128，可以用单个符号表示\n",
    "#little endian,big endion.??大头编码还是小头编码\n",
    "#可以看出py是大头编码\\xff大于\\xfe大于....."
   ]
  },
  {
   "cell_type": "code",
   "execution_count": 44,
   "id": "5dd018c6-0d8b-4fbb-bf13-e5497d21f5f4",
   "metadata": {
    "tags": []
   },
   "outputs": [
    {
     "data": {
      "text/plain": [
       "b'\\xff\\xfeh\\x00e\\x00l\\x00l\\x00o\\x00'"
      ]
     },
     "execution_count": 44,
     "metadata": {},
     "output_type": "execute_result"
    }
   ],
   "source": [
    "\"hello\".encode('UTF-16')#UTF-16  "
   ]
  },
  {
   "cell_type": "code",
   "execution_count": null,
   "id": "4bded9a4-92ca-46ca-a3b3-c78b4c8c867a",
   "metadata": {},
   "outputs": [],
   "source": []
  }
 ],
 "metadata": {
  "kernelspec": {
   "display_name": "Python 3 (ipykernel)",
   "language": "python",
   "name": "python3"
  },
  "language_info": {
   "codemirror_mode": {
    "name": "ipython",
    "version": 3
   },
   "file_extension": ".py",
   "mimetype": "text/x-python",
   "name": "python",
   "nbconvert_exporter": "python",
   "pygments_lexer": "ipython3",
   "version": "3.11.4"
  }
 },
 "nbformat": 4,
 "nbformat_minor": 5
}
