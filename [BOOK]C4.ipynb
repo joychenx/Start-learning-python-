{
 "cells": [
  {
   "cell_type": "markdown",
   "id": "c44cd2e8-bcfb-4556-b619-fb4d6f07f74a",
   "metadata": {
    "tags": []
   },
   "source": [
    "第四章 条件和递归"
   ]
  },
  {
   "cell_type": "code",
   "execution_count": 5,
   "id": "c4b1828f-6111-4ca3-8297-d8aea44aa8b6",
   "metadata": {
    "tags": []
   },
   "outputs": [
    {
     "data": {
      "text/plain": [
       "bool"
      ]
     },
     "execution_count": 5,
     "metadata": {},
     "output_type": "execute_result"
    }
   ],
   "source": [
    "type(True)"
   ]
  },
  {
   "cell_type": "code",
   "execution_count": 6,
   "id": "500efbd3-a90b-45cb-a0b8-b21929bddc7e",
   "metadata": {
    "tags": []
   },
   "outputs": [
    {
     "data": {
      "text/plain": [
       "bool"
      ]
     },
     "execution_count": 6,
     "metadata": {},
     "output_type": "execute_result"
    }
   ],
   "source": [
    "type(False)"
   ]
  },
  {
   "cell_type": "code",
   "execution_count": 7,
   "id": "cecbc458-6113-4e3e-baa6-48a8cd93e890",
   "metadata": {
    "tags": []
   },
   "outputs": [
    {
     "data": {
      "text/plain": [
       "True"
      ]
     },
     "execution_count": 7,
     "metadata": {},
     "output_type": "execute_result"
    }
   ],
   "source": [
    "x = 0\n",
    "y = 1\n",
    "x != y"
   ]
  },
  {
   "cell_type": "code",
   "execution_count": 8,
   "id": "936d6e63-81b1-4c52-85b3-d5a465010753",
   "metadata": {
    "tags": []
   },
   "outputs": [
    {
     "data": {
      "text/plain": [
       "0"
      ]
     },
     "execution_count": 8,
     "metadata": {},
     "output_type": "execute_result"
    }
   ],
   "source": [
    "x and y"
   ]
  },
  {
   "cell_type": "code",
   "execution_count": 9,
   "id": "3a343bcc-2012-49fe-a57e-04613cf843df",
   "metadata": {
    "tags": []
   },
   "outputs": [
    {
     "data": {
      "text/plain": [
       "1"
      ]
     },
     "execution_count": 9,
     "metadata": {},
     "output_type": "execute_result"
    }
   ],
   "source": [
    "x or y"
   ]
  },
  {
   "cell_type": "code",
   "execution_count": 10,
   "id": "7e944b70-6762-4203-9638-e266b7863d09",
   "metadata": {
    "tags": []
   },
   "outputs": [
    {
     "data": {
      "text/plain": [
       "False"
      ]
     },
     "execution_count": 10,
     "metadata": {},
     "output_type": "execute_result"
    }
   ],
   "source": [
    "not y"
   ]
  },
  {
   "cell_type": "code",
   "execution_count": 11,
   "id": "a8b94254-96b8-460c-8167-63acb2604e89",
   "metadata": {
    "tags": []
   },
   "outputs": [
    {
     "data": {
      "text/plain": [
       "True"
      ]
     },
     "execution_count": 11,
     "metadata": {},
     "output_type": "execute_result"
    }
   ],
   "source": [
    "not x"
   ]
  },
  {
   "cell_type": "code",
   "execution_count": 2,
   "id": "b6a5e40e-c568-4499-a847-e02babee80f3",
   "metadata": {
    "tags": []
   },
   "outputs": [
    {
     "name": "stdout",
     "output_type": "stream",
     "text": [
      "0是偶数.\n",
      "2是偶数.\n",
      "4是偶数.\n",
      "6是偶数.\n",
      "8是偶数.\n",
      "10是偶数.\n"
     ]
    }
   ],
   "source": [
    "for y in range(0,11):\n",
    "    if y % 2==0:\n",
    "        print(f'{y}是偶数.')\n",
    "    else:\n",
    "        pass#没想好写什么可以用pass占位"
   ]
  },
  {
   "cell_type": "code",
   "execution_count": 8,
   "id": "2365c369-69fd-4dee-af2f-88c176f43511",
   "metadata": {},
   "outputs": [
    {
     "name": "stdin",
     "output_type": "stream",
     "text": [
      "Please input yor gender. female\n"
     ]
    },
    {
     "name": "stdout",
     "output_type": "stream",
     "text": [
      "0\n"
     ]
    }
   ],
   "source": [
    "s = input('Please input yor gender.') \n",
    "if s == 'male':\n",
    "    print(1)\n",
    "elif s == 'female':\n",
    "    print(0)\n",
    "else:\n",
    "    print('?')"
   ]
  },
  {
   "cell_type": "markdown",
   "id": "ef24f8bd-b536-46bd-95d7-d148d942a5c1",
   "metadata": {},
   "source": [
    "elif(else if);字符串可以用==直接比较"
   ]
  },
  {
   "cell_type": "code",
   "execution_count": 42,
   "id": "a9b1d5b3-5523-436c-acee-fb1d87e2c0e8",
   "metadata": {
    "tags": []
   },
   "outputs": [
    {
     "name": "stdin",
     "output_type": "stream",
     "text": [
      "Please input year. 1994\n",
      "Please input month. 2\n",
      "Please input day. 20\n"
     ]
    },
    {
     "name": "stdout",
     "output_type": "stream",
     "text": [
      "1994 2 20\n",
      "<class 'str'>\n",
      "<class 'str'>\n",
      "<class 'str'>\n"
     ]
    }
   ],
   "source": [
    "year = input('Please input year.')\n",
    "month = input('Please input month.')\n",
    "day = input('Please input day.')\n",
    "print(year,month,day)\n",
    "print (type(year))\n",
    "print (type(month))\n",
    "print (type(day))\n",
    "if year == 1994:#无法实现。1994竟然被判断成str???为什么？有办法让它识别成数字吗？试试初始化\n",
    "    if month == 2 :\n",
    "        if day == 20:\n",
    "            print('Happy Birthday!')#能不嵌套就不嵌套，可以用and"
   ]
  },
  {
   "cell_type": "code",
   "execution_count": 44,
   "id": "ab506e63-4286-4a3b-80cb-0d2001bc853a",
   "metadata": {
    "tags": []
   },
   "outputs": [
    {
     "name": "stdin",
     "output_type": "stream",
     "text": [
      "Please input year. 1986\n",
      "Please input month. 4\n",
      "Please input day. 10\n"
     ]
    },
    {
     "name": "stdout",
     "output_type": "stream",
     "text": [
      "Happy Birthday!\n"
     ]
    }
   ],
   "source": [
    "year = input('Please input year.')\n",
    "month = input('Please input month.')\n",
    "day = input('Please input day.')\n",
    "if year == '1986' and month == '4' and day == '10':\n",
    "            print('Happy Birthday!')\n",
    "else:\n",
    "    print('Happy everyday!')"
   ]
  },
  {
   "cell_type": "code",
   "execution_count": 45,
   "id": "4bc714f0-f7a0-47cd-bbb4-89bb611ec28b",
   "metadata": {},
   "outputs": [
    {
     "name": "stdin",
     "output_type": "stream",
     "text": [
      "Please input year. 1984\n",
      "Please input month. 4\n",
      "Please input day. 11\n"
     ]
    },
    {
     "name": "stdout",
     "output_type": "stream",
     "text": [
      "<class 'str'>\n",
      "Happy everyday!\n"
     ]
    }
   ],
   "source": [
    "year = 0#初始化没用\n",
    "month = 0 \n",
    "day = 0\n",
    "year = input('Please input year.')\n",
    "month = input('Please input month.')\n",
    "day = input('Please input day.')\n",
    "print (type(year))\n",
    "if year == 1984 and month == 4 and day == 11:\n",
    "            print('Happy Birthday!')\n",
    "else:\n",
    "    print('Happy everyday!')"
   ]
  },
  {
   "cell_type": "code",
   "execution_count": 53,
   "id": "a90073b6-aba4-4b45-b64b-5a9e6bb8fb01",
   "metadata": {},
   "outputs": [
    {
     "name": "stdin",
     "output_type": "stream",
     "text": [
      "Please input year. 1984\n"
     ]
    },
    {
     "ename": "TypeError",
     "evalue": "'year' is an invalid keyword argument for int()",
     "output_type": "error",
     "traceback": [
      "\u001b[1;31m---------------------------------------------------------------------------\u001b[0m",
      "\u001b[1;31mTypeError\u001b[0m                                 Traceback (most recent call last)",
      "Cell \u001b[1;32mIn[53], line 1\u001b[0m\n\u001b[1;32m----> 1\u001b[0m \u001b[38;5;28mint\u001b[39m(year \u001b[38;5;241m=\u001b[39m \u001b[38;5;28minput\u001b[39m(\u001b[38;5;124m'\u001b[39m\u001b[38;5;124mPlease input year.\u001b[39m\u001b[38;5;124m'\u001b[39m))\n\u001b[0;32m      2\u001b[0m \u001b[38;5;28mint\u001b[39m(month \u001b[38;5;241m=\u001b[39m \u001b[38;5;28minput\u001b[39m(\u001b[38;5;124m'\u001b[39m\u001b[38;5;124mPlease input month.\u001b[39m\u001b[38;5;124m'\u001b[39m))\n\u001b[0;32m      3\u001b[0m \u001b[38;5;28mint\u001b[39m(day \u001b[38;5;241m=\u001b[39m \u001b[38;5;28minput\u001b[39m(\u001b[38;5;124m'\u001b[39m\u001b[38;5;124mPlease input day.\u001b[39m\u001b[38;5;124m'\u001b[39m))\n",
      "\u001b[1;31mTypeError\u001b[0m: 'year' is an invalid keyword argument for int()"
     ]
    }
   ],
   "source": [
    "int(year = input('Please input year.'))\n",
    "int(month = input('Please input month.'))\n",
    "int(day = input('Please input day.'))\n",
    "print (type(year))\n",
    "if year == 1984 and month == 4 and day == 11:\n",
    "            print('Happy Birthday!')\n",
    "else:\n",
    "    print('Happy everyday!')"
   ]
  },
  {
   "cell_type": "code",
   "execution_count": 54,
   "id": "701ad070-ad3d-428b-9b16-057fc9c702ca",
   "metadata": {
    "tags": []
   },
   "outputs": [
    {
     "ename": "SyntaxError",
     "evalue": "cannot assign to function call here. Maybe you meant '==' instead of '='? (952808749.py, line 1)",
     "output_type": "error",
     "traceback": [
      "\u001b[1;36m  Cell \u001b[1;32mIn[54], line 1\u001b[1;36m\u001b[0m\n\u001b[1;33m    int(year) = input('Please input year.')\u001b[0m\n\u001b[1;37m    ^\u001b[0m\n\u001b[1;31mSyntaxError\u001b[0m\u001b[1;31m:\u001b[0m cannot assign to function call here. Maybe you meant '==' instead of '='?\n"
     ]
    }
   ],
   "source": [
    "int(year) = input('Please input year.')\n",
    "int(mouth) = input('Please input month.')\n",
    "int(day) = input('Please input day.')\n",
    "print (type(year))\n",
    "if year == 1984 and month == 4 and day == 11:\n",
    "            print('Happy Birthday!')\n",
    "else:\n",
    "    print('Happy everyday!')"
   ]
  },
  {
   "cell_type": "code",
   "execution_count": 52,
   "id": "77253560-1bda-42c5-81df-dd55e170116e",
   "metadata": {
    "tags": []
   },
   "outputs": [
    {
     "name": "stdin",
     "output_type": "stream",
     "text": [
      "Please input year. 1984\n",
      "Please input month: 4\n",
      "Please input day: 11\n"
     ]
    },
    {
     "name": "stdout",
     "output_type": "stream",
     "text": [
      "Happy Birthday!\n"
     ]
    }
   ],
   "source": [
    "#强制转换类型\n",
    "year = int(input('Please input year.'))\n",
    "month = int(input('Please input month:'))\n",
    "day = int(input('Please input day:'))\n",
    "# print(type(year))\n",
    "# print(type(month))\n",
    "# print(type(day))\n",
    "if year == 1984 and month == 4 and day == 11:\n",
    "    print('Happy Birthday!')\n",
    "else:\n",
    "    print('Happy everyday!')"
   ]
  },
  {
   "cell_type": "code",
   "execution_count": 57,
   "id": "243910b9-386e-4a81-afde-dd79591cfef9",
   "metadata": {
    "tags": []
   },
   "outputs": [
    {
     "name": "stdout",
     "output_type": "stream",
     "text": [
      "10\n",
      "9\n",
      "8\n",
      "7\n",
      "6\n",
      "5\n",
      "4\n",
      "3\n",
      "2\n",
      "1\n",
      "take off\n"
     ]
    }
   ],
   "source": [
    "from time import sleep\n",
    "def cutdown(second):\n",
    "    if second == 0:\n",
    "        print('take off')\n",
    "    else:\n",
    "        print(second)\n",
    "        sleep(1)#1秒\n",
    "        cutdown(second - 1)\n",
    "cutdown(10)"
   ]
  },
  {
   "cell_type": "code",
   "execution_count": 58,
   "id": "b4360bbb-32da-4bca-896e-7f91fdff0dbf",
   "metadata": {
    "tags": []
   },
   "outputs": [],
   "source": [
    "def print_n(s,n):\n",
    "    if n <= 0:\n",
    "        return\n",
    "    print (s)\n",
    "    print_n(s,n - 1)"
   ]
  },
  {
   "cell_type": "code",
   "execution_count": 60,
   "id": "69dba4bf-3fd1-4a08-8ec6-9087e006abbc",
   "metadata": {
    "tags": []
   },
   "outputs": [
    {
     "name": "stdout",
     "output_type": "stream",
     "text": [
      "moving\n",
      "moving\n",
      "moving\n"
     ]
    }
   ],
   "source": [
    "print_n('moving',3)"
   ]
  },
  {
   "cell_type": "markdown",
   "id": "f4595bff-a155-4177-abe4-a1819429d3bf",
   "metadata": {},
   "source": [
    "练习4.2"
   ]
  },
  {
   "cell_type": "code",
   "execution_count": 61,
   "id": "43b8ad2d-54f7-451e-ba96-843e22016ca6",
   "metadata": {
    "tags": []
   },
   "outputs": [],
   "source": [
    "def do_n(f,n):\n",
    "    if n <= 0:\n",
    "        return\n",
    "    f()\n",
    "    do_n(f,n - 1)"
   ]
  },
  {
   "cell_type": "code",
   "execution_count": 62,
   "id": "6a4524bf-4e62-4664-9425-af779ac851a0",
   "metadata": {
    "tags": []
   },
   "outputs": [
    {
     "name": "stdout",
     "output_type": "stream",
     "text": [
      "3\n",
      "2\n",
      "1\n",
      "take off\n"
     ]
    },
    {
     "ename": "TypeError",
     "evalue": "'NoneType' object is not callable",
     "output_type": "error",
     "traceback": [
      "\u001b[1;31m---------------------------------------------------------------------------\u001b[0m",
      "\u001b[1;31mTypeError\u001b[0m                                 Traceback (most recent call last)",
      "Cell \u001b[1;32mIn[62], line 1\u001b[0m\n\u001b[1;32m----> 1\u001b[0m do_n(cutdown(\u001b[38;5;241m3\u001b[39m),\u001b[38;5;241m5\u001b[39m)\n",
      "Cell \u001b[1;32mIn[61], line 4\u001b[0m, in \u001b[0;36mdo_n\u001b[1;34m(f, n)\u001b[0m\n\u001b[0;32m      2\u001b[0m \u001b[38;5;28;01mif\u001b[39;00m n \u001b[38;5;241m<\u001b[39m\u001b[38;5;241m=\u001b[39m \u001b[38;5;241m0\u001b[39m:\n\u001b[0;32m      3\u001b[0m     \u001b[38;5;28;01mreturn\u001b[39;00m\n\u001b[1;32m----> 4\u001b[0m f()\n\u001b[0;32m      5\u001b[0m do_n(f,n \u001b[38;5;241m-\u001b[39m \u001b[38;5;241m1\u001b[39m)\n",
      "\u001b[1;31mTypeError\u001b[0m: 'NoneType' object is not callable"
     ]
    }
   ],
   "source": [
    "do_n(cutdown(3),5)#作为实参的函数这里不能有参数"
   ]
  },
  {
   "cell_type": "code",
   "execution_count": 63,
   "id": "4a4875ed-3dbe-48f6-be03-df8b1644383b",
   "metadata": {
    "tags": []
   },
   "outputs": [
    {
     "name": "stdout",
     "output_type": "stream",
     "text": [
      "moving\n",
      "moving\n",
      "moving\n",
      "moving\n",
      "moving\n"
     ]
    }
   ],
   "source": [
    "def print_name():\n",
    "    print('moving')\n",
    "do_n(print_name,5)"
   ]
  },
  {
   "cell_type": "code",
   "execution_count": 73,
   "id": "cdd844da-c8b4-442c-8aa4-13884b4ca920",
   "metadata": {
    "tags": []
   },
   "outputs": [
    {
     "name": "stdin",
     "output_type": "stream",
     "text": [
      "高速空路上汽车的限速是多少？\n",
      " 120\n"
     ]
    },
    {
     "data": {
      "text/plain": [
       "120"
      ]
     },
     "execution_count": 73,
     "metadata": {},
     "output_type": "execute_result"
    }
   ],
   "source": [
    "prompt='高速空路上汽车的限速是多少？\\n'\n",
    "speed = input(prompt)\n",
    "int(speed)"
   ]
  },
  {
   "cell_type": "code",
   "execution_count": 75,
   "id": "df3d38e5-ab40-46ad-b00f-3d5d9be1a199",
   "metadata": {
    "tags": []
   },
   "outputs": [
    {
     "name": "stdout",
     "output_type": "stream",
     "text": [
      "120\n",
      "<class 'str'>\n"
     ]
    }
   ],
   "source": [
    "print(speed)\n",
    "print(type(speed))"
   ]
  },
  {
   "cell_type": "markdown",
   "id": "4462eee5-a378-4b24-9883-6ce79fa0daf9",
   "metadata": {},
   "source": [
    "类型转换没用？？？？不是的，73行输出的是int型，只是没改变存储为speed的类型"
   ]
  },
  {
   "cell_type": "code",
   "execution_count": 76,
   "id": "0ab3aeae-b9ac-4e3d-9c28-ea7782d43a34",
   "metadata": {
    "tags": []
   },
   "outputs": [
    {
     "name": "stdout",
     "output_type": "stream",
     "text": [
      "<class 'int'>\n"
     ]
    }
   ],
   "source": [
    "speed = int(speed)\n",
    "print(type(speed))"
   ]
  },
  {
   "cell_type": "markdown",
   "id": "9094267f-5de3-440e-b408-386a5127271f",
   "metadata": {},
   "source": [
    "练习4，3"
   ]
  },
  {
   "cell_type": "code",
   "execution_count": 2,
   "id": "ee64f0e6-a75f-4e1d-ac98-7ab95a0e153d",
   "metadata": {
    "tags": []
   },
   "outputs": [],
   "source": [
    "def check_farmat(a,b,c,n):\n",
    "    if n < 2:\n",
    "        print(\"输入n不符合要求。\")\n",
    "    elif a**n+b**n==c**n:\n",
    "        print('天啊，费马竟然出错了')\n",
    "    else:\n",
    "        print('你给的参数无法让式子成立，费马真厉害！')"
   ]
  },
  {
   "cell_type": "code",
   "execution_count": 81,
   "id": "6aef672a-55bc-4367-82d8-8273b3cc4f7a",
   "metadata": {
    "tags": []
   },
   "outputs": [
    {
     "name": "stdin",
     "output_type": "stream",
     "text": [
      "Please input a:\n",
      " 3\n",
      "Please input b:\n",
      " 4\n",
      "Please input c:\n",
      " 5\n",
      "Please input n:\n",
      " 3\n"
     ]
    },
    {
     "name": "stdout",
     "output_type": "stream",
     "text": [
      "你给的参数无法让式子成立，费马真厉害！\n"
     ]
    }
   ],
   "source": [
    "a = int(input('Please input a:\\n'))\n",
    "b = int(input('Please input b:\\n'))\n",
    "c = int(input('Please input c:\\n'))\n",
    "n = int(input('Please input n:\\n'))\n",
    "check_farmat(a,b,c,n)"
   ]
  },
  {
   "cell_type": "code",
   "execution_count": 30,
   "id": "559f95c4-01de-431b-a4e8-e70bc648a1c9",
   "metadata": {
    "tags": []
   },
   "outputs": [
    {
     "name": "stdout",
     "output_type": "stream",
     "text": [
      "3 1 9\n",
      "4\n",
      "你给的参数无法让式子成立，费马真厉害！\n",
      "3 1 7\n",
      "2\n",
      "你给的参数无法让式子成立，费马真厉害！\n",
      "2 2 10\n",
      "2\n",
      "你给的参数无法让式子成立，费马真厉害！\n",
      "3 3 3\n",
      "5\n",
      "你给的参数无法让式子成立，费马真厉害！\n",
      "2 1 6\n",
      "3\n",
      "你给的参数无法让式子成立，费马真厉害！\n",
      "2 2 2\n",
      "5\n",
      "你给的参数无法让式子成立，费马真厉害！\n",
      "5 2 9\n",
      "2\n",
      "你给的参数无法让式子成立，费马真厉害！\n",
      "3 2 7\n",
      "5\n",
      "你给的参数无法让式子成立，费马真厉害！\n",
      "4 1 7\n",
      "5\n",
      "你给的参数无法让式子成立，费马真厉害！\n",
      "5 2 9\n",
      "5\n",
      "你给的参数无法让式子成立，费马真厉害！\n",
      "3 4 9\n",
      "2\n",
      "你给的参数无法让式子成立，费马真厉害！\n",
      "2 3 4\n",
      "5\n",
      "你给的参数无法让式子成立，费马真厉害！\n",
      "2 1 5\n",
      "5\n",
      "你给的参数无法让式子成立，费马真厉害！\n",
      "5 1 6\n",
      "4\n",
      "你给的参数无法让式子成立，费马真厉害！\n",
      "3 5 10\n",
      "3\n",
      "你给的参数无法让式子成立，费马真厉害！\n",
      "2 4 5\n",
      "4\n",
      "你给的参数无法让式子成立，费马真厉害！\n",
      "1 2 6\n",
      "3\n",
      "你给的参数无法让式子成立，费马真厉害！\n",
      "5 5 8\n",
      "2\n",
      "你给的参数无法让式子成立，费马真厉害！\n",
      "3 3 4\n",
      "4\n",
      "你给的参数无法让式子成立，费马真厉害！\n",
      "5 5 5\n",
      "5\n",
      "你给的参数无法让式子成立，费马真厉害！\n",
      "5 2 8\n",
      "5\n",
      "你给的参数无法让式子成立，费马真厉害！\n",
      "3 3 3\n",
      "4\n",
      "你给的参数无法让式子成立，费马真厉害！\n",
      "1 4 8\n",
      "3\n",
      "你给的参数无法让式子成立，费马真厉害！\n",
      "5 1 7\n",
      "3\n",
      "你给的参数无法让式子成立，费马真厉害！\n",
      "1 3 7\n",
      "5\n",
      "你给的参数无法让式子成立，费马真厉害！\n",
      "5 4 6\n",
      "5\n",
      "你给的参数无法让式子成立，费马真厉害！\n",
      "4 5 8\n",
      "5\n",
      "你给的参数无法让式子成立，费马真厉害！\n",
      "5 5 8\n",
      "2\n",
      "你给的参数无法让式子成立，费马真厉害！\n",
      "4 2 4\n",
      "3\n",
      "你给的参数无法让式子成立，费马真厉害！\n",
      "1 1 4\n",
      "3\n",
      "你给的参数无法让式子成立，费马真厉害！\n",
      "3 5 9\n",
      "2\n",
      "你给的参数无法让式子成立，费马真厉害！\n",
      "4 2 4\n",
      "2\n",
      "你给的参数无法让式子成立，费马真厉害！\n",
      "5 5 8\n",
      "4\n",
      "你给的参数无法让式子成立，费马真厉害！\n",
      "2 5 7\n",
      "2\n",
      "你给的参数无法让式子成立，费马真厉害！\n",
      "3 4 10\n",
      "3\n",
      "你给的参数无法让式子成立，费马真厉害！\n",
      "4 5 10\n",
      "5\n",
      "你给的参数无法让式子成立，费马真厉害！\n",
      "5 3 5\n",
      "3\n",
      "你给的参数无法让式子成立，费马真厉害！\n",
      "5 4 6\n",
      "2\n",
      "你给的参数无法让式子成立，费马真厉害！\n",
      "5 1 5\n",
      "3\n",
      "你给的参数无法让式子成立，费马真厉害！\n",
      "1 5 6\n",
      "3\n",
      "你给的参数无法让式子成立，费马真厉害！\n",
      "1 5 6\n",
      "5\n",
      "你给的参数无法让式子成立，费马真厉害！\n",
      "2 2 10\n",
      "3\n",
      "你给的参数无法让式子成立，费马真厉害！\n",
      "1 5 6\n",
      "4\n",
      "你给的参数无法让式子成立，费马真厉害！\n",
      "1 4 4\n",
      "2\n",
      "你给的参数无法让式子成立，费马真厉害！\n",
      "5 4 7\n",
      "3\n",
      "你给的参数无法让式子成立，费马真厉害！\n",
      "3 1 5\n",
      "3\n",
      "你给的参数无法让式子成立，费马真厉害！\n",
      "5 1 8\n",
      "4\n",
      "你给的参数无法让式子成立，费马真厉害！\n",
      "2 5 6\n",
      "5\n",
      "你给的参数无法让式子成立，费马真厉害！\n",
      "1 4 9\n",
      "5\n",
      "你给的参数无法让式子成立，费马真厉害！\n",
      "5 4 8\n",
      "4\n",
      "你给的参数无法让式子成立，费马真厉害！\n"
     ]
    }
   ],
   "source": [
    "import random\n",
    "for x in range(0,50):\n",
    "    a = random.randint(1,5)\n",
    "    b = random.randint(1,5)\n",
    "    print(a,b,end=' ')\n",
    "    c = 0\n",
    "    while (a > c) or (b > c):\n",
    "        c = random.randint(1,10)\n",
    "    print(c)\n",
    "    n = random.randint(2,5)\n",
    "    print(n)\n",
    "    check_farmat(a,b,c,n)"
   ]
  },
  {
   "cell_type": "code",
   "execution_count": 37,
   "id": "24085538-f21f-47e6-9d2c-6d9c995d4822",
   "metadata": {},
   "outputs": [],
   "source": [
    "def is_triangle(a,b,c):\n",
    "    if a < b:\n",
    "        a , b = b , a\n",
    "        if c > b:\n",
    "            b , c = c , b\n",
    "            if b > a:\n",
    "                a , b = b , a\n",
    "    print(a , b , c)\n",
    "    if a < b + c:\n",
    "        print(\"triangel\")\n",
    "    else:\n",
    "        print('fail')"
   ]
  },
  {
   "cell_type": "code",
   "execution_count": 38,
   "id": "5e4d25cc-bd19-4e6a-b2aa-1e5d26f94951",
   "metadata": {
    "tags": []
   },
   "outputs": [
    {
     "name": "stdout",
     "output_type": "stream",
     "text": [
      "10 8 2\n",
      "fail\n"
     ]
    }
   ],
   "source": [
    "is_triangle(2, 8 ,10)"
   ]
  },
  {
   "cell_type": "code",
   "execution_count": 39,
   "id": "40bbfbac-5e96-4fd3-8ec9-b99c6dbfbbb8",
   "metadata": {
    "tags": []
   },
   "outputs": [
    {
     "name": "stdout",
     "output_type": "stream",
     "text": [
      "9 8 2\n",
      "triangel\n"
     ]
    }
   ],
   "source": [
    "is_triangle(2, 8 ,9)"
   ]
  },
  {
   "cell_type": "code",
   "execution_count": null,
   "id": "2364f427-17c9-4b4b-9471-9037e12cdb40",
   "metadata": {},
   "outputs": [],
   "source": []
  }
 ],
 "metadata": {
  "kernelspec": {
   "display_name": "Python 3 (ipykernel)",
   "language": "python",
   "name": "python3"
  },
  "language_info": {
   "codemirror_mode": {
    "name": "ipython",
    "version": 3
   },
   "file_extension": ".py",
   "mimetype": "text/x-python",
   "name": "python",
   "nbconvert_exporter": "python",
   "pygments_lexer": "ipython3",
   "version": "3.11.4"
  }
 },
 "nbformat": 4,
 "nbformat_minor": 5
}
